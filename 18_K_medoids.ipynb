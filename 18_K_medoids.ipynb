{
  "nbformat": 4,
  "nbformat_minor": 0,
  "metadata": {
    "colab": {
      "provenance": [],
      "authorship_tag": "ABX9TyMjcpgybTSrunuPPAp+90rF",
      "include_colab_link": true
    },
    "kernelspec": {
      "name": "python3",
      "display_name": "Python 3"
    },
    "language_info": {
      "name": "python"
    }
  },
  "cells": [
    {
      "cell_type": "markdown",
      "metadata": {
        "id": "view-in-github",
        "colab_type": "text"
      },
      "source": [
        "<a href=\"https://colab.research.google.com/github/emamanni/AnalisiDeiDati24-25/blob/main/18_K_medoids.ipynb\" target=\"_parent\"><img src=\"https://colab.research.google.com/assets/colab-badge.svg\" alt=\"Open In Colab\"/></a>"
      ]
    },
    {
      "cell_type": "markdown",
      "source": [
        "# Algoritmo $K$-medoids\n",
        "\n",
        "In questo notebook si utilizza l'algoritmo $K$-medoids per clusterizzare un dataset contenente $m=15$ osservazioni e $n=5$ feature miste (2 numeriche e 3 categoriche).\n",
        "\n",
        "Come metrica di distanza utilizziamo Gower, dove:\n",
        "\n",
        "$$\n",
        "d_{\\mathrm{gower}} = 1 - s_{\\mathrm{gower}}.\n",
        "$$\n",
        "\n",
        "Per il calcolo della matrice delle distanze utilizzeremo la libreria di Python `gower`, che considera pesi uguali per tutte le feature e restituisce direttamente la distanzarestituisce direttamente la distanza, senza necessità di effettuare manualmente la trasformazione.\n",
        "\n",
        "Inoltre, per quanto riguarda l'algoritmo $K$-medoids, utilizzeremo l'implementazione presente nella libreria `pyclustering`."
      ],
      "metadata": {
        "id": "hqJxRKcU3c82"
      }
    },
    {
      "cell_type": "code",
      "source": [
        "# \"Montiamo\" il drive per poter accedere al file\n",
        "from google.colab import drive\n",
        "drive.mount(\"/content/drive\", force_remount=True)\n",
        "\n",
        "import os\n",
        "\n",
        "# Percorso alla directory che contiene i file da utilizzare\n",
        "# Percorso da modificare in base alla propria macchina\n",
        "folder_path = '/content/drive/MyDrive/Colab Notebooks/Notebook Corso Analisi dei Dati/FileDiSupporto'"
      ],
      "metadata": {
        "colab": {
          "base_uri": "https://localhost:8080/"
        },
        "id": "2ElVZI_gQufX",
        "outputId": "24fa262d-85a0-4285-e6fd-b605c28a246a"
      },
      "execution_count": null,
      "outputs": [
        {
          "output_type": "stream",
          "name": "stdout",
          "text": [
            "Mounted at /content/drive\n"
          ]
        }
      ]
    },
    {
      "cell_type": "code",
      "source": [
        "import pandas as pd\n",
        "\n",
        "file_path_csv = os.path.join(folder_path, 'customers.csv')\n",
        "\n",
        "# leggiamo il dataset\n",
        "data = pd.read_csv(file_path_csv, header=0)\n",
        "\n",
        "print(data)"
      ],
      "metadata": {
        "id": "znMMhfTdQ48a",
        "colab": {
          "base_uri": "https://localhost:8080/"
        },
        "outputId": "8ba0c72c-baaf-4077-a26e-ad6a22bdaab8"
      },
      "execution_count": null,
      "outputs": [
        {
          "output_type": "stream",
          "name": "stdout",
          "text": [
            "    Customer  Age  Gender      Education Level Marital Status  Income\n",
            "0          1   35    Male    Bachelor's Degree        Married   50000\n",
            "1          2   28  Female  High School Diploma         Single   40000\n",
            "2          3   42  Female      Master's Degree        Married   70000\n",
            "3          4   31    Male    Bachelor's Degree         Single   45000\n",
            "4          5   55    Male  High School Diploma        Married   60000\n",
            "5          6   38  Female    Bachelor's Degree         Single   55000\n",
            "6          7   25    Male  High School Diploma         Single   35000\n",
            "7          8   40  Female     Doctorate Degree        Married   80000\n",
            "8          9   33    Male      Master's Degree        Married   75000\n",
            "9         10   29  Female    Bachelor's Degree        Married   65000\n",
            "10        11   45    Male  High School Diploma         Single   55000\n",
            "11        12   37  Female    Bachelor's Degree        Married   70000\n",
            "12        13   50    Male      Master's Degree         Single   90000\n",
            "13        14   26  Female  High School Diploma         Single   30000\n",
            "14        15   48    Male    Bachelor's Degree        Married   85000\n"
          ]
        }
      ]
    },
    {
      "cell_type": "code",
      "source": [
        "!pip install gower\n",
        "!pip install pyclustering"
      ],
      "metadata": {
        "colab": {
          "base_uri": "https://localhost:8080/"
        },
        "id": "lq62kwvqRelJ",
        "outputId": "278a1fe4-0b3c-4135-c25c-dc10dda94a3d"
      },
      "execution_count": null,
      "outputs": [
        {
          "output_type": "stream",
          "name": "stdout",
          "text": [
            "Requirement already satisfied: gower in /usr/local/lib/python3.11/dist-packages (0.1.2)\n",
            "Requirement already satisfied: numpy in /usr/local/lib/python3.11/dist-packages (from gower) (2.2.6)\n",
            "Requirement already satisfied: scipy in /usr/local/lib/python3.11/dist-packages (from gower) (1.15.3)\n",
            "Requirement already satisfied: pyclustering in /usr/local/lib/python3.11/dist-packages (0.10.1.2)\n",
            "Requirement already satisfied: scipy>=1.1.0 in /usr/local/lib/python3.11/dist-packages (from pyclustering) (1.15.3)\n",
            "Requirement already satisfied: matplotlib>=3.0.0 in /usr/local/lib/python3.11/dist-packages (from pyclustering) (3.10.0)\n",
            "Requirement already satisfied: numpy>=1.15.2 in /usr/local/lib/python3.11/dist-packages (from pyclustering) (2.2.6)\n",
            "Requirement already satisfied: Pillow>=5.2.0 in /usr/local/lib/python3.11/dist-packages (from pyclustering) (11.2.1)\n",
            "Requirement already satisfied: contourpy>=1.0.1 in /usr/local/lib/python3.11/dist-packages (from matplotlib>=3.0.0->pyclustering) (1.3.2)\n",
            "Requirement already satisfied: cycler>=0.10 in /usr/local/lib/python3.11/dist-packages (from matplotlib>=3.0.0->pyclustering) (0.12.1)\n",
            "Requirement already satisfied: fonttools>=4.22.0 in /usr/local/lib/python3.11/dist-packages (from matplotlib>=3.0.0->pyclustering) (4.58.0)\n",
            "Requirement already satisfied: kiwisolver>=1.3.1 in /usr/local/lib/python3.11/dist-packages (from matplotlib>=3.0.0->pyclustering) (1.4.8)\n",
            "Requirement already satisfied: packaging>=20.0 in /usr/local/lib/python3.11/dist-packages (from matplotlib>=3.0.0->pyclustering) (24.2)\n",
            "Requirement already satisfied: pyparsing>=2.3.1 in /usr/local/lib/python3.11/dist-packages (from matplotlib>=3.0.0->pyclustering) (3.2.3)\n",
            "Requirement already satisfied: python-dateutil>=2.7 in /usr/local/lib/python3.11/dist-packages (from matplotlib>=3.0.0->pyclustering) (2.9.0.post0)\n",
            "Requirement already satisfied: six>=1.5 in /usr/local/lib/python3.11/dist-packages (from python-dateutil>=2.7->matplotlib>=3.0.0->pyclustering) (1.17.0)\n"
          ]
        }
      ]
    },
    {
      "cell_type": "code",
      "source": [
        "import numpy as np\n",
        "from pyclustering.cluster.kmedoids import kmedoids\n",
        "from pyclustering.utils import calculate_distance_matrix\n",
        "from gower import gower_matrix\n",
        "import matplotlib.pyplot as plt\n",
        "import random\n",
        "\n",
        "# Calcoliamo la matrice di disanza di Gower\n",
        "gower_mat = gower_matrix(data)\n",
        "\n",
        "print(gower_mat, \"\\n\")\n",
        "\n",
        "# Consideriamo K=3 cluster\n",
        "k = 3\n",
        "\n",
        "# Generiamo casualmente i K medoidi\n",
        "random.seed(54)  # Impostiamo un valore fisso del seme per garantire riproducibilità\n",
        "medoidi_iniziali = random.sample(range(len(data)), k)\n",
        "\n",
        "# Applichiamo l'algoritmo K-Medoids con la distanza di Gower precomputata\n",
        "kmedoids_algo = kmedoids(gower_mat, medoidi_iniziali, data_type='distance_matrix')\n",
        "kmedoids_algo.process()\n",
        "\n",
        "# Risultati\n",
        "cluster = kmedoids_algo.get_clusters()\n",
        "medoidi = kmedoids_algo.get_medoids()\n",
        "\n",
        "print(\"Medoidi:\", medoidi)\n",
        "print(\"Cluster:\", cluster)"
      ],
      "metadata": {
        "colab": {
          "base_uri": "https://localhost:8080/"
        },
        "id": "uGfeN6o29epz",
        "outputId": "4e20bec6-8f97-4852-ca5b-b256b5df2514"
      },
      "execution_count": null,
      "outputs": [
        {
          "output_type": "stream",
          "name": "stdout",
          "text": [
            "[[0.         0.57857144 0.45158732 0.23849207 0.35317463 0.4234127\n",
            "  0.5019841  0.5277778  0.34246033 0.34880954 0.5218254  0.3642857\n",
            "  0.6706349  0.76031744 0.33611113]\n",
            " [0.57857144 0.         0.5063492  0.3876984  0.5746032  0.31150794\n",
            "  0.25674602 0.5825397  0.7083333  0.50357145 0.40992063 0.5857143\n",
            "  0.7253969  0.18174604 0.890873  ]\n",
            " [0.45158732 0.5063492  0.         0.64246035 0.45714286 0.43293652\n",
            "  0.7392857  0.26507938 0.30198413 0.33611113 0.6535714  0.3015873\n",
            "  0.552381   0.6642857  0.5511905 ]\n",
            " [0.23849207 0.3876984  0.64246035 0.         0.5202381  0.25714287\n",
            "  0.26349208 0.69484127 0.4873016  0.47142857 0.35555556 0.53134924\n",
            "  0.5043651  0.5218254  0.5031746 ]\n",
            " [0.35317463 0.5746032  0.45714286 0.5202381  0.         0.6202381\n",
            "  0.4265873  0.50793654 0.3781746  0.5511905  0.3075397  0.54444444\n",
            "  0.53968257 0.68492067 0.39404762]\n",
            " [0.4234127  0.31150794 0.43293652 0.25714287 0.6202381  0.\n",
            "  0.47301587 0.43769842 0.61904764 0.2920635  0.43174604 0.28531745\n",
            "  0.58055556 0.3980159  0.5793651 ]\n",
            " [0.5019841  0.25674602 0.7392857  0.26349208 0.4265873  0.47301587\n",
            "  0.         0.7202381  0.5126984  0.64126986 0.21428573 0.7234127\n",
            "  0.5297619  0.26944444 0.6952381 ]\n",
            " [0.5277778  0.5825397  0.26507938 0.69484127 0.50793654 0.43769842\n",
            "  0.7202381  0.         0.3980159  0.293254   0.63293654 0.25873017\n",
            "  0.64285713 0.6214286  0.475     ]\n",
            " [0.34246033 0.7083333  0.30198413 0.4873016  0.3781746  0.61904764\n",
            "  0.5126984  0.3980159  0.         0.3952381  0.47936508 0.40515873\n",
            "  0.35039684 0.7234127  0.34920636]\n",
            " [0.34880954 0.50357145 0.33611113 0.47142857 0.5511905  0.2920635\n",
            "  0.64126986 0.293254   0.3952381  0.         0.62857145 0.08214286\n",
            "  0.7218254  0.49484128 0.3873016 ]\n",
            " [0.5218254  0.40992063 0.6535714  0.35555556 0.3075397  0.43174604\n",
            "  0.21428573 0.63293654 0.47936508 0.62857145 0.         0.5980159\n",
            "  0.3154762  0.37738097 0.48095238]\n",
            " [0.3642857  0.5857143  0.3015873  0.53134924 0.54444444 0.28531745\n",
            "  0.7234127  0.25873017 0.40515873 0.08214286 0.5980159  0.\n",
            "  0.63968253 0.52936506 0.30515873]\n",
            " [0.6706349  0.7253969  0.552381   0.5043651  0.53968257 0.58055556\n",
            "  0.5297619  0.64285713 0.35039684 0.7218254  0.3154762  0.63968253\n",
            "  0.         0.6452381  0.38214287]\n",
            " [0.76031744 0.18174604 0.6642857  0.5218254  0.68492067 0.3980159\n",
            "  0.26944444 0.6214286  0.7234127  0.49484128 0.37738097 0.52936506\n",
            "  0.6452381  0.         0.78690475]\n",
            " [0.33611113 0.890873   0.5511905  0.5031746  0.39404762 0.5793651\n",
            "  0.6952381  0.475      0.34920636 0.3873016  0.48095238 0.30515873\n",
            "  0.38214287 0.78690475 0.        ]] \n",
            "\n",
            "Medoidi: [12, 6, 11]\n",
            "Cluster: [[8, 12], [1, 3, 4, 6, 10, 13], [0, 2, 5, 7, 9, 11, 14]]\n"
          ]
        }
      ]
    }
  ]
}