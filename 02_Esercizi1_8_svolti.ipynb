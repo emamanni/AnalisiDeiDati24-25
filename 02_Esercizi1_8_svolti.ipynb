{
  "nbformat": 4,
  "nbformat_minor": 0,
  "metadata": {
    "colab": {
      "provenance": [],
      "authorship_tag": "ABX9TyNQfxSDQGZg3Bc70XpPU9ae",
      "include_colab_link": true
    },
    "kernelspec": {
      "name": "python3",
      "display_name": "Python 3"
    },
    "language_info": {
      "name": "python"
    }
  },
  "cells": [
    {
      "cell_type": "markdown",
      "metadata": {
        "id": "view-in-github",
        "colab_type": "text"
      },
      "source": [
        "<a href=\"https://colab.research.google.com/github/emamanni/AnalisiDeiDati24-25/blob/main/02_Esercizi1_8_svolti.ipynb\" target=\"_parent\"><img src=\"https://colab.research.google.com/assets/colab-badge.svg\" alt=\"Open In Colab\"/></a>"
      ]
    },
    {
      "cell_type": "markdown",
      "source": [
        "**<span style=\"color:brown\">Esercizio 1.</span>** Rappresentare i seguenti dati utilizzando dizionari (annidati) ...\n",
        "\n",
        "| ID | Name    | Surname   | Job         | Expenditure |\n",
        "|----|---------|-----------|-------------|-------------|\n",
        "| 1  | John    | Doe       | Engineer    | 1500        |\n",
        "| 2  | Alice   | Smith     | Teacher     | 1200        |\n",
        "| 3  | Michael | Johnson   | Doctor      | 2500        |\n",
        "| 4  | Emily   | Williams  | Designer    | 1800        |\n",
        "| 5  | David   | Brown     | Accountant  | 2000        |\n",
        "| 6  | Sarah   | Jones     | Manager     | 2200        |"
      ],
      "metadata": {
        "id": "fCdpY13ErYuy"
      }
    },
    {
      "cell_type": "code",
      "execution_count": null,
      "metadata": {
        "colab": {
          "base_uri": "https://localhost:8080/"
        },
        "id": "3sxnbvSWrK3e",
        "outputId": "3bdae2a2-71c9-41c8-f6b6-a255a45310ec"
      },
      "outputs": [
        {
          "output_type": "stream",
          "name": "stdout",
          "text": [
            "{1: {'Name': 'Alice', 'Surname': 'Doe', 'Job': 'Engineer', 'Expenditure': 1500}, 2: {'Name': 'Bob', 'Surname': 'Smith', 'Job': 'Teacher', 'Expenditure': 1200}, 3: {'Name': 'Michael', 'Surname': 'Johnson', 'Job': 'Doctor', 'Expenditure': 2500}, 4: {'Name': 'Emily', 'Surname': 'Williams', 'Job': 'Designer', 'Expenditure': 1800}, 5: {'Name': 'David', 'Surname': 'Brown', 'Job': 'Accountant', 'Expenditure': 2000}, 6: {'Name': 'Sarah', 'Surname': 'Jones', 'Job': 'Manager', 'Expenditure': 2200}}\n"
          ]
        }
      ],
      "source": [
        "# Rappresentazione dei dati tabellari come dizionario annidato\n",
        "dati = {\n",
        "    1: {\"Name\": \"Alice\", \"Surname\": \"Doe\",\"Job\": \"Engineer\", \"Expenditure\": 1500},\n",
        "    2: {\"Name\": \"Bob\", \"Surname\": \"Smith\",\"Job\": \"Teacher\", \"Expenditure\": 1200},\n",
        "    3: {\"Name\": \"Michael\", \"Surname\": \"Johnson\",\"Job\": \"Doctor\", \"Expenditure\": 2500},\n",
        "    4: {\"Name\": \"Emily\", \"Surname\": \"Williams\",\"Job\": \"Designer\", \"Expenditure\": 1800},\n",
        "    5: {\"Name\": \"David\", \"Surname\": \"Brown\",\"Job\": \"Accountant\", \"Expenditure\": 2000},\n",
        "    6: {\"Name\": \"Sarah\", \"Surname\": \"Jones\",\"Job\": \"Manager\", \"Expenditure\": 2200}\n",
        "}"
      ]
    },
    {
      "cell_type": "markdown",
      "source": [
        "**<span style=\"color:brown\">Esercizio 2.</span>** Scrivere uno script Python per verificare se un triangolo è equilatero, isoscele o scaleno.\n",
        "Input: un elenco di 3 numeri non negativi che rappresentano le lunghezze dei tre lati.\n",
        "Output: una stringa che può essere 'equilatero', 'isoscele' o 'scaleno'."
      ],
      "metadata": {
        "id": "pgP_N4yprgNG"
      }
    },
    {
      "cell_type": "code",
      "source": [
        "def verifica_tipo_triangolo(lato1, lato2, lato3):\n",
        "    if lato1 <= 0 or lato2 <= 0 or lato3 <= 0:\n",
        "        return \"I valori inseriti devono essere positivi.\"\n",
        "    elif lato1 == lato2 == lato3:\n",
        "        return \"Triangolo equilatero\"\n",
        "    elif lato1 == lato2 or lato1 == lato3 or lato2 == lato3:\n",
        "        return \"Triangolo isoscele\"\n",
        "    else:\n",
        "        return \"Triangolo scaleno\"\n",
        "\n",
        "# Esempio\n",
        "print(verifica_tipo_triangolo(6,8,10))\n",
        "print(verifica_tipo_triangolo(5,5,5))\n",
        "print(verifica_tipo_triangolo(3,4,4))"
      ],
      "metadata": {
        "colab": {
          "base_uri": "https://localhost:8080/"
        },
        "id": "SqEnK8K-rlN-",
        "outputId": "9c96737a-aaf4-484d-a514-c8e7ff8e109c"
      },
      "execution_count": null,
      "outputs": [
        {
          "output_type": "stream",
          "name": "stdout",
          "text": [
            "Triangolo scaleno\n",
            "Triangolo equilatero\n",
            "Triangolo isoscele\n"
          ]
        }
      ]
    },
    {
      "cell_type": "markdown",
      "source": [
        "**<span style=\"color:brown\">Esercizio 3.</span>** Scrivere uno script Python che verifichi se tre numeri non negativi possono essere i lati di un triangolo."
      ],
      "metadata": {
        "id": "hkkft6aErluR"
      }
    },
    {
      "cell_type": "code",
      "source": [
        "def verifica_lati_triangolo(lato1, lato2, lato3):\n",
        "    if lato1 <= 0 or lato2 <= 0 or lato3 <= 0:\n",
        "        return \"I valori inseriti devono essere positivi.\"\n",
        "    elif lato1 + lato2 > lato3 and lato1 + lato3 > lato2 and lato2 + lato3 > lato1:\n",
        "        return \"I lati inseriti possono formare un triangolo.\"\n",
        "    else:\n",
        "        return \"I lati inseriti non possono formare un triangolo.\"\n",
        "\n",
        "# Esempio\n",
        "print(verifica_lati_triangolo(1,2,3))\n",
        "print(verifica_lati_triangolo(5,5,5))\n",
        "print(verifica_lati_triangolo(3,4,4))"
      ],
      "metadata": {
        "colab": {
          "base_uri": "https://localhost:8080/"
        },
        "id": "gD43YUjeroVQ",
        "outputId": "3814448f-478a-4fbd-87eb-d141baa85404"
      },
      "execution_count": null,
      "outputs": [
        {
          "output_type": "stream",
          "name": "stdout",
          "text": [
            "I lati inseriti non possono formare un triangolo.\n",
            "I lati inseriti possono formare un triangolo.\n",
            "I lati inseriti possono formare un triangolo.\n"
          ]
        }
      ]
    },
    {
      "cell_type": "markdown",
      "source": [
        "**<span style=\"color:black\">Esercizio 4.</span>** Scrivere una funzione Python che stampi tutti i numeri pari compresi tra due valori (dati in input alla funzione)."
      ],
      "metadata": {
        "id": "8qBhXwt3rodZ"
      }
    },
    {
      "cell_type": "code",
      "source": [
        "def stampa_numeri_pari(valore1, valore2):\n",
        "  estremo_inferiore = min(valore1, valore2)\n",
        "  estremo_superiore = max(valore1, valore2)\n",
        "\n",
        "  for numero in range(estremo_inferiore, estremo_superiore + 1):\n",
        "    if numero % 2 == 0:\n",
        "      print(numero)\n",
        "\n",
        "# Esempio\n",
        "stampa_numeri_pari(3,15)"
      ],
      "metadata": {
        "colab": {
          "base_uri": "https://localhost:8080/"
        },
        "id": "7w9WYwElrry_",
        "outputId": "8bb04d2d-607b-4cc3-bbda-6842c8706635"
      },
      "execution_count": null,
      "outputs": [
        {
          "output_type": "stream",
          "name": "stdout",
          "text": [
            "4\n",
            "6\n",
            "8\n",
            "10\n",
            "12\n",
            "14\n"
          ]
        }
      ]
    },
    {
      "cell_type": "markdown",
      "source": [
        "**<span style=“color:brown”>Esercizio 5.</span>** Scrivere una funzione Python per calcolare la media di un campione (elenco di numeri)."
      ],
      "metadata": {
        "id": "gEcHO6Xzrr74"
      }
    },
    {
      "cell_type": "code",
      "source": [
        "def calcola_media(elenco):\n",
        "  if len(elenco) == 0:\n",
        "    return \"Non è stato inserito alcun valore.\"\n",
        "  else:\n",
        "    somma = 0\n",
        "    for valore in elenco:\n",
        "      somma += valore\n",
        "    return somma / len(elenco)\n",
        "\n",
        "# Esempio\n",
        "valori = [7, 12, 5, 41, 18]\n",
        "print(calcola_media(valori))\n",
        "print(calcola_media([]))"
      ],
      "metadata": {
        "colab": {
          "base_uri": "https://localhost:8080/"
        },
        "id": "NSaDc7bYxCd2",
        "outputId": "cdd60ac4-b0e8-4720-c13b-f5baf1932b34"
      },
      "execution_count": null,
      "outputs": [
        {
          "output_type": "stream",
          "name": "stdout",
          "text": [
            "16.6\n",
            "Non è stato inserito alcun valore.\n"
          ]
        }
      ]
    },
    {
      "cell_type": "markdown",
      "source": [
        "**<span style=“color:brown”>Esercizio 6.</span>** Scrivere un codice Python per calcolare la somma di tutti i numeri naturali minori di un dato numero $n$."
      ],
      "metadata": {
        "id": "rYNjuM-ZxCm_"
      }
    },
    {
      "cell_type": "code",
      "source": [
        "# calcolare la somma di tutti i numeri naturali minori di un dato numero\n",
        "def calcola_somma(n):\n",
        "  somma = 0\n",
        "  for numero in range(1, n):\n",
        "    somma += numero\n",
        "  return somma\n",
        "\n",
        "# oppure\n",
        "def calcola_somma2(n):\n",
        "  return sum(range(1, n))\n",
        "\n",
        "# oppure\n",
        "def calcola_somma3(n):\n",
        "  # formula di Gauss per la somma dei primi (n-1) numeri: il testo dice \"minori di n\"\n",
        "  return (n-1) * n // 2\n",
        "\n",
        "# Esempio\n",
        "print(calcola_somma(5))\n",
        "print(calcola_somma2(5))\n",
        "print(calcola_somma3(5))"
      ],
      "metadata": {
        "colab": {
          "base_uri": "https://localhost:8080/"
        },
        "id": "BYMFFdv6xCvO",
        "outputId": "f261a30e-3d71-4aa2-d6c4-3dd433a921a2"
      },
      "execution_count": null,
      "outputs": [
        {
          "output_type": "stream",
          "name": "stdout",
          "text": [
            "10\n",
            "10\n",
            "10\n"
          ]
        }
      ]
    },
    {
      "cell_type": "markdown",
      "source": [
        "**<span style=“color:brown”>Esercizio 7.</span>** Scrivere una funzione Python che cerchi un numero x in una lista l e restituisca -1 se x non si trova in “l”, o il suo indice altrimenti."
      ],
      "metadata": {
        "id": "Hjj0io9u8aZm"
      }
    },
    {
      "cell_type": "code",
      "source": [
        "def cerca_numero(x, l):\n",
        "  i = 0\n",
        "  while i < len(l):\n",
        "    if l[i] == x:\n",
        "      return i\n",
        "    i += 1\n",
        "  return -1\n",
        "\n",
        "# oppure\n",
        "def cerca_numero2(x, l):\n",
        "  for indice, valore in enumerate(l):\n",
        "    if valore == x:\n",
        "      return indice\n",
        "  return -1\n",
        "\n",
        "# Esempio\n",
        "print(cerca_numero(4, [1,2,3,4,5]))\n",
        "print(cerca_numero2(8, [1,2,3,4,5]))"
      ],
      "metadata": {
        "colab": {
          "base_uri": "https://localhost:8080/"
        },
        "id": "UVZtdkij8bDe",
        "outputId": "224a3b4a-759c-4aaa-9c95-38bb24b0034e"
      },
      "execution_count": null,
      "outputs": [
        {
          "output_type": "stream",
          "name": "stdout",
          "text": [
            "3\n",
            "-1\n"
          ]
        }
      ]
    },
    {
      "cell_type": "markdown",
      "source": [
        "**<span style=“color:brown”>Esercizio 8.</span>** Scrivere uno script Python che determini tutti i numeri primi non maggiori di un numero naturale $n$."
      ],
      "metadata": {
        "id": "5F6U2SXI8bUJ"
      }
    },
    {
      "cell_type": "code",
      "source": [
        "def determina_primi(n):\n",
        "  primi = []\n",
        "  for numero in range(2, n+1):\n",
        "    divisibili = False\n",
        "    i = 2\n",
        "    while i < numero:\n",
        "      if numero % i == 0:\n",
        "        divisibili = True\n",
        "        break\n",
        "      i += 1\n",
        "    if not divisibili:\n",
        "      primi.append(numero)\n",
        "  return primi  # Return the list of prime numbers\n",
        "\n",
        "# Esempio\n",
        "print(determina_primi(7))\n",
        "print(determina_primi(14))"
      ],
      "metadata": {
        "colab": {
          "base_uri": "https://localhost:8080/"
        },
        "id": "EzAcHhpa8eKo",
        "outputId": "73ddf758-2e15-4030-d847-9e2252c05732"
      },
      "execution_count": null,
      "outputs": [
        {
          "output_type": "stream",
          "name": "stdout",
          "text": [
            "[2, 3, 5, 7]\n",
            "[2, 3, 5, 7, 11, 13]\n"
          ]
        }
      ]
    }
  ]
}