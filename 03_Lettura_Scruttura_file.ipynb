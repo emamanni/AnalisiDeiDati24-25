{
  "nbformat": 4,
  "nbformat_minor": 0,
  "metadata": {
    "colab": {
      "provenance": [],
      "mount_file_id": "1nwzD0UgGr50dmX2DS2NR3P0eyf-7NFBs",
      "authorship_tag": "ABX9TyP6IVU2xHWiHViyIvBMeXnX",
      "include_colab_link": true
    },
    "kernelspec": {
      "name": "python3",
      "display_name": "Python 3"
    },
    "language_info": {
      "name": "python"
    }
  },
  "cells": [
    {
      "cell_type": "markdown",
      "metadata": {
        "id": "view-in-github",
        "colab_type": "text"
      },
      "source": [
        "<a href=\"https://colab.research.google.com/github/emamanni/AnalisiDeiDati24-25/blob/main/03_Lettura_Scruttura_file.ipynb\" target=\"_parent\"><img src=\"https://colab.research.google.com/assets/colab-badge.svg\" alt=\"Open In Colab\"/></a>"
      ]
    },
    {
      "cell_type": "markdown",
      "source": [
        "#Leggere/Scrivere dati da/su file .txt, .csv, .xlsx, .json, .xml"
      ],
      "metadata": {
        "id": "ohs1qCnPNaJ2"
      }
    },
    {
      "cell_type": "markdown",
      "source": [
        "In primo luogo \"montiamo\" il drive per poter accedere ai file ..."
      ],
      "metadata": {
        "id": "unxF0M--Kc1j"
      }
    },
    {
      "cell_type": "code",
      "source": [
        "from google.colab import drive\n",
        "drive.mount(\"/content/drive\", force_remount=True)"
      ],
      "metadata": {
        "colab": {
          "base_uri": "https://localhost:8080/"
        },
        "id": "DV1QRWiWKg3C",
        "outputId": "84415a01-8948-43f9-ca02-c8f4d1f9ce07"
      },
      "execution_count": null,
      "outputs": [
        {
          "output_type": "stream",
          "name": "stdout",
          "text": [
            "Mounted at /content/drive\n"
          ]
        }
      ]
    },
    {
      "cell_type": "code",
      "source": [
        "import os\n",
        "\n",
        "# Percorso alla directory che contiene i file da utilizzare\n",
        "# Percorso da modificare in base alla propria macchina\n",
        "folder_path = '/content/drive/MyDrive/Colab Notebooks/Python review/FileDiSupporto'\n",
        "\n",
        "# Visualizza l'elenco dei file\n",
        "files = os.listdir(folder_path)\n",
        "files"
      ],
      "metadata": {
        "colab": {
          "base_uri": "https://localhost:8080/"
        },
        "id": "YSmuX409Klcg",
        "outputId": "55887e73-2b5a-4976-cd8e-b092f5786769"
      },
      "execution_count": null,
      "outputs": [
        {
          "output_type": "execute_result",
          "data": {
            "text/plain": [
              "['myLibrary.py', 'Product reviews.txt', 'data.xlsx', 'sales.html', 'data.csv']"
            ]
          },
          "metadata": {},
          "execution_count": 2
        }
      ]
    },
    {
      "cell_type": "markdown",
      "source": [
        "**Lettura/Scrittura da/su file .txt**\n",
        "\n",
        "Apertura di un file di testo nella directory di lavoro in modalità di sola lettura (opzione \"r\") ...\n"
      ],
      "metadata": {
        "id": "H9vk6u2sNifW"
      }
    },
    {
      "cell_type": "code",
      "source": [
        "file_path = os.path.join(folder_path, 'Product reviews.txt')\n",
        "\n",
        "f = open(file_path, \"r\") # apertura del file in sola lettura\n",
        "text=f.read()\n",
        "f.close()\n",
        "print(text[:100])"
      ],
      "metadata": {
        "colab": {
          "base_uri": "https://localhost:8080/"
        },
        "id": "Dxf4TBFguzBy",
        "outputId": "6475e425-7051-4f04-abd1-46b8d6600545"
      },
      "execution_count": null,
      "outputs": [
        {
          "output_type": "stream",
          "name": "stdout",
          "text": [
            "\"Absolutely love this product! It's made my life so much easier.\"\n",
            "\"Very disappointed with this produ\n"
          ]
        }
      ]
    },
    {
      "cell_type": "markdown",
      "source": [
        "In maniera più concisa ..."
      ],
      "metadata": {
        "id": "d2sDIBCOwpNI"
      }
    },
    {
      "cell_type": "code",
      "source": [
        "text=open(file_path,\"r\").read()\n",
        "print(text[:100])"
      ],
      "metadata": {
        "colab": {
          "base_uri": "https://localhost:8080/"
        },
        "id": "ZbHMam06woRT",
        "outputId": "9ad1130b-9265-432d-b30e-911e5c8b40eb"
      },
      "execution_count": null,
      "outputs": [
        {
          "output_type": "stream",
          "name": "stdout",
          "text": [
            "\"Absolutely love this product! It's made my life so much easier.\"\n",
            "\"Very disappointed with this produ\n"
          ]
        }
      ]
    },
    {
      "cell_type": "markdown",
      "source": [
        "Scrivere una stringa come file di testo con l'opzione \"w\" ..."
      ],
      "metadata": {
        "id": "r3QQ3bUow5kH"
      }
    },
    {
      "cell_type": "code",
      "source": [
        "file_path = os.path.join(folder_path, 'newTextFile.txt')\n",
        "f = open(file_path, \"w\")\n",
        "s = \"I do not know what I may appear to the world, but to myself I \\\n",
        "seem to have been only like a boy playing on the seashore, and \\\n",
        "diverting myself in now and then finding a smoother pebble or a \\\n",
        "prettier shell than ordinary, whilst the great ocean of truth lay \\\n",
        "all undiscovered before me. Sir Isaac Newton (1642-1726)\"\n",
        "f.write(s)\n",
        "f.close()\n",
        "\n",
        "# Stampa a schermo del contenuto di newTextFile.txt ...\n",
        "text=open(file_path, \"r\").read()\n",
        "print(text)"
      ],
      "metadata": {
        "colab": {
          "base_uri": "https://localhost:8080/"
        },
        "id": "4wcKxfiawoVJ",
        "outputId": "7582f945-959a-4584-b3ec-91d92ef2b75d"
      },
      "execution_count": null,
      "outputs": [
        {
          "output_type": "stream",
          "name": "stdout",
          "text": [
            "I do not know what I may appear to the world, but to myself I seem to have been only like a boy playing on the seashore, and diverting myself in now and then finding a smoother pebble or a prettier shell than ordinary, whilst the great ocean of truth lay all undiscovered before me. Sir Isaac Newton (1642-1726)\n"
          ]
        }
      ]
    },
    {
      "cell_type": "markdown",
      "source": [
        "L'opzione \"w\" sovrascrive ..."
      ],
      "metadata": {
        "id": "_BTQLQ0Vy-Mp"
      }
    },
    {
      "cell_type": "code",
      "source": [
        "f = open(file_path, \"w\")\n",
        "s = \"If I have seen further than others,\\\n",
        "it is by standing upon the shoulders of giants. \\\n",
        "Sir Isaac Newton (1642-1726)\"\n",
        "f.write(s)\n",
        "f.close()\n",
        "\n",
        "# Stampa a schermo del contenuto di newTextFile.txt ...\n",
        "text=open(file_path,\"r\").read()\n",
        "print(text)"
      ],
      "metadata": {
        "colab": {
          "base_uri": "https://localhost:8080/"
        },
        "id": "J7yesjjazH4J",
        "outputId": "6474c9a3-53a1-4dd5-86c8-c0755d9a88ef"
      },
      "execution_count": null,
      "outputs": [
        {
          "output_type": "stream",
          "name": "stdout",
          "text": [
            "If I have seen further than others,it is by standing upon the shoulders of giants. Sir Isaac Newton (1642-1726)\n"
          ]
        }
      ]
    },
    {
      "cell_type": "markdown",
      "source": [
        "Aggiunta di nuovo contenuto a un file di testo con l'opzione \"a\"."
      ],
      "metadata": {
        "id": "Wv3OduFwzXvk"
      }
    },
    {
      "cell_type": "code",
      "source": [
        "f = open(file_path, \"a\")\n",
        "s = \"I do not know what I may appear to the world, but to myself I \\\n",
        "seem to have been only like a boy playing on the seashore, and \\\n",
        "diverting myself in now and then finding a smoother pebble or a \\\n",
        "prettier shell than ordinary, whilst the great ocean of truth lay \\\n",
        "all undiscovered before me. Sir Isaac Newton (1642-1726)\"\n",
        "f.write(\"\\n\\n\"+s)\n",
        "f.close()\n",
        "\n",
        "# Stampa a schermo del contenuto di newTextFile.txt ...\n",
        "text=open(file_path,\"r\").read()\n",
        "print(text)"
      ],
      "metadata": {
        "colab": {
          "base_uri": "https://localhost:8080/"
        },
        "id": "VBGa6_YMza2q",
        "outputId": "1595d25a-62be-4113-a4f4-f302d300b299"
      },
      "execution_count": null,
      "outputs": [
        {
          "output_type": "stream",
          "name": "stdout",
          "text": [
            "If I have seen further than others,it is by standing upon the shoulders of giants. Sir Isaac Newton (1642-1726)\n",
            "\n",
            "I do not know what I may appear to the world, but to myself I seem to have been only like a boy playing on the seashore, and diverting myself in now and then finding a smoother pebble or a prettier shell than ordinary, whilst the great ocean of truth lay all undiscovered before me. Sir Isaac Newton (1642-1726)\n"
          ]
        }
      ]
    },
    {
      "cell_type": "markdown",
      "source": [
        "**<span style=“color:brown”>Esercizio 9.</span>** Leggere il file “Product reviews.txt” e determinare il numero di occorrenze di ciascuna “parola”. Suggerimento: l'output potrebbe essere un dizionario con chiave=“parola”, valore=numero di occorrenze di questa “parola” ..."
      ],
      "metadata": {
        "id": "74mIA5zjzoH3"
      }
    },
    {
      "cell_type": "markdown",
      "source": [
        "**Lettura/scrittura di dati da/a file .csv**\n",
        "\n",
        "Un file CSV (Comma-Separated Values) è un formato di file di testo semplice comunemente usato per memorizzare dati tabellari. In un file CSV, ogni riga corrisponde a una riga della tabella e i valori all'interno di ogni riga sono separati da virgole (o da altri delimitatori come tabulazioni o punti e virgola). Ad esempio, il file data.csv ha il seguente aspetto:\n",
        "\n",
        "Line,Type,Capacity,Unit cost,Saturation  \n",
        "A,automated,1000,1.2,0.80  \n",
        "B,assisted,2000,1.15,0.75  \n",
        "C,automated,1000,1.21,0.55"
      ],
      "metadata": {
        "id": "DVP7QMKzzz_0"
      }
    },
    {
      "cell_type": "markdown",
      "source": [
        "Lettura del file ..."
      ],
      "metadata": {
        "id": "jwYTdQaJ0F7r"
      }
    },
    {
      "cell_type": "code",
      "source": [
        "import csv\n",
        "\n",
        "# Apertura del file CSV in modalità lettura\n",
        "file_path = os.path.join(folder_path, 'data.csv')\n",
        "with open(file_path, newline='') as csvfile:\n",
        "  # Creazione di un oggetto CSV reader\n",
        "  csv_reader = csv.reader(csvfile)\n",
        "  # Stampa del contenuto del file CSV\n",
        "  for row in csv_reader:\n",
        "    print(row)"
      ],
      "metadata": {
        "colab": {
          "base_uri": "https://localhost:8080/"
        },
        "id": "FuHqGkhA0HjH",
        "outputId": "20215438-6ae6-4d1d-c58e-9b9750542921"
      },
      "execution_count": null,
      "outputs": [
        {
          "output_type": "stream",
          "name": "stdout",
          "text": [
            "['Line', 'Type', 'Capacity', 'UnitCost', 'Saturation']\n",
            "['A', 'automated', '1000', '1.2', '0.80']\n",
            "['B', 'assisted', '2000', '1.15', '0.75']\n",
            "['C', 'automated', '1000', '1.21', '0.55']\n"
          ]
        }
      ]
    },
    {
      "cell_type": "markdown",
      "source": [
        "Modifica di alcuni dati ..."
      ],
      "metadata": {
        "id": "mNCnYi7Q0rbT"
      }
    },
    {
      "cell_type": "code",
      "source": [
        "# Apertura del file CSV in modalità lettura\n",
        "file_path = os.path.join(folder_path, 'data.csv')\n",
        "with open(file_path, newline='') as csvfile:\n",
        "  # Creazione di un oggetto CSV reader\n",
        "  csv_reader = csv.reader(csvfile)\n",
        "  # Lettura dei dati del file CSV in una lista di liste\n",
        "  data = list(csv_reader)\n",
        "\n",
        "# Modifica la capacità della linea 'B'\n",
        "for row in data:\n",
        "  if row[0] == 'B':  # L'ID della linea si trova nella prima colonna\n",
        "    row[2] = '3000'  # Modifica la capacità della linea\n",
        "\n",
        "# Stampa dei dati modificati\n",
        "for row in data:\n",
        "  print(row)"
      ],
      "metadata": {
        "colab": {
          "base_uri": "https://localhost:8080/"
        },
        "id": "88JHrMjs0s8S",
        "outputId": "05fbab7b-05d2-44e8-e38f-4b4029043862"
      },
      "execution_count": null,
      "outputs": [
        {
          "output_type": "stream",
          "name": "stdout",
          "text": [
            "['Line', 'Type', 'Capacity', 'UnitCost', 'Saturation']\n",
            "['A', 'automated', '1000', '1.2', '0.80']\n",
            "['B', 'assisted', '3000', '1.15', '0.75']\n",
            "['C', 'automated', '1000', '1.21', '0.55']\n"
          ]
        }
      ]
    },
    {
      "cell_type": "markdown",
      "source": [
        "Salvataggio della tabella modificata come file CSV ..."
      ],
      "metadata": {
        "id": "yE6P5erj1Y6p"
      }
    },
    {
      "cell_type": "code",
      "source": [
        "# Apertura di un nuovo file CSV in modalità scrittura\n",
        "file_path = os.path.join(folder_path, 'modified_data.csv')\n",
        "with open(file_path, 'w', newline='') as csvfile:\n",
        "  # Creazione di un oggetto CSV writer\n",
        "  csv_writer = csv.writer(csvfile)\n",
        "\n",
        "  # Scrittura dei dati modificati nel nuovo file CSV\n",
        "  csv_writer.writerows(data)"
      ],
      "metadata": {
        "id": "gcoZIsMB1dA2"
      },
      "execution_count": null,
      "outputs": []
    },
    {
      "cell_type": "markdown",
      "source": [
        "**Lettura/scrittura di dati da/su file .xslx**\n",
        "\n",
        "Un foglio elettronico è un'applicazione software utilizzata per organizzare, analizzare e manipolare i dati in forma tabellare. È costituito da righe e colonne, dove ogni intersezione di una riga e di una colonna è chiamata cella. Le celle possono contenere vari tipi di dati, tra cui testo, numeri, formule e funzioni. I software più diffusi per i fogli di calcolo includono Microsoft Excel e Google Sheets. Ecco alcuni comandi Python per manipolare un file Excel."
      ],
      "metadata": {
        "id": "q-oplDAL2DLM"
      }
    },
    {
      "cell_type": "markdown",
      "source": [
        "Apertura di un file ..."
      ],
      "metadata": {
        "id": "blQ45fY12RMk"
      }
    },
    {
      "cell_type": "code",
      "source": [
        "from openpyxl import load_workbook\n",
        "\n",
        "file_path = os.path.join(folder_path, 'data.xlsx')\n",
        "workbook = load_workbook(filename=file_path)\n",
        "workbook.sheetnames"
      ],
      "metadata": {
        "colab": {
          "base_uri": "https://localhost:8080/"
        },
        "id": "Wil3LvKw2TRA",
        "outputId": "8598a05f-23cb-4add-ef14-1ae7760ce1c1"
      },
      "execution_count": null,
      "outputs": [
        {
          "output_type": "execute_result",
          "data": {
            "text/plain": [
              "['data']"
            ]
          },
          "metadata": {},
          "execution_count": 17
        }
      ]
    },
    {
      "cell_type": "markdown",
      "source": [
        "Recupero di un foglio specifico ..."
      ],
      "metadata": {
        "id": "-lvS0zjC2nA3"
      }
    },
    {
      "cell_type": "code",
      "source": [
        "sheet = workbook.active\n",
        "sheet.title"
      ],
      "metadata": {
        "colab": {
          "base_uri": "https://localhost:8080/",
          "height": 36
        },
        "id": "SLr-PCF02qcT",
        "outputId": "9f220853-2448-4d62-c203-a2271c5b23b5"
      },
      "execution_count": null,
      "outputs": [
        {
          "output_type": "execute_result",
          "data": {
            "text/plain": [
              "'data'"
            ],
            "application/vnd.google.colaboratory.intrinsic+json": {
              "type": "string"
            }
          },
          "metadata": {},
          "execution_count": 18
        }
      ]
    },
    {
      "cell_type": "markdown",
      "source": [
        "Lettura del valore contenuto in una cella ..."
      ],
      "metadata": {
        "id": "Qw2CCvw62tsv"
      }
    },
    {
      "cell_type": "code",
      "source": [
        "sheet[\"A2\"].value"
      ],
      "metadata": {
        "colab": {
          "base_uri": "https://localhost:8080/",
          "height": 36
        },
        "id": "35oahLa42xcS",
        "outputId": "a34e54cb-fe9c-4de2-eb45-29d22ff050f0"
      },
      "execution_count": null,
      "outputs": [
        {
          "output_type": "execute_result",
          "data": {
            "text/plain": [
              "'A'"
            ],
            "application/vnd.google.colaboratory.intrinsic+json": {
              "type": "string"
            }
          },
          "metadata": {},
          "execution_count": 19
        }
      ]
    },
    {
      "cell_type": "markdown",
      "source": [
        "Modifica del valore contenuto in una cella ..."
      ],
      "metadata": {
        "id": "3yVJFW_F233m"
      }
    },
    {
      "cell_type": "code",
      "source": [
        "sheet[\"A2\"].value='F'\n",
        "sheet[\"A2\"].value"
      ],
      "metadata": {
        "colab": {
          "base_uri": "https://localhost:8080/",
          "height": 36
        },
        "id": "TRgW7tnR27hn",
        "outputId": "14f5090d-5063-447c-b9cb-a7146b468110"
      },
      "execution_count": null,
      "outputs": [
        {
          "output_type": "execute_result",
          "data": {
            "text/plain": [
              "'F'"
            ],
            "application/vnd.google.colaboratory.intrinsic+json": {
              "type": "string"
            }
          },
          "metadata": {},
          "execution_count": 20
        }
      ]
    },
    {
      "cell_type": "markdown",
      "source": [
        "Lettura del valore contenuto in una cella, specificando indice di riga e di colonna ..."
      ],
      "metadata": {
        "id": "8eXcZOxA2-aI"
      }
    },
    {
      "cell_type": "code",
      "source": [
        "sheet.cell(row=2, column=1).value"
      ],
      "metadata": {
        "colab": {
          "base_uri": "https://localhost:8080/",
          "height": 36
        },
        "id": "3RdxWAh83EFL",
        "outputId": "d3680038-dfe7-45d1-8027-aecf43f5995e"
      },
      "execution_count": null,
      "outputs": [
        {
          "output_type": "execute_result",
          "data": {
            "text/plain": [
              "'F'"
            ],
            "application/vnd.google.colaboratory.intrinsic+json": {
              "type": "string"
            }
          },
          "metadata": {},
          "execution_count": 21
        }
      ]
    },
    {
      "cell_type": "markdown",
      "source": [
        "Modifica del valore contenuto in una cella, specificando indice di riga e di colonna ..."
      ],
      "metadata": {
        "id": "PkPDxTAq3JKu"
      }
    },
    {
      "cell_type": "code",
      "source": [
        "sheet.cell(row=2, column=1).value='G'\n",
        "sheet.cell(row=2, column=1).value"
      ],
      "metadata": {
        "colab": {
          "base_uri": "https://localhost:8080/",
          "height": 36
        },
        "id": "hS4lToMX3KgO",
        "outputId": "945efbc5-1dcf-4157-e942-b74c0a3c005e"
      },
      "execution_count": null,
      "outputs": [
        {
          "output_type": "execute_result",
          "data": {
            "text/plain": [
              "'G'"
            ],
            "application/vnd.google.colaboratory.intrinsic+json": {
              "type": "string"
            }
          },
          "metadata": {},
          "execution_count": 22
        }
      ]
    },
    {
      "cell_type": "markdown",
      "source": [
        "Stampa dei valori contenuti in righe e colonne specificate ..."
      ],
      "metadata": {
        "id": "CtlIbrj_3N3B"
      }
    },
    {
      "cell_type": "code",
      "source": [
        "for value in sheet.iter_rows(min_row=1, max_row=4, min_col=1, max_col=5, values_only=True):\n",
        "  print(value)"
      ],
      "metadata": {
        "colab": {
          "base_uri": "https://localhost:8080/"
        },
        "id": "Yptobw9P3UYj",
        "outputId": "c44ccf0c-9dff-46b8-d2dd-1f1a679b4d92"
      },
      "execution_count": null,
      "outputs": [
        {
          "output_type": "stream",
          "name": "stdout",
          "text": [
            "('Line', 'Type', 'Capacity', 'Unit cost', 'Saturation')\n",
            "('G', 'automated', 1000, 1.2, 0.8)\n",
            "('B', 'assisted', 2000, 1.15, 0.75)\n",
            "('C', 'automated', 1000, 1.21, 0.55)\n"
          ]
        }
      ]
    },
    {
      "cell_type": "markdown",
      "source": [
        "Salvataggio dei dati modificati in un nuovo file ..."
      ],
      "metadata": {
        "id": "76AWjyBO3Xcy"
      }
    },
    {
      "cell_type": "code",
      "source": [
        "file_path = os.path.join(folder_path, 'modified_data.xlsx')\n",
        "workbook.save(filename=file_path)"
      ],
      "metadata": {
        "id": "Q7X3R0MG3bI4"
      },
      "execution_count": null,
      "outputs": []
    },
    {
      "cell_type": "markdown",
      "source": [
        "**Lettura/scrittura di dati da/su file .json**\n",
        "\n",
        "JSON (JavaScript Object Notation) è un formato di interscambio di dati leggero, facile da leggere e scrivere per gli esseri umani e da analizzare e generare per le macchine. Si basa su un sottoinsieme del linguaggio di programmazione JavaScript e viene spesso utilizzato per trasmettere dati tra un server e un'applicazione web in alternativa a XML.  \n",
        "\n",
        "I dati JSON sono rappresentati come testo e si basano su due strutture:\n",
        "- una collezione di coppie chiave/valore. In vari linguaggi di programmazione, questo è realizzato come oggetto, record, struct, dizionario, tabella hash, elenco di chiavi o array associativo;\n",
        "- un elenco ordinato di valori. Nella maggior parte dei linguaggi, viene realizzato come array, vettore, elenco o sequenza.  \n",
        "\n",
        "Python ha un pacchetto integrato chiamato json che include le funzioni `load()` e `loads()`:\n",
        "- `load()`, utilizzata per analizzare o leggere un file json.\n",
        "- `loads()`, utilizzata per analizzare una stringa json."
      ],
      "metadata": {
        "id": "IAzMo5wC34tp"
      }
    },
    {
      "cell_type": "markdown",
      "source": [
        "Creazione di un file .json a partire dal contenuto di un file .csv\n",
        "\n",
        "Il metodo `dump()` viene utilizzato quando gli oggetti Python devono essere memorizzati in un file."
      ],
      "metadata": {
        "id": "G6qZJpcd4Hqt"
      }
    },
    {
      "cell_type": "code",
      "source": [
        "import csv\n",
        "import json\n",
        "\n",
        "file_path_csv = os.path.join(folder_path, 'data.csv')\n",
        "with open(file_path_csv, newline='') as csvfile:\n",
        "  reader = csv.DictReader(csvfile)\n",
        "  data = [row for row in reader]\n",
        "\n",
        "file_path_json = os.path.join(folder_path, 'data.json')\n",
        "with open(file_path_json, 'w') as jsonfile:\n",
        "  json.dump(data, jsonfile)"
      ],
      "metadata": {
        "id": "TGC9Raqy4Pcd"
      },
      "execution_count": null,
      "outputs": []
    },
    {
      "cell_type": "markdown",
      "source": [
        "Apertura di un file .json e stampa del suo contenuto ..."
      ],
      "metadata": {
        "id": "34e4L9lS4ouu"
      }
    },
    {
      "cell_type": "code",
      "source": [
        "with open(file_path_json) as jsonfile:\n",
        "   json_data = json.load(jsonfile)\n",
        "print(json_data)"
      ],
      "metadata": {
        "colab": {
          "base_uri": "https://localhost:8080/"
        },
        "id": "kVub1BFE4t13",
        "outputId": "f17b8900-a01e-4438-bd81-8698a197f592"
      },
      "execution_count": null,
      "outputs": [
        {
          "output_type": "stream",
          "name": "stdout",
          "text": [
            "[{'Line': 'A', 'Type': 'automated', 'Capacity': '1000', 'UnitCost': '1.2', 'Saturation': '0.80'}, {'Line': 'B', 'Type': 'assisted', 'Capacity': '2000', 'UnitCost': '1.15', 'Saturation': '0.75'}, {'Line': 'C', 'Type': 'automated', 'Capacity': '1000', 'UnitCost': '1.21', 'Saturation': '0.55'}]\n"
          ]
        }
      ]
    },
    {
      "cell_type": "markdown",
      "source": [
        "Stampa del contenuto di un file .json con una formattazione human-friendly ..."
      ],
      "metadata": {
        "id": "x8HHjo9A43zW"
      }
    },
    {
      "cell_type": "code",
      "source": [
        "# Libreria che supporta la stampa human-friendly di liste, tuple e dizionari in maniera ricorsiva\n",
        "import pprint\n",
        "\n",
        "# Stampa human-friendly di un oggetto Python su uno stream [default è sys.stdout]\n",
        "pprint.pprint(json_data)"
      ],
      "metadata": {
        "colab": {
          "base_uri": "https://localhost:8080/"
        },
        "id": "uaNVBl044-a0",
        "outputId": "8279dd46-11ce-4e32-d62b-e305b3c8fe28"
      },
      "execution_count": null,
      "outputs": [
        {
          "output_type": "stream",
          "name": "stdout",
          "text": [
            "[{'Capacity': '1000',\n",
            "  'Line': 'A',\n",
            "  'Saturation': '0.80',\n",
            "  'Type': 'automated',\n",
            "  'UnitCost': '1.2'},\n",
            " {'Capacity': '2000',\n",
            "  'Line': 'B',\n",
            "  'Saturation': '0.75',\n",
            "  'Type': 'assisted',\n",
            "  'UnitCost': '1.15'},\n",
            " {'Capacity': '1000',\n",
            "  'Line': 'C',\n",
            "  'Saturation': '0.55',\n",
            "  'Type': 'automated',\n",
            "  'UnitCost': '1.21'}]\n"
          ]
        }
      ]
    },
    {
      "cell_type": "markdown",
      "source": [
        "Scrittura di un file .json con una formattazione human-friendly ..."
      ],
      "metadata": {
        "id": "BBpYc8dA5u-j"
      }
    },
    {
      "cell_type": "code",
      "source": [
        "pretty_json_str = pprint.pformat(json_data, compact=True).replace(\"'\",'\"')\n",
        "\n",
        "file_path_pretty_json = os.path.join(folder_path, 'pretty_data.json')\n",
        "with open(file_path_pretty_json, 'w') as f:\n",
        "  f.write(pretty_json_str)"
      ],
      "metadata": {
        "id": "4JGp2NpO5072"
      },
      "execution_count": null,
      "outputs": []
    },
    {
      "cell_type": "markdown",
      "source": [
        "**Lettura/scrittura di dati da/a file .xml**\n",
        "\n",
        "Un file XML (Extensible Markup Language) è un file di testo semplice che contiene dati strutturati in un formato simile all'HTML. XML è un linguaggio di markup che consente agli utenti di definire tag e formati di dati personalizzati. I file XML sono comunemente utilizzati per l'archiviazione e lo scambio di dati tra sistemi e piattaforme diverse.\n",
        "\n",
        "I file XML hanno tipicamente un'estensione .xml. Sono costituiti da elementi, attributi e contenuti testuali, organizzati in una struttura gerarchica. Ogni elemento di un file XML è definito da un tag iniziale `<tag>` e da un tag finale `</tag>`, che racchiudono il contenuto dell'elemento.\n",
        "\n",
        "Sono leggibili dall'uomo e dalla macchina, il che li rende adatti a memorizzare e scambiare dati strutturati in modo indipendente dalla piattaforma.\n",
        "\n",
        "I file XML e i file JSON sono entrambi utilizzati per scopi simili, come la memorizzazione e lo scambio di dati strutturati. JSON è da preferire se si ha bisogno di un formato leggero e di facile lettura per lo scambio di dati, soprattutto nello sviluppo web, dove JSON è ampiamente utilizzato per le richieste AJAX, le API e la serializzazione dei dati. Usate XML se dovete rappresentare strutture di dati complesse con relazioni gerarchiche, o se lavorate in un ambito in cui XML è già consolidato, come alcuni servizi web o formati di documenti."
      ],
      "metadata": {
        "id": "m7UCg0Y26j3J"
      }
    },
    {
      "cell_type": "markdown",
      "source": [
        "Creazione di un file .xml a partire da un file .csv ..."
      ],
      "metadata": {
        "id": "ZgyjFRSR7A0v"
      }
    },
    {
      "cell_type": "code",
      "source": [
        "import csv\n",
        "import xml.etree.ElementTree as ET\n",
        "\n",
        "# Apertura del file csv in modalità lettura\n",
        "file_path_csv = os.path.join(folder_path, 'data.csv')\n",
        "with open(file_path_csv, 'r') as csvfile:\n",
        "  # Creazione di un oggetto CSV reader\n",
        "  csvreader = csv.reader(csvfile)\n",
        "\n",
        "  # Prendiamo la riga intestazione\n",
        "  fields = next(csvreader)\n",
        "\n",
        "  # Creazione dell'elemento root del documento XML\n",
        "  root = ET.Element('data')\n",
        "\n",
        "  # Iteriamo sulle righe del file csv\n",
        "  for row in csvreader:\n",
        "    # Creazione di un nuovo elemento per ciascuna riga\n",
        "    row_element = ET.SubElement(root, 'row')\n",
        "\n",
        "    # Aggiunta di elementi figlio per ogni campo della riga\n",
        "    for field, value in zip(fields, row):\n",
        "      field_element = ET.SubElement(row_element, field)\n",
        "      field_element.text = value\n",
        "\n",
        "# Creazione di un oggetto ElementTree e scrittura su un file XML\n",
        "tree = ET.ElementTree(root)\n",
        "file_path_xml = os.path.join(folder_path, 'data.xml')\n",
        "tree.write(file_path_xml)"
      ],
      "metadata": {
        "id": "wgUrdqwA7GCG"
      },
      "execution_count": null,
      "outputs": []
    },
    {
      "cell_type": "markdown",
      "source": [
        "Apertura  di un file .xml e stampa dell'elemento root ..."
      ],
      "metadata": {
        "id": "eceM1cuc7tog"
      }
    },
    {
      "cell_type": "code",
      "source": [
        "import xml.etree.ElementTree as ET\n",
        "\n",
        "tree = ET.parse(file_path_xml)\n",
        "root = tree.getroot()\n",
        "print(\"Root is\",root)"
      ],
      "metadata": {
        "colab": {
          "base_uri": "https://localhost:8080/"
        },
        "id": "Ca3kXAT771TR",
        "outputId": "a9e702b4-3d55-43ae-fc2b-acdbf980640d"
      },
      "execution_count": null,
      "outputs": [
        {
          "output_type": "stream",
          "name": "stdout",
          "text": [
            "Root is <Element 'data' at 0x78f4d01a1170>\n"
          ]
        }
      ]
    },
    {
      "cell_type": "markdown",
      "source": [
        "L'istruzione precedente stampa solo un riferimento di memoria dell'oggetto root.\n",
        "\n",
        "Per stampare il nome del nodo radice:"
      ],
      "metadata": {
        "id": "AfX6X1fqQRIJ"
      }
    },
    {
      "cell_type": "code",
      "source": [
        "print(\"Root tag is:\", root.tag)"
      ],
      "metadata": {
        "colab": {
          "base_uri": "https://localhost:8080/"
        },
        "id": "XXa5Sh0hQR4m",
        "outputId": "7d381064-f5de-446f-fd73-8cfafc9e87ba"
      },
      "execution_count": null,
      "outputs": [
        {
          "output_type": "stream",
          "name": "stdout",
          "text": [
            "Root tag is: data\n"
          ]
        }
      ]
    },
    {
      "cell_type": "markdown",
      "source": [
        "Per esplorare il contenuto del file XML, scorrendo sui suoi sotto-elementi:"
      ],
      "metadata": {
        "id": "tfqyBH_nQSM2"
      }
    },
    {
      "cell_type": "code",
      "source": [
        "for row in root:\n",
        "  print(\"Elemento:\", row.tag)\n",
        "  for field in row:\n",
        "    print(f\"  {field.tag}: {field.text}\")"
      ],
      "metadata": {
        "colab": {
          "base_uri": "https://localhost:8080/"
        },
        "id": "gWAcis0uQUaK",
        "outputId": "822c6c8c-3a10-48df-971b-84ffbd80b142"
      },
      "execution_count": null,
      "outputs": [
        {
          "output_type": "stream",
          "name": "stdout",
          "text": [
            "Elemento: row\n",
            "  Line: A\n",
            "  Type: automated\n",
            "  Capacity: 1000\n",
            "  UnitCost: 1.2\n",
            "  Saturation: 0.80\n",
            "Elemento: row\n",
            "  Line: B\n",
            "  Type: assisted\n",
            "  Capacity: 2000\n",
            "  UnitCost: 1.15\n",
            "  Saturation: 0.75\n",
            "Elemento: row\n",
            "  Line: C\n",
            "  Type: automated\n",
            "  Capacity: 1000\n",
            "  UnitCost: 1.21\n",
            "  Saturation: 0.55\n"
          ]
        }
      ]
    },
    {
      "cell_type": "markdown",
      "source": [
        "**Lettura/scrittura di dati da/a file .html**\n",
        "\n",
        "Un file HTML (Hypertext Markup Language) è un file di testo semplice che contiene codice scritto in HTML. L'HTML è il linguaggio di markup standard utilizzato per creare e strutturare i contenuti sul Web. I file HTML sono gli elementi costitutivi delle pagine web e vengono interpretati dai browser web per visualizzare i contenuti agli utenti.\n",
        "\n",
        "I file HTML hanno tipicamente un'estensione .html. Sono composti da elementi HTML, definiti da tag racchiusi tra parentesi angolari < >. Questi tag definiscono la struttura e il contenuto di una pagina web, compresi testo, immagini, collegamenti, moduli ed elementi multimediali."
      ],
      "metadata": {
        "id": "83ZfcW3SAKmA"
      }
    },
    {
      "cell_type": "markdown",
      "source": [
        "Lettura di un file HTML ..."
      ],
      "metadata": {
        "id": "y1Cx2VR7Aad2"
      }
    },
    {
      "cell_type": "code",
      "source": [
        "from bs4 import BeautifulSoup\n",
        "\n",
        "file_path_html = os.path.join(folder_path, 'sales.html')\n",
        "# Load the HTML file\n",
        "with open(file_path_html, 'r') as file:\n",
        "  html_content = file.read()\n",
        "\n",
        "print(html_content)"
      ],
      "metadata": {
        "colab": {
          "base_uri": "https://localhost:8080/"
        },
        "id": "pNvFRK06Ad8Q",
        "outputId": "052d3cc2-d618-403f-aa97-6103f01fb591"
      },
      "execution_count": null,
      "outputs": [
        {
          "output_type": "stream",
          "name": "stdout",
          "text": [
            "<!DOCTYPE html>\n",
            "<html lang=\"en\">\n",
            "<head>\n",
            "    <meta charset=\"UTF-8\">\n",
            "    <meta name=\"viewport\" content=\"width=device-width, initial-scale=1.0\">\n",
            "    <title>Sales</title>\n",
            "</head>\n",
            "<body>\n",
            "\n",
            "<h1>Sales Numbers</h1>\n",
            "\n",
            "<table border=\"1\">\n",
            "    <tr>\n",
            "        <th>Product</th>\n",
            "        <th>January</th>\n",
            "        <th>February</th>\n",
            "        <th>March</th>\n",
            "    </tr>\n",
            "    <tr>\n",
            "        <td>Product A</td>\n",
            "        <td>100</td>\n",
            "        <td>150</td>\n",
            "        <td>200</td>\n",
            "    </tr>\n",
            "    <tr>\n",
            "        <td>Product B</td>\n",
            "        <td>120</td>\n",
            "        <td>130</td>\n",
            "        <td>140</td>\n",
            "    </tr>\n",
            "    <tr>\n",
            "        <td>Product C</td>\n",
            "        <td>80</td>\n",
            "        <td>90</td>\n",
            "        <td>100</td>\n",
            "    </tr>\n",
            "</table>\n",
            "\n",
            "</body>\n",
            "</html>\n",
            "\n"
          ]
        }
      ]
    },
    {
      "cell_type": "markdown",
      "source": [
        "Estrazione e stampa di dati con un tag specifico (in questo caso `<td>` da un file html ..."
      ],
      "metadata": {
        "id": "5-xdTph6A2cg"
      }
    },
    {
      "cell_type": "code",
      "source": [
        "# Create a BeautifulSoup object\n",
        "soup = BeautifulSoup(html_content, 'lxml')\n",
        "\n",
        "# Extracting and printing data with a <td> tag\n",
        "element_list = soup.find_all(\"td\")\n",
        "for element in element_list:\n",
        "    print(element.get_text())"
      ],
      "metadata": {
        "colab": {
          "base_uri": "https://localhost:8080/"
        },
        "id": "hT6sc3GqA87t",
        "outputId": "d9b18b4a-67bc-49ac-dfad-286d53fc2575"
      },
      "execution_count": null,
      "outputs": [
        {
          "output_type": "stream",
          "name": "stdout",
          "text": [
            "Product A\n",
            "100\n",
            "150\n",
            "200\n",
            "Product B\n",
            "120\n",
            "130\n",
            "140\n",
            "Product C\n",
            "80\n",
            "90\n",
            "100\n"
          ]
        }
      ]
    },
    {
      "cell_type": "markdown",
      "source": [
        "Web scraping"
      ],
      "metadata": {
        "id": "DB6kTPw-BQgT"
      }
    },
    {
      "cell_type": "code",
      "source": [
        "import requests\n",
        "from bs4 import BeautifulSoup\n",
        "\n",
        "# Define the URL of the webpage to scrape\n",
        "url = 'https://www.corriere.it/'\n",
        "\n",
        "# Send a GET request to the webpage\n",
        "response = requests.get(url)\n",
        "\n",
        "# Check if the request was successful (status code 200)\n",
        "if response.status_code == 200:\n",
        "    print(\"Fetch was successful.\\n\")\n",
        "\n",
        "    # Create a BeautifulSoup object with the webpage content\n",
        "    soup = BeautifulSoup(response.content, 'lxml')\n",
        "\n",
        "    # Find and print the title of the webpage\n",
        "    mytitle = soup.find('title').text\n",
        "    print(f\"HTMl Webpage Title: {mytitle}\")\n",
        "\n",
        "    # Find and print the first paragraph of the content\n",
        "    myparagraph = soup.find('p').text\n",
        "    print(f\"First Paragraph listed in the website: {myparagraph}\")\n",
        "\n",
        "else:\n",
        "    print(f\"Error code: {response.status_code}\")"
      ],
      "metadata": {
        "colab": {
          "base_uri": "https://localhost:8080/"
        },
        "id": "-sHdOC7YBSX9",
        "outputId": "fd84175f-a3fa-4e9b-f780-766f6e0b31ec"
      },
      "execution_count": 3,
      "outputs": [
        {
          "output_type": "stream",
          "name": "stdout",
          "text": [
            "Fetch was successful.\n",
            "\n",
            "HTMl Webpage Title: Corriere della Sera: News e Ultime notizie in tempo reale da Italia e Mondo\n",
            "First Paragraph listed in the website: \n",
            "Netto calo per i partiti del governo. Il voto è stato segnato dalle dichiarazioni del tycoon, che vuole l'isola artica\n"
          ]
        }
      ]
    },
    {
      "cell_type": "markdown",
      "source": [
        "**Attenzione** A volte i siti web caricano contenuti dinamici utilizzando JavaScript, che potrebbero non essere accessibili immediatamente quando la pagina viene recuperata. In questi casi, potrebbe essere necessario utilizzare tecniche più avanzate come Selenium WebDriver per effettuare lo scraping del contenuto caricato dinamicamente."
      ],
      "metadata": {
        "id": "BH-BdtOcxO5H"
      }
    }
  ]
}