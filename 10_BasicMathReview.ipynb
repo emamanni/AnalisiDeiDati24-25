{
  "nbformat": 4,
  "nbformat_minor": 0,
  "metadata": {
    "colab": {
      "provenance": [],
      "authorship_tag": "ABX9TyNDUG4E8/9vmCUCE6Wcj1bx",
      "include_colab_link": true
    },
    "kernelspec": {
      "name": "python3",
      "display_name": "Python 3"
    },
    "language_info": {
      "name": "python"
    }
  },
  "cells": [
    {
      "cell_type": "markdown",
      "metadata": {
        "id": "view-in-github",
        "colab_type": "text"
      },
      "source": [
        "<a href=\"https://colab.research.google.com/github/emamanni/AnalisiDeiDati24-25/blob/main/10_BasicMathReview.ipynb\" target=\"_parent\"><img src=\"https://colab.research.google.com/assets/colab-badge.svg\" alt=\"Open In Colab\"/></a>"
      ]
    },
    {
      "cell_type": "markdown",
      "source": [
        "# Basic math review: Algebra Lineare\n",
        "\n",
        "Nel presente notebook sarà illustrato l'utilizzo di NumPy per creare, manipolare ed effettuare operazioni su scalari, vettori e matrici."
      ],
      "metadata": {
        "id": "m1SGyYppQ9Dd"
      }
    },
    {
      "cell_type": "markdown",
      "source": [
        "## Scalari e vettori\n",
        "\n",
        "In precedenza, abbiamo già visto come definire scalari e vettori ed accedere ad elementi in essi contenuti.\n",
        "\n",
        "Le principali funzionalità sono riportate di seguito."
      ],
      "metadata": {
        "id": "MYMcKbWMXeAr"
      }
    },
    {
      "cell_type": "code",
      "execution_count": 1,
      "metadata": {
        "id": "RAX0CSNgQ3y-"
      },
      "outputs": [],
      "source": [
        "import numpy as np"
      ]
    },
    {
      "cell_type": "code",
      "source": [
        "# Uno scalare\n",
        "a = 5\n",
        "print(a)\n",
        "print(\"dtype:\", type(a), \"\\n\")\n",
        "a = 5.\n",
        "print(a)\n",
        "print(\"dtype:\", type(a))"
      ],
      "metadata": {
        "colab": {
          "base_uri": "https://localhost:8080/"
        },
        "id": "3-IaKfptTwVn",
        "outputId": "488f264e-11fd-427b-bd67-28f5c82ef484"
      },
      "execution_count": null,
      "outputs": [
        {
          "output_type": "stream",
          "name": "stdout",
          "text": [
            "5\n",
            "dtype: <class 'int'> \n",
            "\n",
            "5.0\n",
            "dtype: <class 'float'>\n"
          ]
        }
      ]
    },
    {
      "cell_type": "code",
      "source": [
        "# Rappresentazione NumPy del vettore [1, 2, 3, 4]\n",
        "x = np.array([1,2,3,4])\n",
        "print(x)\n",
        "print(\"dtype:\", x.dtype, \"\\n\")\n",
        "\n",
        "x = np.array([1.,2.,3.,4.])\n",
        "print(x)\n",
        "print(\"dtype:\", x.dtype)"
      ],
      "metadata": {
        "colab": {
          "base_uri": "https://localhost:8080/"
        },
        "id": "7QplMkmcUDSp",
        "outputId": "fc211165-41c4-431c-baf4-56cb7612048e"
      },
      "execution_count": null,
      "outputs": [
        {
          "output_type": "stream",
          "name": "stdout",
          "text": [
            "[1 2 3 4]\n",
            "dtype: int64 \n",
            "\n",
            "[1. 2. 3. 4.]\n",
            "dtype: float64\n"
          ]
        }
      ]
    },
    {
      "cell_type": "code",
      "source": [
        "print(\"x[1] = \", x[1])   # accedere a singoli elementi del vettore\n",
        "print(\"x[-1] = \", x[-1]) # per indicizzare a partire dalla fine del vettore, è possibile utilizzare indici negativi\n",
        "print(\"Dimensioni di x\", x.shape,)\n",
        "x[1] = -33  # i valori possono essere modificati anche utilizzando una qualsiasi delle notazioni di cui sopra\n",
        "print(\"x[1] dopo la modifica = \", x[1])\n",
        "x[-1] = -44\n",
        "print(\"x[-1] dopo la modifica = \", x[-1])\n",
        "print(\"x dall'indice 2 in poi:\", x[2:])  # array slicing, cioè accedere a sotto-vettori"
      ],
      "metadata": {
        "colab": {
          "base_uri": "https://localhost:8080/"
        },
        "id": "dPxmid8aUPrP",
        "outputId": "f8c8e187-64bb-4896-ac07-148f79b42716"
      },
      "execution_count": null,
      "outputs": [
        {
          "output_type": "stream",
          "name": "stdout",
          "text": [
            "x[1] =  2.0\n",
            "x[-1] =  4.0\n",
            "Dimensioni di x (4,)\n",
            "x[1] dopo la modifica =  -33.0\n",
            "x[-1] dopo la modifica =  -44.0\n",
            "x dall'indice 2 in poi: [  3. -44.]\n"
          ]
        }
      ]
    },
    {
      "cell_type": "code",
      "source": [
        "# La funzione arange crea un vettore composto da una sequenza di numeri\n",
        "b = np.arange(0, 11)\n",
        "print(b, \"\\n\")\n",
        "\n",
        "c = np.arange(0., 2., 0.4)\n",
        "print(c, \"\\n\")"
      ],
      "metadata": {
        "colab": {
          "base_uri": "https://localhost:8080/"
        },
        "id": "GDGO_HYEVOiG",
        "outputId": "54b81dd2-b63f-4f91-cb1b-c3c04c8fa5e0"
      },
      "execution_count": null,
      "outputs": [
        {
          "output_type": "stream",
          "name": "stdout",
          "text": [
            "[ 0  1  2  3  4  5  6  7  8  9 10] \n",
            "\n",
            "[0.  0.4 0.8 1.2 1.6] \n",
            "\n"
          ]
        }
      ]
    },
    {
      "cell_type": "code",
      "source": [
        "# L'aritmetica in virgola mobile può causare problemi con valori non interi\n",
        "# del parametro che rappresenta il passo di incremento\n",
        "# Nell'esempio seguente, ci si aspetterebbe che l'ultimo valore di questa\n",
        "# matrice fosse 1.8, ma in realtà è 2.1\n",
        "d = np.arange(0., 2.1, 0.3)\n",
        "print(d)"
      ],
      "metadata": {
        "colab": {
          "base_uri": "https://localhost:8080/"
        },
        "id": "dnW-G-3rVh8h",
        "outputId": "ec311153-3cb1-42a0-818d-a4f3f7d261f7"
      },
      "execution_count": null,
      "outputs": [
        {
          "output_type": "stream",
          "name": "stdout",
          "text": [
            "[0.  0.3 0.6 0.9 1.2 1.5 1.8 2.1]\n"
          ]
        }
      ]
    },
    {
      "cell_type": "code",
      "source": [
        "# Un'alternativa ad arange che risolve il problema\n",
        "e = np.linspace(0.,3.5,8)\n",
        "print(e)"
      ],
      "metadata": {
        "colab": {
          "base_uri": "https://localhost:8080/"
        },
        "id": "U-ndaoIhWkFE",
        "outputId": "e802674e-4b88-403e-9850-6047aa9d828d"
      },
      "execution_count": null,
      "outputs": [
        {
          "output_type": "stream",
          "name": "stdout",
          "text": [
            "[0.  0.5 1.  1.5 2.  2.5 3.  3.5]\n"
          ]
        }
      ]
    },
    {
      "cell_type": "code",
      "source": [
        "# Le funzioni zeroes e ones\n",
        "\n",
        "# Le tuple dell'elenco degli argomenti definiscono la forma dei vettori\n",
        "f = np.zeros(4)\n",
        "print(f, \"\\n\")\n",
        "\n",
        "g = np.ones(5)\n",
        "print(g)"
      ],
      "metadata": {
        "colab": {
          "base_uri": "https://localhost:8080/"
        },
        "id": "reBuii-bW_RC",
        "outputId": "97619b10-82d4-42c9-d51a-5b9390a8d12f"
      },
      "execution_count": null,
      "outputs": [
        {
          "output_type": "stream",
          "name": "stdout",
          "text": [
            "[0. 0. 0. 0.] \n",
            "\n",
            "[1. 1. 1. 1. 1.]\n"
          ]
        }
      ]
    },
    {
      "cell_type": "markdown",
      "source": [
        "## Matrici\n",
        "\n",
        "Di seguito l'utilizzo di NumPy per definire matrici, per accedere a loro elementi singoli o a sotto-matrici."
      ],
      "metadata": {
        "id": "BPg-FdqZXaWV"
      }
    },
    {
      "cell_type": "code",
      "source": [
        "A = np.array([[1,0,0], [0,1,0], [0,0,1]])\n",
        "print(\"Matrice A:\\n\", A, \"\\n\")\n",
        "print(\"A[0][0]:\", A[0][0], \"\\n\")   # accedere a un singolo elemento della matrice\n",
        "print(\"Dimensioni della matrice A:\", A.shape, \"\\n\")\n",
        "A[0][1] = -33  # modificare un singolo elemento della matrice\n",
        "print(\"Matrice A dopo la modifica di A[0][1]:\\n\", A, \"\\n\")\n",
        "print(\"Sotto-matrice A[1:3, :2]:\\n\", A[1:3, :2])  # accedere a sotto-matrici tramite slicing"
      ],
      "metadata": {
        "colab": {
          "base_uri": "https://localhost:8080/"
        },
        "id": "dl1KNG00YCw4",
        "outputId": "49499508-8ea7-46df-b2ad-962f8a73af12"
      },
      "execution_count": null,
      "outputs": [
        {
          "output_type": "stream",
          "name": "stdout",
          "text": [
            "Matrice A:\n",
            " [[1 0 0]\n",
            " [0 1 0]\n",
            " [0 0 1]] \n",
            "\n",
            "A[0][0]: 1 \n",
            "\n",
            "Dimensioni della matrice A: (3, 3) \n",
            "\n",
            "Matrice A dopo la modifica di A[0][1]:\n",
            " [[  1 -33   0]\n",
            " [  0   1   0]\n",
            " [  0   0   1]] \n",
            "\n",
            "Sotto-matrice A[1:3, :2]:\n",
            " [[0 1]\n",
            " [0 0]]\n"
          ]
        }
      ]
    },
    {
      "cell_type": "code",
      "source": [
        "# Creazione di una matrice tramite reshaping di un vettore\n",
        "x = np.array([1,2,3,4,5,6,7,8,9])\n",
        "C = x.reshape(3,3)\n",
        "print(C)"
      ],
      "metadata": {
        "colab": {
          "base_uri": "https://localhost:8080/"
        },
        "id": "0l0KxKqCaVS9",
        "outputId": "f906641d-6158-4186-da64-caca9aa78ba5"
      },
      "execution_count": null,
      "outputs": [
        {
          "output_type": "stream",
          "name": "stdout",
          "text": [
            "[[1 2 3]\n",
            " [4 5 6]\n",
            " [7 8 9]]\n"
          ]
        }
      ]
    },
    {
      "cell_type": "code",
      "source": [
        "x = np.array([1, 2, 3])\n",
        "print(x)\n",
        "print(\"Dimensioni di x:\", x.shape, \"\\n\")\n",
        "x = x.reshape(3,1)  # vettore colonna attraverso reshape\n",
        "print(x)\n",
        "print(\"Dimensioni di x:\", x.shape, \"\\n\")\n",
        "x = x.reshape(1,3)  # vettore riga attraverso reshape\n",
        "print(x)\n",
        "print(\"Dimensioni di x:\", x.shape)"
      ],
      "metadata": {
        "colab": {
          "base_uri": "https://localhost:8080/"
        },
        "id": "w0dT35-1af1Q",
        "outputId": "72418f80-7f9d-4635-95c0-3ecc52d3ed32"
      },
      "execution_count": null,
      "outputs": [
        {
          "output_type": "stream",
          "name": "stdout",
          "text": [
            "[1 2 3]\n",
            "Dimensioni di x: (3,) \n",
            "\n",
            "[[1]\n",
            " [2]\n",
            " [3]]\n",
            "Dimensioni di x: (3, 1) \n",
            "\n",
            "[[1 2 3]]\n",
            "Dimensioni di x: (1, 3)\n"
          ]
        }
      ]
    },
    {
      "cell_type": "code",
      "source": [
        "# Matrice identità di dimensione n (es: n = 3)\n",
        "I = np.identity(3)\n",
        "print(I)"
      ],
      "metadata": {
        "colab": {
          "base_uri": "https://localhost:8080/"
        },
        "id": "wHB7khK4sLD2",
        "outputId": "e6047f40-66c9-4f92-d59f-c853b499932f"
      },
      "execution_count": 4,
      "outputs": [
        {
          "output_type": "stream",
          "name": "stdout",
          "text": [
            "[[1. 0. 0.]\n",
            " [0. 1. 0.]\n",
            " [0. 0. 1.]]\n"
          ]
        }
      ]
    },
    {
      "cell_type": "markdown",
      "source": [
        "## Tensori"
      ],
      "metadata": {
        "id": "ywJa2n5WeGG-"
      }
    },
    {
      "cell_type": "code",
      "source": [
        "T1 = np.array([[[1,0,0], [0,1,0]], [[0,0,1], [1,0,0]]])\n",
        "print(\"Tensore T1:\\n\", T1, \"\\n\")\n",
        "print(\"Dimensione di T1:\", T1.shape, \"\\n\")\n",
        "\n",
        "\n",
        "T2 = np.arange(27)\n",
        "T2 = T2.reshape(3,3,3)\n",
        "print(\"Tensore T2:\\n\", T2, \"\\n\")\n",
        "print(\"Dimensione di T2:\", T2.shape, \"\\n\")"
      ],
      "metadata": {
        "colab": {
          "base_uri": "https://localhost:8080/"
        },
        "id": "YprpYd4reJWZ",
        "outputId": "d3a82675-3c47-419d-c0b6-7a79167c9a0d"
      },
      "execution_count": null,
      "outputs": [
        {
          "output_type": "stream",
          "name": "stdout",
          "text": [
            "Tensore T1:\n",
            " [[[1 0 0]\n",
            "  [0 1 0]]\n",
            "\n",
            " [[0 0 1]\n",
            "  [1 0 0]]] \n",
            "\n",
            "Dimensione di T1: (2, 2, 3) \n",
            "\n",
            "Tensore T2:\n",
            " [[[ 0  1  2]\n",
            "  [ 3  4  5]\n",
            "  [ 6  7  8]]\n",
            "\n",
            " [[ 9 10 11]\n",
            "  [12 13 14]\n",
            "  [15 16 17]]\n",
            "\n",
            " [[18 19 20]\n",
            "  [21 22 23]\n",
            "  [24 25 26]]] \n",
            "\n",
            "Dimensione di T2: (3, 3, 3) \n",
            "\n"
          ]
        }
      ]
    },
    {
      "cell_type": "markdown",
      "source": [
        "## Operazioni con le matrici"
      ],
      "metadata": {
        "id": "U7Uj1Iq8e9rm"
      }
    },
    {
      "cell_type": "code",
      "source": [
        "# trasposta di una matrice\n",
        "A = np.array([[1,2,3], [4,5,6], [7,8,9]])\n",
        "A.transpose()\n",
        "print(A, \"\\n\")\n",
        "A = A.transpose()\n",
        "print(A)"
      ],
      "metadata": {
        "colab": {
          "base_uri": "https://localhost:8080/"
        },
        "id": "YkEynxNwfApV",
        "outputId": "6b22f785-a03c-4a2a-d28f-22c0c2be4da8"
      },
      "execution_count": null,
      "outputs": [
        {
          "output_type": "stream",
          "name": "stdout",
          "text": [
            "[[1 2 3]\n",
            " [4 5 6]\n",
            " [7 8 9]] \n",
            "\n",
            "[[1 4 7]\n",
            " [2 5 8]\n",
            " [3 6 9]]\n"
          ]
        }
      ]
    },
    {
      "cell_type": "code",
      "source": [
        "# somma di matrici (di ugual dimensione)\n",
        "D = A + I\n",
        "print(D)"
      ],
      "metadata": {
        "colab": {
          "base_uri": "https://localhost:8080/"
        },
        "id": "yL05kOvAsTik",
        "outputId": "54ec21e9-f4e7-49f4-ab19-13b5f41a20fe"
      },
      "execution_count": null,
      "outputs": [
        {
          "output_type": "stream",
          "name": "stdout",
          "text": [
            "[[ 2.  4.  7.]\n",
            " [ 2.  6.  8.]\n",
            " [ 3.  6. 10.]]\n"
          ]
        }
      ]
    },
    {
      "cell_type": "code",
      "source": [
        "# moltiplicazione di una matrice per uno scalare\n",
        "a = 3\n",
        "E = a * D\n",
        "print(E)"
      ],
      "metadata": {
        "colab": {
          "base_uri": "https://localhost:8080/"
        },
        "id": "-R7lkqiWsng6",
        "outputId": "7e8da333-0fa3-45ba-cb6d-31e1e8c06c48"
      },
      "execution_count": null,
      "outputs": [
        {
          "output_type": "stream",
          "name": "stdout",
          "text": [
            "[[ 6. 12. 21.]\n",
            " [ 6. 18. 24.]\n",
            " [ 9. 18. 30.]]\n"
          ]
        }
      ]
    },
    {
      "cell_type": "code",
      "source": [
        "# prodotto matriciale C = AB\n",
        "# A (4x2)\n",
        "# B (2x3)\n",
        "A = np.array([[1,2], [4,5], [7,8], [3,6]])\n",
        "B = np.array([[1,2,3], [4,5,6]])\n",
        "print(\"Matrice A di dimensione\", A.shape,\":\\n\", A)\n",
        "print(\"Matrice B di dimensione\", B.shape,\":\\n\", B)\n",
        "C = np.matmul(A, B)\n",
        "print(\"Matrice C = AB di dimensione\", C.shape,\":\\n\", C)"
      ],
      "metadata": {
        "colab": {
          "base_uri": "https://localhost:8080/"
        },
        "id": "fyz-Vh1esvhP",
        "outputId": "53214ff2-80b9-4664-cf88-cf006308069c"
      },
      "execution_count": null,
      "outputs": [
        {
          "output_type": "stream",
          "name": "stdout",
          "text": [
            "Matrice A di dimensione (4, 2) :\n",
            " [[1 2]\n",
            " [4 5]\n",
            " [7 8]\n",
            " [3 6]]\n",
            "Matrice B di dimensione (2, 3) :\n",
            " [[1 2 3]\n",
            " [4 5 6]]\n",
            "Matrice C = AB di dimensione (4, 3) :\n",
            " [[ 9 12 15]\n",
            " [24 33 42]\n",
            " [39 54 69]\n",
            " [27 36 45]]\n"
          ]
        }
      ]
    },
    {
      "cell_type": "code",
      "source": [
        "# prodotto tra vettori a^T b vs a b^T\n",
        "x = np.array([1, 2, 3])\n",
        "a = x.reshape(1,3)  # vettore riga attraverso reshape\n",
        "print(\"Vettore a^T:\\n\", a)\n",
        "print(\"Dimensioni di a^T:\", a.shape, \"\\n\")\n",
        "\n",
        "b = x.reshape(3,1)  # vettore colonna attraverso reshape\n",
        "print(\"Vettore b:\\n\", b)\n",
        "print(\"Dimensioni di b:\", b.shape, \"\\n\")\n",
        "\n",
        "c = np.dot(a, b)\n",
        "print(\"c = a^T b:\\n\",c)\n",
        "print(\"Dimensioni di c:\", c.shape, \"\\n\")\n",
        "\n",
        "a = x.reshape(3,1)  # vettore colonna attraverso reshape\n",
        "print(\"Vettore a:\\n\", a)\n",
        "print(\"Dimensioni di a:\", a.shape, \"\\n\")\n",
        "\n",
        "b = x.reshape(1,3)  # vettore riga attraverso reshape\n",
        "print(\"Vettore b^T:\\n\", b)\n",
        "print(\"Dimensioni di b^T:\", b.shape, \"\\n\")\n",
        "\n",
        "c = np.dot(a, b)\n",
        "print(\"c = a b^T:\\n\",c)\n",
        "print(\"Dimensioni di c:\", c.shape, \"\\n\")"
      ],
      "metadata": {
        "colab": {
          "base_uri": "https://localhost:8080/"
        },
        "id": "IAKmou_wtHLG",
        "outputId": "4acb2456-b75f-47fd-af19-39a4136e7bbe"
      },
      "execution_count": null,
      "outputs": [
        {
          "output_type": "stream",
          "name": "stdout",
          "text": [
            "Vettore a^T:\n",
            " [[1 2 3]]\n",
            "Dimensioni di a^T: (1, 3) \n",
            "\n",
            "Vettore b:\n",
            " [[1]\n",
            " [2]\n",
            " [3]]\n",
            "Dimensioni di b: (3, 1) \n",
            "\n",
            "c = a^T b:\n",
            " [[14]]\n",
            "Dimensioni di c: (1, 1) \n",
            "\n",
            "Vettore a:\n",
            " [[1]\n",
            " [2]\n",
            " [3]]\n",
            "Dimensioni di a: (3, 1) \n",
            "\n",
            "Vettore b^T:\n",
            " [[1 2 3]]\n",
            "Dimensioni di b^T: (1, 3) \n",
            "\n",
            "c = a b^T:\n",
            " [[1 2 3]\n",
            " [2 4 6]\n",
            " [3 6 9]]\n",
            "Dimensioni di c: (3, 3) \n",
            "\n"
          ]
        }
      ]
    },
    {
      "cell_type": "code",
      "source": [
        "# Proprietà del prodotto matriciale\n",
        "A = np.array([[1,12,7], [2,18,10], [3,1,4]])\n",
        "B = np.array([[1,5,4], [6,11,2], [3,2,8]])\n",
        "C = np.array([[1,2,3], [4,5,6], [7,8,9]])\n",
        "\n",
        "# Distributiva\n",
        "D = np.matmul(A, B+C)\n",
        "E = np.matmul(A, B) + np.matmul(A, C)\n",
        "print(\"Matrice A(B+C):\\n\", D, \"\\n\")\n",
        "print(\"Matrice AB + AC:\\n\", E)"
      ],
      "metadata": {
        "colab": {
          "base_uri": "https://localhost:8080/"
        },
        "id": "Nl2OAtGTw8M4",
        "outputId": "eaaf1b09-6ef4-4a22-bd0b-c0d54b496c0a"
      },
      "execution_count": null,
      "outputs": [
        {
          "output_type": "stream",
          "name": "stdout",
          "text": [
            "Matrice A(B+C):\n",
            " [[192 269 222]\n",
            " [284 402 328]\n",
            " [ 56  77  97]] \n",
            "\n",
            "Matrice AB + AC:\n",
            " [[192 269 222]\n",
            " [284 402 328]\n",
            " [ 56  77  97]]\n"
          ]
        }
      ]
    },
    {
      "cell_type": "code",
      "source": [
        "# Associativa\n",
        "F = np.matmul(A, np.matmul(B, C))\n",
        "G = np.matmul(np.matmul(A, B), C)\n",
        "print(\"Matrice A(BC):\\n\", F, \"\\n\")\n",
        "print(\"Matrice (AB)C:\\n\", G)"
      ],
      "metadata": {
        "colab": {
          "base_uri": "https://localhost:8080/"
        },
        "id": "2XjvWRsnzLUC",
        "outputId": "c6352423-c1a8-46ec-b039-323b05a4d301"
      },
      "execution_count": null,
      "outputs": [
        {
          "output_type": "stream",
          "name": "stdout",
          "text": [
            "Matrice A(BC):\n",
            " [[1286 1615 1944]\n",
            " [1920 2412 2904]\n",
            " [ 479  580  681]] \n",
            "\n",
            "Matrice (AB)C:\n",
            " [[1286 1615 1944]\n",
            " [1920 2412 2904]\n",
            " [ 479  580  681]]\n"
          ]
        }
      ]
    },
    {
      "cell_type": "code",
      "source": [
        "# Non vale la proprietà commutativa\n",
        "H = np.matmul(A,B)\n",
        "J = np.matmul(B,A)\n",
        "print(\"Matrice AB:\\n\", H, \"\\n\")\n",
        "print(\"Matrice BA:\\n\", J)"
      ],
      "metadata": {
        "colab": {
          "base_uri": "https://localhost:8080/"
        },
        "id": "U-vtyoGG0AN7",
        "outputId": "a3e78b95-c15f-495e-9fd4-02a911482a6f"
      },
      "execution_count": null,
      "outputs": [
        {
          "output_type": "stream",
          "name": "stdout",
          "text": [
            "Matrice AB:\n",
            " [[ 94 151  84]\n",
            " [140 228 124]\n",
            " [ 21  34  46]] \n",
            "\n",
            "Matrice BA:\n",
            " [[ 23 106  73]\n",
            " [ 34 272 160]\n",
            " [ 31  80  73]]\n"
          ]
        }
      ]
    },
    {
      "cell_type": "code",
      "source": [
        "# Il prodotto tra vettori è commutativo\n",
        "x = np.array([1, 2, 3])\n",
        "x = x.reshape(1,3)  # vettore riga attraverso reshape\n",
        "print(\"Vettore x^T:\\n\", x)\n",
        "\n",
        "y = np.array([4, 5, 6])\n",
        "y = y.reshape(3,1)  # vettore colonna attraverso reshape\n",
        "print(\"Vettore y:\\n\", y)\n",
        "\n",
        "c = np.dot(x, y)\n",
        "print(\"c = x^T y:\\n\",c)\n",
        "\n",
        "x = x.reshape(3,1)  # vettore colonna attraverso reshape\n",
        "print(\"Vettore x:\\n\", x)\n",
        "\n",
        "y = y.reshape(1,3)  # vettore riga attraverso reshape\n",
        "print(\"Vettore y^T:\\n\", y)\n",
        "\n",
        "c = np.dot(y, x)\n",
        "print(\"c = y^T x:\\n\",c)"
      ],
      "metadata": {
        "colab": {
          "base_uri": "https://localhost:8080/"
        },
        "id": "6D_eouX91A9X",
        "outputId": "68660b60-3308-47e6-d062-db641513d3fe"
      },
      "execution_count": null,
      "outputs": [
        {
          "output_type": "stream",
          "name": "stdout",
          "text": [
            "Vettore x^T:\n",
            " [[1 2 3]]\n",
            "Vettore y:\n",
            " [[4]\n",
            " [5]\n",
            " [6]]\n",
            "c = x^T y:\n",
            " [[32]]\n",
            "Vettore x:\n",
            " [[1]\n",
            " [2]\n",
            " [3]]\n",
            "Vettore y^T:\n",
            " [[4 5 6]]\n",
            "c = y^T x:\n",
            " [[32]]\n"
          ]
        }
      ]
    },
    {
      "cell_type": "code",
      "source": [
        "# Determinante di una matrice quadrata\n",
        "det = np.linalg.det(A)\n",
        "print(det)"
      ],
      "metadata": {
        "colab": {
          "base_uri": "https://localhost:8080/"
        },
        "id": "Ae8HnfXn2cuc",
        "outputId": "1a268cfa-e90b-4925-c46a-3f4a245642eb"
      },
      "execution_count": null,
      "outputs": [
        {
          "output_type": "stream",
          "name": "stdout",
          "text": [
            "-37.99999999999994\n"
          ]
        }
      ]
    },
    {
      "cell_type": "code",
      "source": [
        "# Inversa di una matrice quadrata non singolare\n",
        "Ainv = np.linalg.inv(A)\n",
        "print(\"Matrice A^{-1}:\\n\", Ainv, \"\\n\\n\")\n",
        "print(\"Matrice A A^{-1}:\\n\", np.matmul(A,Ainv), \"\\n\\n\")"
      ],
      "metadata": {
        "colab": {
          "base_uri": "https://localhost:8080/"
        },
        "id": "_3JXC7F12cvt",
        "outputId": "ce03d6e0-4cc3-42b7-fb14-b28f55c05c47"
      },
      "execution_count": null,
      "outputs": [
        {
          "output_type": "stream",
          "name": "stdout",
          "text": [
            "Matrice A^{-1}:\n",
            " [[-1.63157895  1.07894737  0.15789474]\n",
            " [-0.57894737  0.44736842 -0.10526316]\n",
            " [ 1.36842105 -0.92105263  0.15789474]] \n",
            "\n",
            "\n",
            "Matrice A A^{-1}:\n",
            " [[ 1.00000000e+00 -2.22044605e-16  2.77555756e-17]\n",
            " [ 0.00000000e+00  1.00000000e+00 -5.55111512e-17]\n",
            " [ 0.00000000e+00  0.00000000e+00  1.00000000e+00]] \n",
            "\n",
            "\n"
          ]
        }
      ]
    },
    {
      "cell_type": "markdown",
      "source": [
        "## Matrix cookbook"
      ],
      "metadata": {
        "id": "kQ7QiZv4ok49"
      }
    },
    {
      "cell_type": "code",
      "source": [
        "# (A + B)^T = A^T + B^T\n",
        "A = np.array([[1,12,7], [2,18,10], [3,1,4]])\n",
        "B = np.array([[1,5,4], [6,11,2], [3,2,8]])\n",
        "\n",
        "C = np.transpose(A + B)\n",
        "D = np.transpose(A) + np.transpose(B)\n",
        "\n",
        "print(C)\n",
        "print(D)"
      ],
      "metadata": {
        "colab": {
          "base_uri": "https://localhost:8080/"
        },
        "id": "7v6Ab0ELom1u",
        "outputId": "08c31eda-b212-4774-efb7-099d4d796ed5"
      },
      "execution_count": 6,
      "outputs": [
        {
          "output_type": "stream",
          "name": "stdout",
          "text": [
            "[[ 2  8  6]\n",
            " [17 29  3]\n",
            " [11 12 12]]\n",
            "[[ 2  8  6]\n",
            " [17 29  3]\n",
            " [11 12 12]]\n"
          ]
        }
      ]
    },
    {
      "cell_type": "code",
      "source": [
        "# (AB)^T = B^T A^T\n",
        "C = np.transpose(np.matmul(A,B))\n",
        "D = np.matmul(np.transpose(B), np.transpose(A))\n",
        "\n",
        "print(C)\n",
        "print(D)"
      ],
      "metadata": {
        "colab": {
          "base_uri": "https://localhost:8080/"
        },
        "id": "FuM_c-RZon__",
        "outputId": "c92b40bd-c23c-4136-8fab-7b2ce1cbcac8"
      },
      "execution_count": 7,
      "outputs": [
        {
          "output_type": "stream",
          "name": "stdout",
          "text": [
            "[[ 94 140  21]\n",
            " [151 228  34]\n",
            " [ 84 124  46]]\n",
            "[[ 94 140  21]\n",
            " [151 228  34]\n",
            " [ 84 124  46]]\n"
          ]
        }
      ]
    },
    {
      "cell_type": "code",
      "source": [
        "# (AB)^T = B^T A^T\n",
        "C = np.linalg.inv(np.matmul(A,B))\n",
        "D = np.matmul(np.linalg.inv(B), np.linalg.inv(A))\n",
        "\n",
        "print(C)\n",
        "print(D)"
      ],
      "metadata": {
        "colab": {
          "base_uri": "https://localhost:8080/"
        },
        "id": "TeVRMjW4on6g",
        "outputId": "ca9ffd3a-5380-4c97-fd9d-512211707958"
      },
      "execution_count": 9,
      "outputs": [
        {
          "output_type": "stream",
          "name": "stdout",
          "text": [
            "[[ 0.78596491 -0.51253133 -0.05363409]\n",
            " [-0.48070175  0.32080201  0.01303258]\n",
            " [-0.00350877 -0.00313283  0.03659148]]\n",
            "[[ 0.78596491 -0.51253133 -0.05363409]\n",
            " [-0.48070175  0.32080201  0.01303258]\n",
            " [-0.00350877 -0.00313283  0.03659148]]\n"
          ]
        }
      ]
    },
    {
      "cell_type": "code",
      "source": [
        "# (A^T)^-1 = (A^-1)^T\n",
        "C = np.linalg.inv(np.transpose(A))\n",
        "D = np.transpose(np.linalg.inv(A))\n",
        "\n",
        "print(C)\n",
        "print(D)"
      ],
      "metadata": {
        "colab": {
          "base_uri": "https://localhost:8080/"
        },
        "id": "h1d666jbon0O",
        "outputId": "cd875576-2d69-47e2-f2f0-7006c08b02a0"
      },
      "execution_count": 10,
      "outputs": [
        {
          "output_type": "stream",
          "name": "stdout",
          "text": [
            "[[-1.63157895 -0.57894737  1.36842105]\n",
            " [ 1.07894737  0.44736842 -0.92105263]\n",
            " [ 0.15789474 -0.10526316  0.15789474]]\n",
            "[[-1.63157895 -0.57894737  1.36842105]\n",
            " [ 1.07894737  0.44736842 -0.92105263]\n",
            " [ 0.15789474 -0.10526316  0.15789474]]\n"
          ]
        }
      ]
    },
    {
      "cell_type": "code",
      "source": [
        "# det(c A) = cn det(A)\n",
        "c = 2\n",
        "\n",
        "det1 = np.linalg.det(c * A)\n",
        "det2 = (c ** A.shape[0]) * np.linalg.det(A)\n",
        "\n",
        "print(det1)\n",
        "print(det2)"
      ],
      "metadata": {
        "colab": {
          "base_uri": "https://localhost:8080/"
        },
        "id": "OWbCH1xlontO",
        "outputId": "3bdc2b86-90fb-490c-a80a-5c14eae7d36a"
      },
      "execution_count": 11,
      "outputs": [
        {
          "output_type": "stream",
          "name": "stdout",
          "text": [
            "-303.9999999999995\n",
            "-303.99999999999955\n"
          ]
        }
      ]
    },
    {
      "cell_type": "code",
      "source": [
        "# det(A^T) = det(A)\n",
        "det1 = np.linalg.det(np.transpose(A))\n",
        "det2 = np.linalg.det(A)\n",
        "\n",
        "print(det1)\n",
        "print(det2)"
      ],
      "metadata": {
        "colab": {
          "base_uri": "https://localhost:8080/"
        },
        "id": "vT7DG4ykonmM",
        "outputId": "20ead22a-89ea-4656-bdc6-29082e565564"
      },
      "execution_count": 12,
      "outputs": [
        {
          "output_type": "stream",
          "name": "stdout",
          "text": [
            "-37.99999999999993\n",
            "-37.99999999999994\n"
          ]
        }
      ]
    },
    {
      "cell_type": "code",
      "source": [
        "# det(AB) = det(A)det(B)\n",
        "det1 = np.linalg.det(np.matmul(A,B))\n",
        "det2 = np.linalg.det(A) * np.linalg.det(B)\n",
        "\n",
        "print(det1)\n",
        "print(det2)"
      ],
      "metadata": {
        "colab": {
          "base_uri": "https://localhost:8080/"
        },
        "id": "afM7mAmxoneb",
        "outputId": "0284daff-09fe-4bee-cb37-7d9677cf51df"
      },
      "execution_count": 13,
      "outputs": [
        {
          "output_type": "stream",
          "name": "stdout",
          "text": [
            "7979.999999999905\n",
            "7979.999999999994\n"
          ]
        }
      ]
    },
    {
      "cell_type": "code",
      "source": [
        "# det(A^{-1}) = 1/det(A)\n",
        "det1 = np.linalg.det(np.linalg.inv(A))\n",
        "det2 = 1/np.linalg.det(A)\n",
        "\n",
        "print(det1)\n",
        "print(det2)"
      ],
      "metadata": {
        "colab": {
          "base_uri": "https://localhost:8080/"
        },
        "id": "fWNRU-KQonVj",
        "outputId": "d3a3d078-42ab-45f4-9173-ba34eae58d39"
      },
      "execution_count": 14,
      "outputs": [
        {
          "output_type": "stream",
          "name": "stdout",
          "text": [
            "-0.02631578947368427\n",
            "-0.02631578947368425\n"
          ]
        }
      ]
    },
    {
      "cell_type": "code",
      "source": [
        "# det(I + u v^T) = 1 + u^T v\n",
        "u = np.array([1, 2, 3])\n",
        "u = u.reshape(3,1)  # vettore colonna attraverso reshape\n",
        "uT = u.reshape(1,3)  # vettore riga attraverso reshape\n",
        "\n",
        "v = np.array([4, 5, 6])\n",
        "vT = v.reshape(1,3)  # vettore riga attraverso reshape\n",
        "v = v.reshape(3,1)  # vettore colonna attraverso reshape\n",
        "\n",
        "det1 = np.linalg.det(np.identity(3) + np.dot(u, vT))\n",
        "det2 = 1 + np.dot(uT, v)\n",
        "\n",
        "print(det1)\n",
        "print(det2)"
      ],
      "metadata": {
        "colab": {
          "base_uri": "https://localhost:8080/"
        },
        "id": "EiVOqU3konL6",
        "outputId": "48824cac-8ec5-45d4-9ba3-51628be1d79e"
      },
      "execution_count": 16,
      "outputs": [
        {
          "output_type": "stream",
          "name": "stdout",
          "text": [
            "32.99999999999997\n",
            "[[33]]\n"
          ]
        }
      ]
    },
    {
      "cell_type": "markdown",
      "source": [
        "## Sistemi di equazioni lineari"
      ],
      "metadata": {
        "id": "m_dTba793edm"
      }
    },
    {
      "cell_type": "code",
      "source": [
        "# Rango di una matrice\n",
        "A = np.array([[1, 2, 3], [4, 5, 6], [7, 8, 9]])\n",
        "\n",
        "rango = np.linalg.matrix_rank(A)\n",
        "print(\"Matrice A:\\n\", A, \"\\n\")\n",
        "print(\"Rank(A):\", rango)"
      ],
      "metadata": {
        "colab": {
          "base_uri": "https://localhost:8080/"
        },
        "id": "TPI-U6CHFFt3",
        "outputId": "d74a04e5-359c-465a-a5a9-38cb444689da"
      },
      "execution_count": 5,
      "outputs": [
        {
          "output_type": "stream",
          "name": "stdout",
          "text": [
            "Matrice A:\n",
            " [[1 2 3]\n",
            " [4 5 6]\n",
            " [7 8 9]] \n",
            "\n",
            "Rank(A): 2\n"
          ]
        }
      ]
    },
    {
      "cell_type": "code",
      "source": [
        "# Sistema Ax = b\n",
        "A = np.array([[1,0,0,0], [0,1,0,0], [0,0,1,0], [0,0,0,1]])\n",
        "b = np.array([10,20,30,40])\n",
        "x = np.linalg.solve(A, b)\n",
        "print(\"x = \", x)"
      ],
      "metadata": {
        "colab": {
          "base_uri": "https://localhost:8080/"
        },
        "id": "zq5VTkqM3hct",
        "outputId": "71dec14d-ad48-4029-b603-1f044cacd10d"
      },
      "execution_count": null,
      "outputs": [
        {
          "output_type": "stream",
          "name": "stdout",
          "text": [
            "x =  [10. 20. 30. 40.]\n"
          ]
        }
      ]
    },
    {
      "cell_type": "code",
      "source": [
        "# verifichiamo che la soluzione sia corretta\n",
        "print(np.allclose(np.matmul(A, x), b))"
      ],
      "metadata": {
        "colab": {
          "base_uri": "https://localhost:8080/"
        },
        "id": "t-kz4Bm330Aq",
        "outputId": "c11813ce-6d93-4830-ea91-24da760734af"
      },
      "execution_count": null,
      "outputs": [
        {
          "output_type": "stream",
          "name": "stdout",
          "text": [
            "True\n"
          ]
        }
      ]
    },
    {
      "cell_type": "code",
      "source": [
        "# Sistema omogeneo\n",
        "b = np.array([0,0,0,0])\n",
        "\n",
        "x = np.linalg.solve(A, b)\n",
        "print(\"x = \", x)"
      ],
      "metadata": {
        "colab": {
          "base_uri": "https://localhost:8080/"
        },
        "id": "xvuKoOiL75cg",
        "outputId": "187e2c40-9920-404e-9c9d-7f40e17e8d6c"
      },
      "execution_count": null,
      "outputs": [
        {
          "output_type": "stream",
          "name": "stdout",
          "text": [
            "x =  [0. 0. 0. 0.]\n"
          ]
        }
      ]
    }
  ]
}