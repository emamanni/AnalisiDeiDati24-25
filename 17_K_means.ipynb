{
  "nbformat": 4,
  "nbformat_minor": 0,
  "metadata": {
    "colab": {
      "provenance": [],
      "authorship_tag": "ABX9TyMulhxhCv7sUQiW8PxfftFU",
      "include_colab_link": true
    },
    "kernelspec": {
      "name": "python3",
      "display_name": "Python 3"
    },
    "language_info": {
      "name": "python"
    }
  },
  "cells": [
    {
      "cell_type": "markdown",
      "metadata": {
        "id": "view-in-github",
        "colab_type": "text"
      },
      "source": [
        "<a href=\"https://colab.research.google.com/github/emamanni/AnalisiDeiDati24-25/blob/main/17_K_means.ipynb\" target=\"_parent\"><img src=\"https://colab.research.google.com/assets/colab-badge.svg\" alt=\"Open In Colab\"/></a>"
      ]
    },
    {
      "cell_type": "markdown",
      "source": [
        "# Algoritmo $K$-means\n",
        "\n",
        "In questo notebook si utilizza l'algoritmo $K$-means per clusterizzare un dataset contenente $m=30$ osservazioni e $n=2$ feature numeriche."
      ],
      "metadata": {
        "id": "hqJxRKcU3c82"
      }
    },
    {
      "cell_type": "code",
      "source": [
        "# \"Montiamo\" il drive per poter accedere al file\n",
        "from google.colab import drive\n",
        "drive.mount(\"/content/drive\", force_remount=True)\n",
        "\n",
        "import os\n",
        "\n",
        "# Percorso alla directory che contiene i file da utilizzare\n",
        "# Percorso da modificare in base alla propria macchina\n",
        "folder_path = '/content/drive/MyDrive/Colab Notebooks/Notebook Corso Analisi dei Dati/FileDiSupporto'"
      ],
      "metadata": {
        "colab": {
          "base_uri": "https://localhost:8080/"
        },
        "id": "2ElVZI_gQufX",
        "outputId": "36bcaba1-2ccc-406b-8301-8c58063a57a6"
      },
      "execution_count": null,
      "outputs": [
        {
          "output_type": "stream",
          "name": "stdout",
          "text": [
            "Mounted at /content/drive\n"
          ]
        }
      ]
    },
    {
      "cell_type": "code",
      "source": [
        "import pandas as pd\n",
        "\n",
        "file_path_csv = os.path.join(folder_path, 'simple_dataset.csv')\n",
        "\n",
        "# leggiamo il dataset\n",
        "data = pd.read_csv(file_path_csv, header=0)\n",
        "\n",
        "print(data)"
      ],
      "metadata": {
        "id": "znMMhfTdQ48a",
        "colab": {
          "base_uri": "https://localhost:8080/"
        },
        "outputId": "00c11987-2f11-4a73-97a7-275989b94668"
      },
      "execution_count": null,
      "outputs": [
        {
          "output_type": "stream",
          "name": "stdout",
          "text": [
            "     x     y\n",
            "0   25  7900\n",
            "1   34  5100\n",
            "2   22  5300\n",
            "3   27  7800\n",
            "4   33  5900\n",
            "5   33  7400\n",
            "6   31  7300\n",
            "7   22  5700\n",
            "8   35  6900\n",
            "9   34  7500\n",
            "10  67  5100\n",
            "11  54  3200\n",
            "12  57  4000\n",
            "13  43  4700\n",
            "14  50  5300\n",
            "15  57  3600\n",
            "16  59  3500\n",
            "17  52  5800\n",
            "18  65  5900\n",
            "19  47  5000\n",
            "20  49  2500\n",
            "21  48  2000\n",
            "22  35  1400\n",
            "23  33  1200\n",
            "24  44  2000\n",
            "25  45   500\n",
            "26  38  2900\n",
            "27  43  2700\n",
            "28  51   800\n",
            "29  46   700\n"
          ]
        }
      ]
    },
    {
      "cell_type": "code",
      "source": [
        "# Normalizzazione delle due feature\n",
        "dataset_norm = data.copy()\n",
        "\n",
        "dataset_norm['x'] = (data['x'] - data['x'].min()) / (data['x'].max() - data['x'].min())\n",
        "dataset_norm['y'] = (data['y'] - data['y'].min()) / (data['y'].max() - data['y'].min())\n",
        "\n",
        "print(dataset_norm)"
      ],
      "metadata": {
        "colab": {
          "base_uri": "https://localhost:8080/"
        },
        "id": "lq62kwvqRelJ",
        "outputId": "e875c023-3953-457e-cb1c-848a0803dec3"
      },
      "execution_count": null,
      "outputs": [
        {
          "output_type": "stream",
          "name": "stdout",
          "text": [
            "           x         y\n",
            "0   0.066667  1.000000\n",
            "1   0.266667  0.621622\n",
            "2   0.000000  0.648649\n",
            "3   0.111111  0.986486\n",
            "4   0.244444  0.729730\n",
            "5   0.244444  0.932432\n",
            "6   0.200000  0.918919\n",
            "7   0.000000  0.702703\n",
            "8   0.288889  0.864865\n",
            "9   0.266667  0.945946\n",
            "10  1.000000  0.621622\n",
            "11  0.711111  0.364865\n",
            "12  0.777778  0.472973\n",
            "13  0.466667  0.567568\n",
            "14  0.622222  0.648649\n",
            "15  0.777778  0.418919\n",
            "16  0.822222  0.405405\n",
            "17  0.666667  0.716216\n",
            "18  0.955556  0.729730\n",
            "19  0.555556  0.608108\n",
            "20  0.600000  0.270270\n",
            "21  0.577778  0.202703\n",
            "22  0.288889  0.121622\n",
            "23  0.244444  0.094595\n",
            "24  0.488889  0.202703\n",
            "25  0.511111  0.000000\n",
            "26  0.355556  0.324324\n",
            "27  0.466667  0.297297\n",
            "28  0.644444  0.040541\n",
            "29  0.533333  0.027027\n"
          ]
        }
      ]
    },
    {
      "cell_type": "code",
      "source": [
        "from sklearn.cluster import KMeans\n",
        "import numpy as np\n",
        "\n",
        "K = 4   # Numero di cluster\n",
        "\n",
        "# Creazione del modello\n",
        "kmeans_model = KMeans(n_clusters=K)\n",
        "kmeans_model.fit(dataset_norm) # addestramento del modello\n",
        "\n",
        "# Visualizzazione dei risultati\n",
        "print(\"I centroidi sono: \\n\", kmeans_model.cluster_centers_, \"\\n\")\n",
        "centers = np.array(kmeans_model.cluster_centers_)\n",
        "print(\"WCSS: \\n\", kmeans_model.inertia_, \"\\n\")\n",
        "print(\"I cluster assegnati alle osservazioni sono: \\n\", kmeans_model.labels_)"
      ],
      "metadata": {
        "colab": {
          "base_uri": "https://localhost:8080/"
        },
        "id": "rsBW3qJDVDGq",
        "outputId": "6c79d3bd-abe3-455f-8f53-a170cb6b4ec6"
      },
      "execution_count": null,
      "outputs": [
        {
          "output_type": "stream",
          "name": "stdout",
          "text": [
            "I centroidi sono: \n",
            " [[0.40740741 0.21846847]\n",
            " [0.16888889 0.83513514]\n",
            " [0.73555556 0.55540541]\n",
            " [0.56666667 0.06756757]] \n",
            "\n",
            "WCSS: \n",
            " 0.8854524915305695 \n",
            "\n",
            "I cluster assegnati alle osservazioni sono: \n",
            " [1 1 1 1 1 1 1 1 1 1 2 2 2 2 2 2 2 2 2 2 0 3 0 0 0 3 0 0 3 3]\n"
          ]
        }
      ]
    },
    {
      "cell_type": "code",
      "source": [
        "import matplotlib.pyplot as plt\n",
        "\n",
        "colors = ['blue', 'green', 'red', 'cyan']\n",
        "plt.xlim([-0.1, max(dataset_norm.x)+0.1])\n",
        "plt.ylim([-0.1, max(dataset_norm.y)+0.1])\n",
        "plt.title('Clustering con algoritmo $K$-means')\n",
        "\n",
        "for i in range(len(dataset_norm.x)):\n",
        "    plt.plot(dataset_norm.x[i], dataset_norm.y[i], color=colors[kmeans_model.labels_[i]], marker='o')\n",
        "\n",
        "plt.scatter(centers[:, 0], centers[:, 1], marker=\"x\", color=colors)\n",
        "plt.show()"
      ],
      "metadata": {
        "colab": {
          "base_uri": "https://localhost:8080/",
          "height": 475
        },
        "id": "H6yVra3PVs2G",
        "outputId": "5469cd60-b082-4908-e222-b02910be467e"
      },
      "execution_count": null,
      "outputs": [
        {
          "output_type": "display_data",
          "data": {
            "text/plain": [
              "<Figure size 640x480 with 1 Axes>"
            ],
            "image/png": "[encoded data removed]"
          },
          "metadata": {}
        }
      ]
    }
  ]
}