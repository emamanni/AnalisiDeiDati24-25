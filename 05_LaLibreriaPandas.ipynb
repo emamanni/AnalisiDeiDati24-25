{
  "nbformat": 4,
  "nbformat_minor": 0,
  "metadata": {
    "colab": {
      "provenance": [],
      "authorship_tag": "ABX9TyNgIEUMDkKU24D7FT2rcdJR",
      "include_colab_link": true
    },
    "kernelspec": {
      "name": "python3",
      "display_name": "Python 3"
    },
    "language_info": {
      "name": "python"
    }
  },
  "cells": [
    {
      "cell_type": "markdown",
      "metadata": {
        "id": "view-in-github",
        "colab_type": "text"
      },
      "source": [
        "<a href=\"https://colab.research.google.com/github/emamanni/AnalisiDeiDati24-25/blob/main/05_LaLibreriaPandas.ipynb\" target=\"_parent\"><img src=\"https://colab.research.google.com/assets/colab-badge.svg\" alt=\"Open In Colab\"/></a>"
      ]
    },
    {
      "cell_type": "markdown",
      "source": [
        "# Python for Data Science hands-on review: la libreria pandas"
      ],
      "metadata": {
        "id": "K36qUGPNyvPW"
      }
    },
    {
      "cell_type": "markdown",
      "source": [
        "`Pandas` è una libreria Python utilizzata per la manipolazione e l'analisi dei dati. Fornisce strutture di dati ad alte prestazioni e facili da usare e strumenti di analisi dei dati per lavorare con dati strutturati (tabellari). `Pandas` si basa su `NumPy`.\n",
        "\n",
        "In `Pandas` gli insiemi di dati sono rappresentati come “dataframes”, cioè oggetti della classe `DataFrame`. I dataframe sono spesso chiamati “df”. Ma qui li chiameremo “dataset”.\n",
        "\n",
        "I `DataFrame` sono essenzialmente array multidimensionali con etichette di riga e colonna, spesso con tipi eterogenei e/o dati mancanti."
      ],
      "metadata": {
        "id": "pqisGWTcyyil"
      }
    },
    {
      "cell_type": "markdown",
      "source": [
        "Creazione di un dataset vuoto con\n",
        "- codice fiscale (troncato): identificativo riga (cliente)\n",
        "- caratteristiche (colonne): 'Name', 'Surname', 'Job', 'Subscribed', 'Nationality'."
      ],
      "metadata": {
        "id": "2A7Ud0Qjzbqu"
      }
    },
    {
      "cell_type": "code",
      "execution_count": null,
      "metadata": {
        "colab": {
          "base_uri": "https://localhost:8080/"
        },
        "id": "q5iY5bTVx-64",
        "outputId": "086c3869-cfd9-43db-e391-0dc74ac1d015"
      },
      "outputs": [
        {
          "output_type": "stream",
          "name": "stdout",
          "text": [
            "       Name Surname  Job Subscribed Nationality\n",
            "AAABBB  NaN     NaN  NaN        NaN         NaN\n",
            "AAACCC  NaN     NaN  NaN        NaN         NaN\n",
            "AAADDD  NaN     NaN  NaN        NaN         NaN\n",
            "AAAEEE  NaN     NaN  NaN        NaN         NaN\n",
            "AAAFFF  NaN     NaN  NaN        NaN         NaN\n"
          ]
        }
      ],
      "source": [
        "import pandas as pd\n",
        "\n",
        "dataset = pd.DataFrame(index=['AAABBB', 'AAACCC', 'AAADDD', 'AAAEEE', 'AAAFFF'],\n",
        "                       columns=['Name', 'Surname', 'Job', 'Subscribed', 'Nationality'])\n",
        "print(dataset)"
      ]
    },
    {
      "cell_type": "markdown",
      "source": [
        "Assegnazione di un valore ..."
      ],
      "metadata": {
        "id": "DKszyx7z0DQT"
      }
    },
    {
      "cell_type": "code",
      "source": [
        "dataset.at['AAABBB', 'Job'] = 'Engineer'\n",
        "print(dataset)"
      ],
      "metadata": {
        "colab": {
          "base_uri": "https://localhost:8080/"
        },
        "id": "jm7-JBlo0Eq9",
        "outputId": "bd8840ce-5f2f-4583-fabe-7ef9c4117dad"
      },
      "execution_count": null,
      "outputs": [
        {
          "output_type": "stream",
          "name": "stdout",
          "text": [
            "       Name Surname       Job Subscribed Nationality\n",
            "AAABBB  NaN     NaN  Engineer        NaN         NaN\n",
            "AAACCC  NaN     NaN       NaN        NaN         NaN\n",
            "AAADDD  NaN     NaN       NaN        NaN         NaN\n",
            "AAAEEE  NaN     NaN       NaN        NaN         NaN\n",
            "AAAFFF  NaN     NaN       NaN        NaN         NaN\n"
          ]
        }
      ]
    },
    {
      "cell_type": "markdown",
      "source": [
        "Modo alternativo per assegnare un valore (.loc accetta anche due o più righe/colonne; v. sotto) ..."
      ],
      "metadata": {
        "id": "ipzZlbas0LnM"
      }
    },
    {
      "cell_type": "code",
      "source": [
        "dataset.loc['AAACCC', 'Job']= 'Biologist'\n",
        "print(dataset)"
      ],
      "metadata": {
        "colab": {
          "base_uri": "https://localhost:8080/"
        },
        "id": "PcUeWdAt0Us1",
        "outputId": "1c50fab5-dcc1-4919-ca28-f4803c379653"
      },
      "execution_count": null,
      "outputs": [
        {
          "output_type": "stream",
          "name": "stdout",
          "text": [
            "       Name Surname        Job Subscribed Nationality\n",
            "AAABBB  NaN     NaN   Engineer        NaN         NaN\n",
            "AAACCC  NaN     NaN  Biologist        NaN         NaN\n",
            "AAADDD  NaN     NaN        NaN        NaN         NaN\n",
            "AAAEEE  NaN     NaN        NaN        NaN         NaN\n",
            "AAAFFF  NaN     NaN        NaN        NaN         NaN\n"
          ]
        }
      ]
    },
    {
      "cell_type": "markdown",
      "source": [
        "Rinominare un identificatore chiave (riga/cliente) (`inplace=True` specifica che la modifica deve essere applicata direttamente al DataFrame senza restituirne una copia)"
      ],
      "metadata": {
        "id": "V0oA0ppg0dWc"
      }
    },
    {
      "cell_type": "code",
      "source": [
        "dataset.rename(index={'AAABBB': 'WWWZZZ'}, inplace=True)\n",
        "print(dataset)"
      ],
      "metadata": {
        "colab": {
          "base_uri": "https://localhost:8080/"
        },
        "id": "Re-BuGx_0qlT",
        "outputId": "c1e095fe-003c-48f0-ad7c-ed8a857bf21d"
      },
      "execution_count": null,
      "outputs": [
        {
          "output_type": "stream",
          "name": "stdout",
          "text": [
            "       Name Surname        Job Subscribed Nationality\n",
            "WWWZZZ  NaN     NaN   Engineer        NaN         NaN\n",
            "AAACCC  NaN     NaN  Biologist        NaN         NaN\n",
            "AAADDD  NaN     NaN        NaN        NaN         NaN\n",
            "AAAEEE  NaN     NaN        NaN        NaN         NaN\n",
            "AAAFFF  NaN     NaN        NaN        NaN         NaN\n"
          ]
        }
      ]
    },
    {
      "cell_type": "markdown",
      "source": [
        "In alternativa ..."
      ],
      "metadata": {
        "id": "NMqVjNms0xPG"
      }
    },
    {
      "cell_type": "code",
      "source": [
        "dataset=dataset.rename(index={'AAACCC': 'BBBBBB'})\n",
        "print(dataset)"
      ],
      "metadata": {
        "colab": {
          "base_uri": "https://localhost:8080/"
        },
        "id": "DAifX4W80yiy",
        "outputId": "e1d29003-46ac-4817-edf7-b8bffede0044"
      },
      "execution_count": null,
      "outputs": [
        {
          "output_type": "stream",
          "name": "stdout",
          "text": [
            "       Name Surname        Job Subscribed Nationality\n",
            "WWWZZZ  NaN     NaN   Engineer        NaN         NaN\n",
            "BBBBBB  NaN     NaN  Biologist        NaN         NaN\n",
            "AAADDD  NaN     NaN        NaN        NaN         NaN\n",
            "AAAEEE  NaN     NaN        NaN        NaN         NaN\n",
            "AAAFFF  NaN     NaN        NaN        NaN         NaN\n"
          ]
        }
      ]
    },
    {
      "cell_type": "markdown",
      "source": [
        "Rinominare una colonna ..."
      ],
      "metadata": {
        "id": "aKj09Ax12-6t"
      }
    },
    {
      "cell_type": "code",
      "source": [
        "dataset.rename(columns={'Surname':'Last name'}, inplace=True)\n",
        "print(dataset)"
      ],
      "metadata": {
        "colab": {
          "base_uri": "https://localhost:8080/"
        },
        "id": "APbOI1X43EH8",
        "outputId": "89ba52ba-4340-4b87-e2b1-eec58bc62f47"
      },
      "execution_count": null,
      "outputs": [
        {
          "output_type": "stream",
          "name": "stdout",
          "text": [
            "       Name Last name        Job Subscribed Nationality\n",
            "WWWZZZ  NaN       NaN   Engineer        NaN         NaN\n",
            "BBBBBB  NaN       NaN  Biologist        NaN         NaN\n",
            "AAADDD  NaN       NaN        NaN        NaN         NaN\n",
            "AAAEEE  NaN       NaN        NaN        NaN         NaN\n",
            "AAAFFF  NaN       NaN        NaN        NaN         NaN\n"
          ]
        }
      ]
    },
    {
      "cell_type": "markdown",
      "source": [
        "Slicing (consente di ottenere una nuova struttura dati che contiene gli elementi di un intervallo di indici specificato) ..."
      ],
      "metadata": {
        "id": "PFLGqdLU3jBJ"
      }
    },
    {
      "cell_type": "code",
      "source": [
        "dataset_2 = dataset.loc[['WWWZZZ', 'AAADDD'], 'Job':'Nationality']\n",
        "print(dataset_2)"
      ],
      "metadata": {
        "colab": {
          "base_uri": "https://localhost:8080/"
        },
        "id": "gFtVeLpF3qU3",
        "outputId": "9a4cdf50-4984-4ff2-a0a5-fd632139c098"
      },
      "execution_count": null,
      "outputs": [
        {
          "output_type": "stream",
          "name": "stdout",
          "text": [
            "             Job Subscribed Nationality\n",
            "WWWZZZ  Engineer        NaN         NaN\n",
            "AAADDD       NaN        NaN         NaN\n"
          ]
        }
      ]
    },
    {
      "cell_type": "markdown",
      "source": [
        "Lettura di un dataset da un file csv ..."
      ],
      "metadata": {
        "id": "yUU5BUMP31q8"
      }
    },
    {
      "cell_type": "code",
      "source": [
        "from google.colab import drive\n",
        "import os\n",
        "\n",
        "drive.mount(\"/content/drive\", force_remount=True)\n",
        "folder_path = '/content/drive/MyDrive/Colab Notebooks/Python review/FileDiSupporto'"
      ],
      "metadata": {
        "colab": {
          "base_uri": "https://localhost:8080/"
        },
        "id": "zaOVIWjz4vZZ",
        "outputId": "e1e8ca1b-6676-4290-8eed-d7fa6943e5f9"
      },
      "execution_count": null,
      "outputs": [
        {
          "output_type": "stream",
          "name": "stdout",
          "text": [
            "Mounted at /content/drive\n"
          ]
        }
      ]
    },
    {
      "cell_type": "code",
      "source": [
        "file_path = os.path.join(folder_path, 'data.csv')\n",
        "dataset3 = pd.read_csv(file_path, header=0)   # la riga 0 contiene l'intestazione\n",
        "print(dataset3)"
      ],
      "metadata": {
        "colab": {
          "base_uri": "https://localhost:8080/"
        },
        "id": "hXHuarQU33xl",
        "outputId": "59f03789-8185-4939-a4eb-a417fff347bd"
      },
      "execution_count": null,
      "outputs": [
        {
          "output_type": "stream",
          "name": "stdout",
          "text": [
            "  Line       Type  Capacity  UnitCost  Saturation\n",
            "0    A  automated      1000      1.20        0.80\n",
            "1    B   assisted      2000      1.15        0.75\n",
            "2    C  automated      1000      1.21        0.55\n"
          ]
        }
      ]
    },
    {
      "cell_type": "markdown",
      "source": [
        "Modifica di alcuni dati ..."
      ],
      "metadata": {
        "id": "AIXl4o8v5M5D"
      }
    },
    {
      "cell_type": "code",
      "source": [
        "dataset3.at[2, 'Type'] = 'assisted'\n",
        "print(dataset3)"
      ],
      "metadata": {
        "colab": {
          "base_uri": "https://localhost:8080/"
        },
        "id": "a56otM1s5Opm",
        "outputId": "e8f2ba38-35b9-424c-ff0f-676d20d20b51"
      },
      "execution_count": null,
      "outputs": [
        {
          "output_type": "stream",
          "name": "stdout",
          "text": [
            "  Line       Type  Capacity  UnitCost  Saturation\n",
            "0    A  automated      1000      1.20        0.80\n",
            "1    B   assisted      2000      1.15        0.75\n",
            "2    C   assisted      1000      1.21        0.55\n"
          ]
        }
      ]
    },
    {
      "cell_type": "markdown",
      "source": [
        "Salvataggio del dataset in formato csv ..."
      ],
      "metadata": {
        "id": "oXKuYzAV5lP9"
      }
    },
    {
      "cell_type": "code",
      "source": [
        "file_path_out_csv = os.path.join(folder_path, 'out.csv')\n",
        "dataset3.to_csv(file_path_out_csv)"
      ],
      "metadata": {
        "id": "G3f7186d5ssL"
      },
      "execution_count": null,
      "outputs": []
    },
    {
      "cell_type": "markdown",
      "source": [
        "Salvataggio del dataset in formato json ..."
      ],
      "metadata": {
        "id": "uv8rgANO56Ms"
      }
    },
    {
      "cell_type": "code",
      "source": [
        "file_path_out_json = os.path.join(folder_path, 'out.json')\n",
        "dataset3.to_json(file_path_out_json)"
      ],
      "metadata": {
        "id": "emoE0b695-mI"
      },
      "execution_count": null,
      "outputs": []
    },
    {
      "cell_type": "markdown",
      "source": [
        "Lettura di un dataset in formato json ..."
      ],
      "metadata": {
        "id": "xtK8YDFA6MU5"
      }
    },
    {
      "cell_type": "code",
      "source": [
        "dataset4 = pd.read_json(file_path_out_json)\n",
        "print(dataset4)"
      ],
      "metadata": {
        "colab": {
          "base_uri": "https://localhost:8080/"
        },
        "id": "POaFpvKf6RdQ",
        "outputId": "d7942bf3-2377-456b-ae96-3813e885b870"
      },
      "execution_count": null,
      "outputs": [
        {
          "output_type": "stream",
          "name": "stdout",
          "text": [
            "  Line       Type  Capacity  UnitCost  Saturation\n",
            "0    A  automated      1000      1.20        0.80\n",
            "1    B   assisted      2000      1.15        0.75\n",
            "2    C   assisted      1000      1.21        0.55\n"
          ]
        }
      ]
    }
  ]
}