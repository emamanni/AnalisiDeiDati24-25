{
  "nbformat": 4,
  "nbformat_minor": 0,
  "metadata": {
    "colab": {
      "provenance": [],
      "authorship_tag": "ABX9TyM99Z0fh8a4NW8aeS51I7Ik",
      "include_colab_link": true
    },
    "kernelspec": {
      "name": "python3",
      "display_name": "Python 3"
    },
    "language_info": {
      "name": "python"
    }
  },
  "cells": [
    {
      "cell_type": "markdown",
      "metadata": {
        "id": "view-in-github",
        "colab_type": "text"
      },
      "source": [
        "<a href=\"https://colab.research.google.com/github/emamanni/AnalisiDeiDati24-25/blob/main/11_LibreriaPuLP.ipynb\" target=\"_parent\"><img src=\"https://colab.research.google.com/assets/colab-badge.svg\" alt=\"Open In Colab\"/></a>"
      ]
    },
    {
      "cell_type": "markdown",
      "source": [
        "# **Libreria PuLP**"
      ],
      "metadata": {
        "id": "euJM0JV5_BUt"
      }
    },
    {
      "cell_type": "markdown",
      "source": [
        "PuLP è un modulo Python che consente agli utenti di descrivere e risolvere problemi di ottimizzazione. PuLP lavora interamente all'interno della sintassi e dei naturali idiomi di Python fornendo oggetti Python che rappresentano problemi di ottimizzazione e variabili di decisione e permettendo ai vincoli di essere espressi in un modo che è molto simile all'originale matematico."
      ],
      "metadata": {
        "id": "tsw3OlIo_EUi"
      }
    },
    {
      "cell_type": "markdown",
      "source": [
        "Il primo passo è installare la libreria, se non già fatto in precendenza"
      ],
      "metadata": {
        "id": "LbLj89dK_5Lk"
      }
    },
    {
      "cell_type": "code",
      "source": [
        "!pip install pulp"
      ],
      "metadata": {
        "id": "ijVTkbmgsqrl",
        "colab": {
          "base_uri": "https://localhost:8080/"
        },
        "outputId": "ca702555-fd75-4b4b-b8f1-e99739107be0"
      },
      "execution_count": null,
      "outputs": [
        {
          "output_type": "stream",
          "name": "stdout",
          "text": [
            "Collecting pulp\n",
            "  Downloading pulp-3.1.1-py3-none-any.whl.metadata (1.3 kB)\n",
            "Downloading pulp-3.1.1-py3-none-any.whl (16.4 MB)\n",
            "\u001b[2K   \u001b[90m━━━━━━━━━━━━━━━━━━━━━━━━━━━━━━━━━━━━━━━━\u001b[0m \u001b[32m16.4/16.4 MB\u001b[0m \u001b[31m1.7 MB/s\u001b[0m eta \u001b[36m0:00:00\u001b[0m\n",
            "\u001b[?25hInstalling collected packages: pulp\n",
            "Successfully installed pulp-3.1.1\n"
          ]
        }
      ]
    },
    {
      "cell_type": "markdown",
      "source": [
        "Supponiamo di voler utilizzare PuLP per risolvere il seguente problema di mix di produzione:\n",
        "\n",
        "$\\mathrm{Max}\\, z = 15x_A + 10x_B$ \\\\\n",
        "s.v. \\\\\n",
        "$4x_A + 2x_B \\leq 400$ \\\\\n",
        "$2x_A + 4x_B \\leq 400$ \\\\\n",
        "$x_A \\leq 40$ \\\\\n",
        "$x_B \\leq 120$ \\\\\n",
        "$x_A, x_B \\geq 0$"
      ],
      "metadata": {
        "id": "aESJKtSfRezG"
      }
    },
    {
      "cell_type": "markdown",
      "source": [
        "Innanzitutto, occorre importare la libreria."
      ],
      "metadata": {
        "id": "AWyG_8hWTKGs"
      }
    },
    {
      "cell_type": "code",
      "source": [
        "from pulp import *"
      ],
      "metadata": {
        "id": "sDqOk87iWh0w"
      },
      "execution_count": null,
      "outputs": []
    },
    {
      "cell_type": "markdown",
      "source": [
        "## **Modello in forma estesa**\n",
        "Definiamo le diverse componenti del modello. Si crea una variabile chiamata `prob` (ovviamente, il nome può essere modificato), utilizzando la funzione `LpProblem`. Essa accetta due parametri: il primo è un nome arbitrario da assegnare al problema (una stringa); il secondo può essere `LpMinimize` oppure `LpMaximize`, a seconda del tipo di probema da risolvere."
      ],
      "metadata": {
        "id": "qa5S_2GOWsrU"
      }
    },
    {
      "cell_type": "code",
      "source": [
        "# Creiamo la variabile 'prob' per contenere i dati del problema\n",
        "prob = LpProblem(\"ProblemaMixProduzione\", LpMaximize)"
      ],
      "metadata": {
        "id": "hF-6_SgoW__f"
      },
      "execution_count": null,
      "outputs": []
    },
    {
      "cell_type": "markdown",
      "source": [
        "Le variabili del problema $x_A$ e $x_B$ sono create utilizzando la classe `LpVariable`. Essa ha quattro parametri: il primo è un nome che può essere scelto in maniera arbitraria, il secondo è il limite inferiore di questa variabile, il terzo è il limite superiore e il quarto è essenzialmente il tipo di valori che la variabile può assumere (discreti o continui). Le opzioni per il quarto parametro sono `LpContinuous` (predefinito) o `LpInteger`. I limiti possono essere inseriti direttamente come valore numerico oppure `None` per non impostare alcun limite (cioè, più o meno infinito, con quest'ultimo che è il valore predefinito). Per il problema di mix di produzione:"
      ],
      "metadata": {
        "id": "MJB9d9Uayg9S"
      }
    },
    {
      "cell_type": "code",
      "source": [
        "# Creiamo le due variabili del problema, di tipo intero, con limite inferiore pari a 0\n",
        "xA = LpVariable(\"x_A\", 0, None, LpInteger)\n",
        "xB = LpVariable(\"x_B\", 0, None, LpInteger)"
      ],
      "metadata": {
        "id": "Bmfai1WIlqK4"
      },
      "execution_count": null,
      "outputs": []
    },
    {
      "cell_type": "markdown",
      "source": [
        "A questo punto, si aggiungono dati alla variabile `prob`, utilizzando l'operatore `+=`. In primo luogo occorre aggiungere la funzione obiettivo, seguita da una virgola e da una stringa di testo descrittiva."
      ],
      "metadata": {
        "id": "z0_MNEbsmOvn"
      }
    },
    {
      "cell_type": "code",
      "source": [
        "# Aggiungiamo la funzione obiettivo a 'prob'\n",
        "prob += 15 * xA + 10 * xB, \"Profitto complessivo\""
      ],
      "metadata": {
        "id": "Q14rwTN0mxtq"
      },
      "execution_count": null,
      "outputs": []
    },
    {
      "cell_type": "markdown",
      "source": [
        "Successivamente, si aggiungono i vincoli del problema, sempre utilizzando l'operatore `+=`. Come nel caso della funzione obiettivo, dopo l'espressione relativa al vincolo occorre inserire una virgola e una stringa descrittiva. Eventuali vincoli di non-negatività sono già stati inseriti in fase di definizione delle variabili."
      ],
      "metadata": {
        "id": "BPUrXSslnLg_"
      }
    },
    {
      "cell_type": "code",
      "source": [
        "# Aggiungiamo esplicitamente i 4 vincoli funzionali\n",
        "prob += 4 * xA + 2 * xB <= 400, \"Utilizzo reparto 1\"\n",
        "prob += 2 * xA + 4 * xB <= 400, \"Utilizzo reparto 2\"\n",
        "prob += xA <= 40, \"Domanda del prodotto A\"\n",
        "prob += xB <= 120, \"Domanda del prodotto B\""
      ],
      "metadata": {
        "id": "XM7th0YFnYy8"
      },
      "execution_count": null,
      "outputs": []
    },
    {
      "cell_type": "markdown",
      "source": [
        "A questo punto possiamo risolvere il problema utilizzando la funzione `solve()`, specificando o meno il nome del solver da utilizzare (ad esempio, `prob.solve(CPLEX())` per utilizzare il solver IBM CPLEX)."
      ],
      "metadata": {
        "id": "-psOdaVMpHn9"
      }
    },
    {
      "cell_type": "code",
      "source": [
        "# Risolviamo il problema utilizzando il solver di default\n",
        "prob.solve()"
      ],
      "metadata": {
        "id": "D3wEQKjLppDa",
        "colab": {
          "base_uri": "https://localhost:8080/"
        },
        "outputId": "5a473492-1228-4244-b8a3-a037924d1780"
      },
      "execution_count": null,
      "outputs": [
        {
          "output_type": "execute_result",
          "data": {
            "text/plain": [
              "1"
            ]
          },
          "metadata": {},
          "execution_count": 7
        }
      ]
    },
    {
      "cell_type": "markdown",
      "source": [
        "A valle della risoluzione, recuperiamo lo status della soluzione, i cui possibili valori sono:  “Not Solved”, “Infeasible”, “Unbounded”, “Undefined” oppure “Optimal”. Successivamente, se il problema è stato risolto all'ottimo, recuperiamo il valore ottimale delle variabili. Tali valori sono stampati a schermo insieme al valore ottimo della funzione obiettivo."
      ],
      "metadata": {
        "id": "T51ddh6iqTKz"
      }
    },
    {
      "cell_type": "code",
      "source": [
        "# Stampiamo a schermo lo status della soluzione\n",
        "print(\"Status:\", LpStatus[prob.status])\n",
        "\n",
        "if prob.status == LpStatusOptimal:\n",
        "  # Stampiamo il valore di ciascuna variabile nella soluzione ottima\n",
        "  for v in prob.variables():\n",
        "    print(v.name, \"=\", v.varValue)\n",
        "\n",
        "# Stampiamo il valore ottimo di funzione obiettivo\n",
        "print(\"Profitto complessivo =\", value(prob.objective))"
      ],
      "metadata": {
        "id": "bcUoifMSqt8i",
        "colab": {
          "base_uri": "https://localhost:8080/"
        },
        "outputId": "a9598c88-4c77-48f5-e779-c71e44cdb208"
      },
      "execution_count": null,
      "outputs": [
        {
          "output_type": "stream",
          "name": "stdout",
          "text": [
            "Status: Optimal\n",
            "x_A = 40.0\n",
            "x_B = 80.0\n",
            "Profitto complessivo = 1400.0\n"
          ]
        }
      ]
    },
    {
      "cell_type": "markdown",
      "source": [
        "## **Modello in forma compatta**\n",
        "È possibile anche definire e risolvere un modello matematico espresso in forma compatta, ovvero in una forma del tipo:\n",
        "\n",
        "$\\mathrm{Max}\\, z = \\mathbf{c}^T \\mathbf{x}$ \\\\\n",
        "s.v. \\\\\n",
        "$A \\mathbf{x} \\leq \\mathbf{b}$ \\\\\n",
        "$\\mathbf{x} \\geq \\mathbf{0}$\n",
        "\n",
        "Come nel caso precedente, occorre importare la libreria e definire una variabile che conterrà i dati del problema."
      ],
      "metadata": {
        "id": "OnTx4BmUuckR"
      }
    },
    {
      "cell_type": "code",
      "source": [
        "from pulp import *\n",
        "\n",
        "# Creiamo la variabile 'prob' per contenere i dati del problema\n",
        "prob = LpProblem(\"ProblemaMixProduzione\", LpMaximize)"
      ],
      "metadata": {
        "id": "NDQWATZDuuHI"
      },
      "execution_count": null,
      "outputs": []
    },
    {
      "cell_type": "markdown",
      "source": [
        "Prima di definire la funzione obiettivo, le variabili ed i vincoli da aggiungere a `prob`, occorre definire le strutture dati contenenti i parametri del problema da utilizzarsi nella funzione obiettivo e nei vincoli. A tal proposito, creiamo dapprima una lista relativa ai prodotti da realizzare ed una relativa ai reparti. Successivamente, definiamo le strutture dati (in questo caso dei dizionari) relative ai profitti, alla domanda dei prodotti, alle ore di lavorazione dei prodotti nei diversi reparti e la capacità dei reparti stessi."
      ],
      "metadata": {
        "id": "-IPPtwvt022d"
      }
    },
    {
      "cell_type": "code",
      "source": [
        "# lista dei prodotti\n",
        "prodotti = ['A', 'B']\n",
        "\n",
        "# lista dei reparti\n",
        "reparti = ['reparto1', 'reparto2']\n",
        "\n",
        "# dizionario relativo alle ore di lavorazione necessarie\n",
        "ore = {\n",
        "    'A': {'reparto1': 4, 'reparto2': 2},\n",
        "    'B': {'reparto1': 2, 'reparto2': 4}\n",
        "}\n",
        "\n",
        "# dizionario relativo alla capacità dei diversi reparti\n",
        "capacita = {'reparto1': 10, 'reparto2': 10}\n",
        "\n",
        "# ore di lavorazione disponibili settimanalmente\n",
        "ore_per_settimana = 40\n",
        "\n",
        "# dizionario relativo alla domanda dei diversi prodotti\n",
        "domanda = {'A': 40, 'B':120}\n",
        "\n",
        "# dizionario relativo al profitto unitario dei prodotti\n",
        "profitto = {'A': 15, 'B':10}"
      ],
      "metadata": {
        "id": "tMwrJY0-1nAr"
      },
      "execution_count": null,
      "outputs": []
    },
    {
      "cell_type": "markdown",
      "source": [
        "Il prossimo passo è definire un dizionario contenente le variabili, avente come chiavi i nomi dei prodotti. Successivamente aggiungiamo la funzione obiettivo ed i vincoli funzionali del problema."
      ],
      "metadata": {
        "id": "mlKIi40jlGjk"
      }
    },
    {
      "cell_type": "code",
      "source": [
        "# Creiamo un dizionario contenente  le variabili\n",
        "x = LpVariable.dicts('x', prodotti, 0, None, LpInteger)\n",
        "\n",
        "# Aggiungiamo la funzione obiettivo\n",
        "prob += lpSum(profitto[i] * x[i] for i in prodotti)\n",
        "\n",
        "for j in reparti:\n",
        "  prob += lpSum(ore[i][j] * x[i] for i in prodotti) <= ore_per_settimana * capacita[j]\n",
        "\n",
        "for i in prodotti:\n",
        "  prob += x[i] <= domanda[i]"
      ],
      "metadata": {
        "id": "Fa2H8Qe6lUgw"
      },
      "execution_count": null,
      "outputs": []
    },
    {
      "cell_type": "markdown",
      "source": [
        "Infine, risolviamo il problema e stampiamo la soluzione."
      ],
      "metadata": {
        "id": "1Cp_l6Wfm45F"
      }
    },
    {
      "cell_type": "code",
      "source": [
        "# Risolviamo il problema utilizzando il solver di default\n",
        "prob.solve()\n",
        "\n",
        "# Stampiamo a schermo lo status della soluzione\n",
        "print(\"Status:\", LpStatus[prob.status])\n",
        "\n",
        "if prob.status == LpStatusOptimal:\n",
        "  # Stampiamo il valore di ciascuna variabile nella soluzione ottima\n",
        "  for i in prodotti:\n",
        "    if x[i].varValue > 0:\n",
        "      print(x[i].name, '=', x[i].varValue)\n",
        "\n",
        "# Stampiamo il valore ottimo di funzione obiettivo\n",
        "print(\"Profitto complessivo =\", value(prob.objective))"
      ],
      "metadata": {
        "id": "CZTYesMgm7vu",
        "colab": {
          "base_uri": "https://localhost:8080/"
        },
        "outputId": "814560c7-155c-4578-994a-a7de9847bff0"
      },
      "execution_count": null,
      "outputs": [
        {
          "output_type": "stream",
          "name": "stdout",
          "text": [
            "Status: Optimal\n",
            "x_A = 40.0\n",
            "x_B = 80.0\n",
            "Profitto complessivo = 1400.0\n"
          ]
        }
      ]
    }
  ]
}