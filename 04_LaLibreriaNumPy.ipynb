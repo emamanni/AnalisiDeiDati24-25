{
  "nbformat": 4,
  "nbformat_minor": 0,
  "metadata": {
    "colab": {
      "provenance": [],
      "authorship_tag": "ABX9TyP/w6FTINDOQUAQFqZuiHhT",
      "include_colab_link": true
    },
    "kernelspec": {
      "name": "python3",
      "display_name": "Python 3"
    },
    "language_info": {
      "name": "python"
    }
  },
  "cells": [
    {
      "cell_type": "markdown",
      "metadata": {
        "id": "view-in-github",
        "colab_type": "text"
      },
      "source": [
        "<a href=\"https://colab.research.google.com/github/emamanni/AnalisiDeiDati24-25/blob/main/04_LaLibreriaNumPy.ipynb\" target=\"_parent\"><img src=\"https://colab.research.google.com/assets/colab-badge.svg\" alt=\"Open In Colab\"/></a>"
      ]
    },
    {
      "cell_type": "markdown",
      "source": [
        "# Python for Data Science hands-on review: la libreria NumPy"
      ],
      "metadata": {
        "id": "2JAyvb0o-1XW"
      }
    },
    {
      "cell_type": "markdown",
      "source": [
        "NumPy (abbreviazione di *Numerical Python*) fornisce un'interfaccia efficiente per memorizzare e operare su buffer di dati densi.\n",
        "\n",
        "In un certo senso, gli array NumPy sono come il tipo `list` incorporato in Python, ma gli array NumPy forniscono una memorizzazione e operazioni sui dati molto più efficienti man mano che le dimensioni degli array aumentano.\n",
        "\n",
        "Gli array NumPy costituiscono il nucleo di quasi tutto l'ecosistema di strumenti per la data science in Python."
      ],
      "metadata": {
        "id": "R0QPveoG_Bf4"
      }
    },
    {
      "cell_type": "markdown",
      "source": [
        "Una volta installato (se non già presente), si può importare NumPy e controllare la versione ..."
      ],
      "metadata": {
        "id": "3QCet-ts_eVv"
      }
    },
    {
      "cell_type": "code",
      "execution_count": null,
      "metadata": {
        "colab": {
          "base_uri": "https://localhost:8080/",
          "height": 36
        },
        "id": "L8RJZNH8-03g",
        "outputId": "f0641d9c-2e18-4c6d-a082-99792fafaf0f"
      },
      "outputs": [
        {
          "output_type": "execute_result",
          "data": {
            "text/plain": [
              "'1.26.4'"
            ],
            "application/vnd.google.colaboratory.intrinsic+json": {
              "type": "string"
            }
          },
          "metadata": {},
          "execution_count": 1
        }
      ],
      "source": [
        "import numpy\n",
        "numpy.__version__"
      ]
    },
    {
      "cell_type": "markdown",
      "source": [
        "Per convenzione, tipicamente si importa NumPy usando `np` come alias ..."
      ],
      "metadata": {
        "id": "yTqkdWHX_uuF"
      }
    },
    {
      "cell_type": "code",
      "source": [
        "import numpy as np"
      ],
      "metadata": {
        "id": "3MuMabkh_1PF"
      },
      "execution_count": null,
      "outputs": []
    },
    {
      "cell_type": "markdown",
      "source": [
        "##Creazione di array a partire da liste\n",
        "\n",
        "Per creare un array a partire da una lista:"
      ],
      "metadata": {
        "id": "uSyV9qN8X8jr"
      }
    },
    {
      "cell_type": "code",
      "source": [
        "# Array di interi\n",
        "np.array([1, 4, 2, 5, 3])"
      ],
      "metadata": {
        "colab": {
          "base_uri": "https://localhost:8080/"
        },
        "id": "qUwMiGi___uI",
        "outputId": "594eda64-37c7-40e7-f15a-2e93a517c1cf"
      },
      "execution_count": null,
      "outputs": [
        {
          "output_type": "execute_result",
          "data": {
            "text/plain": [
              "array([1, 4, 2, 5, 3])"
            ]
          },
          "metadata": {},
          "execution_count": 3
        }
      ]
    },
    {
      "cell_type": "markdown",
      "source": [
        "Si tenga presente che, a differenza delle liste Python, gli array NumPy possono contenere solo dati dello stesso tipo. Se i tipi non corrispondono, NumPy esegue l'upcast in base alle sue regole di \"type promotion\". Nel caso seguente, i numeri interi sono stati trasformati in virgola mobile:"
      ],
      "metadata": {
        "id": "8Uoj5XpEYhrv"
      }
    },
    {
      "cell_type": "code",
      "source": [
        "np.array([3.14, 4, 2, 3])"
      ],
      "metadata": {
        "colab": {
          "base_uri": "https://localhost:8080/"
        },
        "id": "civvhfp7YwcU",
        "outputId": "2dcb670c-a04a-4d2b-f0ce-0f87e1d095e4"
      },
      "execution_count": null,
      "outputs": [
        {
          "output_type": "execute_result",
          "data": {
            "text/plain": [
              "array([3.14, 4.  , 2.  , 3.  ])"
            ]
          },
          "metadata": {},
          "execution_count": 4
        }
      ]
    },
    {
      "cell_type": "markdown",
      "source": [
        "Per impostare esplicitamente il tipo di dati dell'array risultante, si può usare la parola chiave `dtype`:"
      ],
      "metadata": {
        "id": "IYMto5CmY2l2"
      }
    },
    {
      "cell_type": "code",
      "source": [
        "np.array([1, 2, 3, 4], dtype=np.float32)"
      ],
      "metadata": {
        "colab": {
          "base_uri": "https://localhost:8080/"
        },
        "id": "JaGCCIrwY5UN",
        "outputId": "c25ea01e-3367-4d25-8794-22992754880c"
      },
      "execution_count": null,
      "outputs": [
        {
          "output_type": "execute_result",
          "data": {
            "text/plain": [
              "array([1., 2., 3., 4.], dtype=float32)"
            ]
          },
          "metadata": {},
          "execution_count": 5
        }
      ]
    },
    {
      "cell_type": "markdown",
      "source": [
        "Infine, a differenza delle liste di Python, che sono sempre sequenze monodimensionali, gli array di NumPy possono essere multidimensionali. Di seguito un modo per inizializzare un array multidimensionale utilizzando un elenco di liste. Le liste interne sono trattate come righe dell'array bidimensionale risultante."
      ],
      "metadata": {
        "id": "_1s4PucOZEQS"
      }
    },
    {
      "cell_type": "code",
      "source": [
        "# Array multidimensionale a partire da liste innestate\n",
        "np.array([range(i, i + 3) for i in [2, 4, 10]])"
      ],
      "metadata": {
        "colab": {
          "base_uri": "https://localhost:8080/"
        },
        "id": "OKPSlatbZTGB",
        "outputId": "3865f0e6-97d5-411a-99e5-8fa64e90597b"
      },
      "execution_count": null,
      "outputs": [
        {
          "output_type": "execute_result",
          "data": {
            "text/plain": [
              "array([[ 2,  3,  4],\n",
              "       [ 4,  5,  6],\n",
              "       [10, 11, 12]])"
            ]
          },
          "metadata": {},
          "execution_count": 6
        }
      ]
    },
    {
      "cell_type": "markdown",
      "source": [
        "##Creazione di array da zero\n",
        "\n",
        "Soprattutto per gli array più grandi, è più efficiente creare gli array da zero utilizzando le routine integrate in NumPy."
      ],
      "metadata": {
        "id": "5GzuPp7uZ-3z"
      }
    },
    {
      "cell_type": "code",
      "source": [
        "# Creare un array di interi di lunghezza 10 pieno di 0\n",
        "np.zeros(10, dtype=int)"
      ],
      "metadata": {
        "colab": {
          "base_uri": "https://localhost:8080/"
        },
        "id": "paJ3hXfcaG0p",
        "outputId": "fa0a27a4-eb6b-49e2-dfd4-60f1651bb1ad"
      },
      "execution_count": null,
      "outputs": [
        {
          "output_type": "execute_result",
          "data": {
            "text/plain": [
              "array([0, 0, 0, 0, 0, 0, 0, 0, 0, 0])"
            ]
          },
          "metadata": {},
          "execution_count": 7
        }
      ]
    },
    {
      "cell_type": "code",
      "source": [
        "# Creare un array 3x5 in virgola mobile pieno di 1\n",
        "np.ones((3, 5), dtype=float)"
      ],
      "metadata": {
        "colab": {
          "base_uri": "https://localhost:8080/"
        },
        "id": "NyiHatF0aLTS",
        "outputId": "3b85a845-b290-41c7-817f-0a2cd7aea189"
      },
      "execution_count": null,
      "outputs": [
        {
          "output_type": "execute_result",
          "data": {
            "text/plain": [
              "array([[1., 1., 1., 1., 1.],\n",
              "       [1., 1., 1., 1., 1.],\n",
              "       [1., 1., 1., 1., 1.]])"
            ]
          },
          "metadata": {},
          "execution_count": 8
        }
      ]
    },
    {
      "cell_type": "code",
      "source": [
        "# Creare un array 3x5 riempito con 3.14\n",
        "np.full((3, 5), 3.14)"
      ],
      "metadata": {
        "colab": {
          "base_uri": "https://localhost:8080/"
        },
        "id": "ZT3Wq9q4aOtc",
        "outputId": "78a54042-2ee4-4910-d9ae-05b92b2109ea"
      },
      "execution_count": null,
      "outputs": [
        {
          "output_type": "execute_result",
          "data": {
            "text/plain": [
              "array([[3.14, 3.14, 3.14, 3.14, 3.14],\n",
              "       [3.14, 3.14, 3.14, 3.14, 3.14],\n",
              "       [3.14, 3.14, 3.14, 3.14, 3.14]])"
            ]
          },
          "metadata": {},
          "execution_count": 9
        }
      ]
    },
    {
      "cell_type": "code",
      "source": [
        "# Creare un array riempito con una sequenza lineare\n",
        "# iniziando da 0, finendo a 20, con un passo di 2\n",
        "# (è simile alla funzione range)\n",
        "np.arange(0, 20, 2)"
      ],
      "metadata": {
        "colab": {
          "base_uri": "https://localhost:8080/"
        },
        "id": "P0Xvfx3daSlP",
        "outputId": "1dcb340d-8c9b-429a-b04e-a57f2fb697b0"
      },
      "execution_count": null,
      "outputs": [
        {
          "output_type": "execute_result",
          "data": {
            "text/plain": [
              "array([ 0,  2,  4,  6,  8, 10, 12, 14, 16, 18])"
            ]
          },
          "metadata": {},
          "execution_count": 10
        }
      ]
    },
    {
      "cell_type": "code",
      "source": [
        "# Creare un array di cinque valori equamente distanziati tra 0 e 1\n",
        "np.linspace(0, 1, 5)"
      ],
      "metadata": {
        "colab": {
          "base_uri": "https://localhost:8080/"
        },
        "id": "ln8sHNAFaV-o",
        "outputId": "c6220150-a554-494c-eb48-e4d6f65f73d7"
      },
      "execution_count": null,
      "outputs": [
        {
          "output_type": "execute_result",
          "data": {
            "text/plain": [
              "array([0.  , 0.25, 0.5 , 0.75, 1.  ])"
            ]
          },
          "metadata": {},
          "execution_count": 11
        }
      ]
    },
    {
      "cell_type": "code",
      "source": [
        "# Creare una matrice 3x3 di valori pseudo-casuali\n",
        "# uniformemente distribuiti tra 0 e 1\n",
        "np.random.random((3, 3))"
      ],
      "metadata": {
        "colab": {
          "base_uri": "https://localhost:8080/"
        },
        "id": "R3AdjmhoadiG",
        "outputId": "1efb7e1e-ddf0-431e-f878-e9389622851c"
      },
      "execution_count": null,
      "outputs": [
        {
          "output_type": "execute_result",
          "data": {
            "text/plain": [
              "array([[0.64577078, 0.99700029, 0.38455567],\n",
              "       [0.8767605 , 0.06340225, 0.54183091],\n",
              "       [0.17166936, 0.74371236, 0.48626662]])"
            ]
          },
          "metadata": {},
          "execution_count": 12
        }
      ]
    },
    {
      "cell_type": "code",
      "source": [
        "# Creare una matrice identità 3x3\n",
        "np.eye(3)"
      ],
      "metadata": {
        "colab": {
          "base_uri": "https://localhost:8080/"
        },
        "id": "hH16wpjZagbx",
        "outputId": "457c2463-e97b-47f2-afbd-a52534ae4330"
      },
      "execution_count": null,
      "outputs": [
        {
          "output_type": "execute_result",
          "data": {
            "text/plain": [
              "array([[1., 0., 0.],\n",
              "       [0., 1., 0.],\n",
              "       [0., 0., 1.]])"
            ]
          },
          "metadata": {},
          "execution_count": 13
        }
      ]
    },
    {
      "cell_type": "code",
      "source": [
        "# Crea un array non inizializzato di tre numeri interi; i valori saranno\n",
        "# ciò che è presente in quella posizione di memoria\n",
        "np.empty(3)"
      ],
      "metadata": {
        "colab": {
          "base_uri": "https://localhost:8080/"
        },
        "id": "TKx_xJdVaip_",
        "outputId": "c27532d1-6c72-4fc6-dc36-94e4775ce7a5"
      },
      "execution_count": null,
      "outputs": [
        {
          "output_type": "execute_result",
          "data": {
            "text/plain": [
              "array([1., 1., 1.])"
            ]
          },
          "metadata": {},
          "execution_count": 14
        }
      ]
    },
    {
      "cell_type": "markdown",
      "source": [
        "##Manipolazione degli array NumPy\n",
        "\n",
        "La manipolazione dei dati in Python è quasi sinonimo di manipolazione di array NumPy. Nelle sezioni successive si fornirannole basi per la manipolazione degli array NumPy per accedere ai dati e ai subarray, nonché per dividere, rimodellare e unire gli array."
      ],
      "metadata": {
        "id": "5uv5J1huay2F"
      }
    },
    {
      "cell_type": "markdown",
      "source": [
        "###Attributi degli array NumPy\n",
        "\n",
        "Ogni array ha degli attributi, tra cui `ndim` (il numero di dimensioni), `shape` (la dimensione di ogni dimensione), `size` (la dimensione totale dell'array) e `dtype` (il tipo di ogni elemento)."
      ],
      "metadata": {
        "id": "tDFHm2nkbRcc"
      }
    },
    {
      "cell_type": "code",
      "source": [
        "x = np.random.random((3, 3))\n",
        "\n",
        "print(\"x ndim: \", x.ndim)\n",
        "print(\"x shape:\", x.shape)\n",
        "print(\"x size: \", x.size)\n",
        "print(\"dtype:   \", x.dtype)"
      ],
      "metadata": {
        "colab": {
          "base_uri": "https://localhost:8080/"
        },
        "id": "1DPigcKUbrEW",
        "outputId": "700544ae-a5b9-4f14-856f-c37b1e193ff5"
      },
      "execution_count": null,
      "outputs": [
        {
          "output_type": "stream",
          "name": "stdout",
          "text": [
            "x ndim:  2\n",
            "x shape: (3, 3)\n",
            "x size:  9\n",
            "dtype:    float64\n"
          ]
        }
      ]
    },
    {
      "cell_type": "markdown",
      "source": [
        "###Indicizzazione di un array: accedere ad un elemento singolo\n",
        "\n",
        "In un array monodimensionale, si può accedere al valore i-esimo (contando da zero) specificando l'indice desiderato tra parentesi quadre, proprio come avviene con le liste Python."
      ],
      "metadata": {
        "id": "alJwe2Qob9ij"
      }
    },
    {
      "cell_type": "code",
      "source": [
        "x1 = np.arange(0, 20, 2)\n",
        "x1"
      ],
      "metadata": {
        "colab": {
          "base_uri": "https://localhost:8080/"
        },
        "id": "SWl0a11_cUhk",
        "outputId": "0f0938db-0db7-460c-8ba3-266693cd3ac1"
      },
      "execution_count": null,
      "outputs": [
        {
          "output_type": "execute_result",
          "data": {
            "text/plain": [
              "array([ 0,  2,  4,  6,  8, 10, 12, 14, 16, 18])"
            ]
          },
          "metadata": {},
          "execution_count": 16
        }
      ]
    },
    {
      "cell_type": "code",
      "source": [
        "x1[0]"
      ],
      "metadata": {
        "colab": {
          "base_uri": "https://localhost:8080/"
        },
        "id": "UapsMvIIcjoi",
        "outputId": "b2c62080-c34f-4bb6-a1d8-2a55b0834f45"
      },
      "execution_count": null,
      "outputs": [
        {
          "output_type": "execute_result",
          "data": {
            "text/plain": [
              "0"
            ]
          },
          "metadata": {},
          "execution_count": 17
        }
      ]
    },
    {
      "cell_type": "code",
      "source": [
        "x1[6]"
      ],
      "metadata": {
        "colab": {
          "base_uri": "https://localhost:8080/"
        },
        "id": "bD5ERO-QcmEc",
        "outputId": "559554d1-4a7e-44a9-f819-93af1341ab8b"
      },
      "execution_count": null,
      "outputs": [
        {
          "output_type": "execute_result",
          "data": {
            "text/plain": [
              "12"
            ]
          },
          "metadata": {},
          "execution_count": 18
        }
      ]
    },
    {
      "cell_type": "markdown",
      "source": [
        "Per considerare gli indici a partire dalla fine di un array, occorre considerare valori negativi."
      ],
      "metadata": {
        "id": "ynHS-qtJcrUC"
      }
    },
    {
      "cell_type": "code",
      "source": [
        "x1[-1]"
      ],
      "metadata": {
        "colab": {
          "base_uri": "https://localhost:8080/"
        },
        "id": "N12EEwK2cxVQ",
        "outputId": "c87147b8-56a4-4945-d864-4eebd510bc4e"
      },
      "execution_count": null,
      "outputs": [
        {
          "output_type": "execute_result",
          "data": {
            "text/plain": [
              "18"
            ]
          },
          "metadata": {},
          "execution_count": 19
        }
      ]
    },
    {
      "cell_type": "code",
      "source": [
        "x1[-4]"
      ],
      "metadata": {
        "colab": {
          "base_uri": "https://localhost:8080/"
        },
        "id": "KAuuzsKic0Ms",
        "outputId": "e8cb1d06-4b65-400d-c2b3-a656b0e5fbe9"
      },
      "execution_count": null,
      "outputs": [
        {
          "output_type": "execute_result",
          "data": {
            "text/plain": [
              "12"
            ]
          },
          "metadata": {},
          "execution_count": 20
        }
      ]
    },
    {
      "cell_type": "markdown",
      "source": [
        "In un array multidimensionale, si può accedere ad un elemento utilizzando una tupla (riga, colonna)."
      ],
      "metadata": {
        "id": "JCKpcHjGc34i"
      }
    },
    {
      "cell_type": "code",
      "source": [
        "x"
      ],
      "metadata": {
        "colab": {
          "base_uri": "https://localhost:8080/"
        },
        "id": "AiYIjSH4dCJz",
        "outputId": "0988e02a-0fe9-450b-9878-e593f2b6a103"
      },
      "execution_count": null,
      "outputs": [
        {
          "output_type": "execute_result",
          "data": {
            "text/plain": [
              "array([[0.07036125, 0.19617353, 0.63285949],\n",
              "       [0.05950769, 0.95026948, 0.58927738],\n",
              "       [0.59644454, 0.80391087, 0.64042185]])"
            ]
          },
          "metadata": {},
          "execution_count": 21
        }
      ]
    },
    {
      "cell_type": "code",
      "source": [
        "x[0,0]"
      ],
      "metadata": {
        "colab": {
          "base_uri": "https://localhost:8080/"
        },
        "id": "8f8O2JPtdD2C",
        "outputId": "b4731e6a-0e4e-453d-ac28-56ce1a4f0257"
      },
      "execution_count": null,
      "outputs": [
        {
          "output_type": "execute_result",
          "data": {
            "text/plain": [
              "0.0703612530145582"
            ]
          },
          "metadata": {},
          "execution_count": 22
        }
      ]
    },
    {
      "cell_type": "code",
      "source": [
        "x[2,0]"
      ],
      "metadata": {
        "colab": {
          "base_uri": "https://localhost:8080/"
        },
        "id": "-2GWwglfdIV_",
        "outputId": "c065dde3-d110-4315-9a89-da207402ee0e"
      },
      "execution_count": null,
      "outputs": [
        {
          "output_type": "execute_result",
          "data": {
            "text/plain": [
              "0.5964445379035209"
            ]
          },
          "metadata": {},
          "execution_count": 23
        }
      ]
    },
    {
      "cell_type": "code",
      "source": [
        "x[2,-1]"
      ],
      "metadata": {
        "colab": {
          "base_uri": "https://localhost:8080/"
        },
        "id": "5HUsNQondMIp",
        "outputId": "ae027ae7-fb34-472b-9a05-06a93b8dd7a3"
      },
      "execution_count": null,
      "outputs": [
        {
          "output_type": "execute_result",
          "data": {
            "text/plain": [
              "0.6404218531642767"
            ]
          },
          "metadata": {},
          "execution_count": 24
        }
      ]
    },
    {
      "cell_type": "markdown",
      "source": [
        "È possibile modificare dei valori utilizzando gli indici."
      ],
      "metadata": {
        "id": "oQVVDF5BdPSm"
      }
    },
    {
      "cell_type": "code",
      "source": [
        "x[0,0] = 0.45\n",
        "x"
      ],
      "metadata": {
        "colab": {
          "base_uri": "https://localhost:8080/"
        },
        "id": "97tdDpTPdW85",
        "outputId": "163228cf-4968-4d7f-9265-fb470116fd30"
      },
      "execution_count": null,
      "outputs": [
        {
          "output_type": "execute_result",
          "data": {
            "text/plain": [
              "array([[0.45      , 0.19617353, 0.63285949],\n",
              "       [0.05950769, 0.95026948, 0.58927738],\n",
              "       [0.59644454, 0.80391087, 0.64042185]])"
            ]
          },
          "metadata": {},
          "execution_count": 25
        }
      ]
    },
    {
      "cell_type": "markdown",
      "source": [
        "Si ricordi che il tipo dei dati contenuti in un array è fisso. Pertanto, se nell'array `x` precedente si proverà ad inserire un valore intero, esso sarà convertito nel corrispondente valore in virgola mobile."
      ],
      "metadata": {
        "id": "Af_bvzwbdfg-"
      }
    },
    {
      "cell_type": "code",
      "source": [
        "x[0,1] = 7\n",
        "x"
      ],
      "metadata": {
        "colab": {
          "base_uri": "https://localhost:8080/"
        },
        "id": "zla36wLHd0-w",
        "outputId": "eaf18e34-9a2c-4a16-9663-a7496b839d14"
      },
      "execution_count": null,
      "outputs": [
        {
          "output_type": "execute_result",
          "data": {
            "text/plain": [
              "array([[0.45      , 7.        , 0.63285949],\n",
              "       [0.05950769, 0.95026948, 0.58927738],\n",
              "       [0.59644454, 0.80391087, 0.64042185]])"
            ]
          },
          "metadata": {},
          "execution_count": 26
        }
      ]
    },
    {
      "cell_type": "markdown",
      "source": [
        "###Slicing di un array: accedere a sotto-array\n",
        "\n",
        "Così come si possono usare le parentesi quadre per accedere ai singoli elementi di un array, si possono anche usarle per accedere a sotto-array con la notazione slice, contrassegnata dai due punti (:). La sintassi di NumPy per accedere a uno slice di un array `x`, è:\n",
        "\n",
        "`x[start:stop:step]`\n",
        "\n",
        "Se uno qualsiasi di questi valori non è specificato, i valori di default sono `start=0`, `stop=<numero di dimensioni>`, `step=1`."
      ],
      "metadata": {
        "id": "nTcNzl4DeB5O"
      }
    },
    {
      "cell_type": "markdown",
      "source": [
        "####Sotto-array ad una dimensione"
      ],
      "metadata": {
        "id": "GLlS_6BWrpuc"
      }
    },
    {
      "cell_type": "code",
      "source": [
        "x1"
      ],
      "metadata": {
        "colab": {
          "base_uri": "https://localhost:8080/"
        },
        "id": "oKA2dj6qr9DY",
        "outputId": "e1eeda01-0ad4-4c98-d295-407f364c7b33"
      },
      "execution_count": null,
      "outputs": [
        {
          "output_type": "execute_result",
          "data": {
            "text/plain": [
              "array([ 0,  2,  4,  6,  8, 10, 12, 14, 16, 18])"
            ]
          },
          "metadata": {},
          "execution_count": 27
        }
      ]
    },
    {
      "cell_type": "code",
      "source": [
        "x1[:3]  # primi tre elementi"
      ],
      "metadata": {
        "colab": {
          "base_uri": "https://localhost:8080/"
        },
        "id": "4ziaV2sqsBCB",
        "outputId": "19a8a200-fd65-4ce3-b6df-5b482a8ee4b6"
      },
      "execution_count": null,
      "outputs": [
        {
          "output_type": "execute_result",
          "data": {
            "text/plain": [
              "array([0, 2, 4])"
            ]
          },
          "metadata": {},
          "execution_count": 28
        }
      ]
    },
    {
      "cell_type": "code",
      "source": [
        "x1[3:]  # elementi dall'indice 3 in poi"
      ],
      "metadata": {
        "colab": {
          "base_uri": "https://localhost:8080/"
        },
        "id": "o2S1BHEvsKXq",
        "outputId": "ef508236-f092-4f3c-bbfa-b8eb538c1b18"
      },
      "execution_count": null,
      "outputs": [
        {
          "output_type": "execute_result",
          "data": {
            "text/plain": [
              "array([ 6,  8, 10, 12, 14, 16, 18])"
            ]
          },
          "metadata": {},
          "execution_count": 29
        }
      ]
    },
    {
      "cell_type": "code",
      "source": [
        "x1[1:4]  # sotto-array centrale"
      ],
      "metadata": {
        "colab": {
          "base_uri": "https://localhost:8080/"
        },
        "id": "-jsr6gxGsS4Z",
        "outputId": "2e026172-df74-4138-c776-04b632b6f6e3"
      },
      "execution_count": null,
      "outputs": [
        {
          "output_type": "execute_result",
          "data": {
            "text/plain": [
              "array([2, 4, 6])"
            ]
          },
          "metadata": {},
          "execution_count": 30
        }
      ]
    },
    {
      "cell_type": "code",
      "source": [
        "x1[::2]  # ogni 2 elementi, a partire dall'inizio"
      ],
      "metadata": {
        "colab": {
          "base_uri": "https://localhost:8080/"
        },
        "id": "_EXIwOMcsaAM",
        "outputId": "c18eee4d-52d0-4246-f1aa-97b3a5411080"
      },
      "execution_count": null,
      "outputs": [
        {
          "output_type": "execute_result",
          "data": {
            "text/plain": [
              "array([ 0,  4,  8, 12, 16])"
            ]
          },
          "metadata": {},
          "execution_count": 31
        }
      ]
    },
    {
      "cell_type": "code",
      "source": [
        "x1[1::2]  # ogni 2 elementi, a partire dall'indice 1"
      ],
      "metadata": {
        "colab": {
          "base_uri": "https://localhost:8080/"
        },
        "id": "8Z1blv-TsgOd",
        "outputId": "b1aa82da-19a3-49ec-c5a3-24453d336655"
      },
      "execution_count": null,
      "outputs": [
        {
          "output_type": "execute_result",
          "data": {
            "text/plain": [
              "array([ 2,  6, 10, 14, 18])"
            ]
          },
          "metadata": {},
          "execution_count": 32
        }
      ]
    },
    {
      "cell_type": "markdown",
      "source": [
        "Quando il valore di `step` è negativo, i valori predefiniti di `start` e `stop` vengono scambiati. Questo diventa un modo conveniente per invertire un array."
      ],
      "metadata": {
        "id": "dLNNvQDGsrDf"
      }
    },
    {
      "cell_type": "code",
      "source": [
        "x1[::-1]  # tutti gli elementi, in ordine inverso"
      ],
      "metadata": {
        "colab": {
          "base_uri": "https://localhost:8080/"
        },
        "id": "TMxlI32ssgQC",
        "outputId": "7b7d7c0f-b338-400f-906d-1d565712fbaf"
      },
      "execution_count": null,
      "outputs": [
        {
          "output_type": "execute_result",
          "data": {
            "text/plain": [
              "array([18, 16, 14, 12, 10,  8,  6,  4,  2,  0])"
            ]
          },
          "metadata": {},
          "execution_count": 33
        }
      ]
    },
    {
      "cell_type": "code",
      "source": [
        "x1[4::-2]  # ogni 2 elementi, a partire dall'indice 4, in ordine inverso"
      ],
      "metadata": {
        "colab": {
          "base_uri": "https://localhost:8080/"
        },
        "id": "_zKYKZ_ys640",
        "outputId": "18cbdff5-1c71-4154-9da8-33bc8736334e"
      },
      "execution_count": null,
      "outputs": [
        {
          "output_type": "execute_result",
          "data": {
            "text/plain": [
              "array([8, 4, 0])"
            ]
          },
          "metadata": {},
          "execution_count": 34
        }
      ]
    },
    {
      "cell_type": "markdown",
      "source": [
        "####Sottoarray-multidimensionali\n",
        "Il funzionamento è analogo, con slice multipli separati da virgole."
      ],
      "metadata": {
        "id": "7xBgETfPtDzE"
      }
    },
    {
      "cell_type": "code",
      "source": [
        "x"
      ],
      "metadata": {
        "colab": {
          "base_uri": "https://localhost:8080/"
        },
        "id": "Uqmxcn35tRXw",
        "outputId": "e97bca9f-91f4-4341-aef3-377758bd779e"
      },
      "execution_count": null,
      "outputs": [
        {
          "output_type": "execute_result",
          "data": {
            "text/plain": [
              "array([[0.45      , 7.        , 0.63285949],\n",
              "       [0.05950769, 0.95026948, 0.58927738],\n",
              "       [0.59644454, 0.80391087, 0.64042185]])"
            ]
          },
          "metadata": {},
          "execution_count": 35
        }
      ]
    },
    {
      "cell_type": "code",
      "source": [
        "x[:2, :2]  # prime 2 righe e prime 2 colonne"
      ],
      "metadata": {
        "colab": {
          "base_uri": "https://localhost:8080/"
        },
        "id": "UGo8dGLMtTv-",
        "outputId": "c5fd4824-4224-4e73-dfca-b8058a675f0b"
      },
      "execution_count": null,
      "outputs": [
        {
          "output_type": "execute_result",
          "data": {
            "text/plain": [
              "array([[0.45      , 7.        ],\n",
              "       [0.05950769, 0.95026948]])"
            ]
          },
          "metadata": {},
          "execution_count": 36
        }
      ]
    },
    {
      "cell_type": "code",
      "source": [
        "x[:3, ::2]  # prime 3 righe, ogni 2 colonne"
      ],
      "metadata": {
        "colab": {
          "base_uri": "https://localhost:8080/"
        },
        "id": "5Wyyo1u2thw0",
        "outputId": "2bac0460-c71c-4d6c-a0ea-432e10def559"
      },
      "execution_count": null,
      "outputs": [
        {
          "output_type": "execute_result",
          "data": {
            "text/plain": [
              "array([[0.45      , 0.63285949],\n",
              "       [0.05950769, 0.58927738],\n",
              "       [0.59644454, 0.64042185]])"
            ]
          },
          "metadata": {},
          "execution_count": 37
        }
      ]
    },
    {
      "cell_type": "code",
      "source": [
        "x[::-1, ::-1]  # tutte le righe e le colonne, in ordine inverso"
      ],
      "metadata": {
        "colab": {
          "base_uri": "https://localhost:8080/"
        },
        "id": "JWQ6vl46tsHX",
        "outputId": "93150816-4b0c-4780-e13b-42551d16871d"
      },
      "execution_count": null,
      "outputs": [
        {
          "output_type": "execute_result",
          "data": {
            "text/plain": [
              "array([[0.64042185, 0.80391087, 0.59644454],\n",
              "       [0.58927738, 0.95026948, 0.05950769],\n",
              "       [0.63285949, 7.        , 0.45      ]])"
            ]
          },
          "metadata": {},
          "execution_count": 38
        }
      ]
    },
    {
      "cell_type": "markdown",
      "source": [
        "####Accedere a righe e colonne di un array multidimensionale\n",
        "Una pratica frequentemente utilizzata è l'accesso a singole righe o colonne di un array. Questo può essere fatto combinando l'indicizzazione e lo slicing, utilizzando uno slice vuoto contrassegnato da un singolo `:`"
      ],
      "metadata": {
        "id": "gzhfo_PVt6ux"
      }
    },
    {
      "cell_type": "code",
      "source": [
        "x[:, 0]  # prima colonna"
      ],
      "metadata": {
        "colab": {
          "base_uri": "https://localhost:8080/"
        },
        "id": "K5x-Lj9XuWE7",
        "outputId": "766b4ea6-bdc0-450b-c3c1-233db938a21b"
      },
      "execution_count": null,
      "outputs": [
        {
          "output_type": "execute_result",
          "data": {
            "text/plain": [
              "array([0.45      , 0.05950769, 0.59644454])"
            ]
          },
          "metadata": {},
          "execution_count": 39
        }
      ]
    },
    {
      "cell_type": "code",
      "source": [
        "x[0, :]  # prima riga"
      ],
      "metadata": {
        "colab": {
          "base_uri": "https://localhost:8080/"
        },
        "id": "Ef6EdadOudTF",
        "outputId": "1a73675a-83d0-4766-ff2b-13cb5766cdff"
      },
      "execution_count": null,
      "outputs": [
        {
          "output_type": "execute_result",
          "data": {
            "text/plain": [
              "array([0.45      , 7.        , 0.63285949])"
            ]
          },
          "metadata": {},
          "execution_count": 40
        }
      ]
    },
    {
      "cell_type": "markdown",
      "source": [
        "Nel caso di accesso ad una riga, lo slice vuoto può essere omesso per ottenere una sintassi più compatta."
      ],
      "metadata": {
        "id": "De3QR70euwM2"
      }
    },
    {
      "cell_type": "code",
      "source": [
        "x[0]  # equivalente a x[0, :]"
      ],
      "metadata": {
        "colab": {
          "base_uri": "https://localhost:8080/"
        },
        "id": "JzXHMvnwu3Qj",
        "outputId": "03c94119-0194-4a89-f6f8-adedbe93881e"
      },
      "execution_count": null,
      "outputs": [
        {
          "output_type": "execute_result",
          "data": {
            "text/plain": [
              "array([0.45      , 7.        , 0.63285949])"
            ]
          },
          "metadata": {},
          "execution_count": 41
        }
      ]
    },
    {
      "cell_type": "markdown",
      "source": [
        "###Sotto-array come viste\n",
        "A differenza degli slice di liste Python, gli slice di array NumPy sono restituiti come viste piuttosto che come copie dei dati dell'array. Consideriamo il l'array bidimensionale precedente."
      ],
      "metadata": {
        "id": "amW33npHvDF_"
      }
    },
    {
      "cell_type": "code",
      "source": [
        "print(x)"
      ],
      "metadata": {
        "id": "_p0O3yWjvRLw",
        "colab": {
          "base_uri": "https://localhost:8080/"
        },
        "outputId": "a26ac7e2-cc1a-40ea-86dd-3e1cdf85df01"
      },
      "execution_count": null,
      "outputs": [
        {
          "output_type": "stream",
          "name": "stdout",
          "text": [
            "[[0.45       7.         0.63285949]\n",
            " [0.05950769 0.95026948 0.58927738]\n",
            " [0.59644454 0.80391087 0.64042185]]\n"
          ]
        }
      ]
    },
    {
      "cell_type": "markdown",
      "source": [
        "Estraiamo un sotto-array 2x2."
      ],
      "metadata": {
        "id": "iPCPdoqnvW5K"
      }
    },
    {
      "cell_type": "code",
      "source": [
        "x_sub = x[:2, :2]\n",
        "print(x_sub)"
      ],
      "metadata": {
        "id": "yvnV96QLvWlY",
        "colab": {
          "base_uri": "https://localhost:8080/"
        },
        "outputId": "5703ff6e-1e0a-47a0-aff0-17f5e709e5e0"
      },
      "execution_count": null,
      "outputs": [
        {
          "output_type": "stream",
          "name": "stdout",
          "text": [
            "[[0.45       7.        ]\n",
            " [0.05950769 0.95026948]]\n"
          ]
        }
      ]
    },
    {
      "cell_type": "markdown",
      "source": [
        "Ora, se modifichiamo questo sotto-array, vedremo che l'array originale è cambiato!"
      ],
      "metadata": {
        "id": "tD86jP-cvfm5"
      }
    },
    {
      "cell_type": "code",
      "source": [
        "x_sub[0, 0] = 10\n",
        "print(x_sub)"
      ],
      "metadata": {
        "id": "NucXAa4lvmgr",
        "colab": {
          "base_uri": "https://localhost:8080/"
        },
        "outputId": "0afc4091-fb76-4e70-baf3-6381e21d0749"
      },
      "execution_count": null,
      "outputs": [
        {
          "output_type": "stream",
          "name": "stdout",
          "text": [
            "[[10.          7.        ]\n",
            " [ 0.05950769  0.95026948]]\n"
          ]
        }
      ]
    },
    {
      "cell_type": "code",
      "source": [
        "print(x)"
      ],
      "metadata": {
        "id": "1zC5u5mGvrdJ",
        "colab": {
          "base_uri": "https://localhost:8080/"
        },
        "outputId": "87ef3858-7ea0-4f38-882c-8e72a70c7531"
      },
      "execution_count": null,
      "outputs": [
        {
          "output_type": "stream",
          "name": "stdout",
          "text": [
            "[[10.          7.          0.63285949]\n",
            " [ 0.05950769  0.95026948  0.58927738]\n",
            " [ 0.59644454  0.80391087  0.64042185]]\n"
          ]
        }
      ]
    },
    {
      "cell_type": "markdown",
      "source": [
        "###Creare copie di un array\n",
        "A volte è utile copiare esplicitamente i dati all'interno di un array o di un sotto-array. Questo può essere fatto con il metodo `copy`."
      ],
      "metadata": {
        "id": "2z2hEopXv8GT"
      }
    },
    {
      "cell_type": "code",
      "source": [
        "x_sub_copy = x[:2, :2].copy()\n",
        "print(x_sub_copy)"
      ],
      "metadata": {
        "id": "iH2zfo-pwNcV",
        "colab": {
          "base_uri": "https://localhost:8080/"
        },
        "outputId": "a7a526b9-4632-46df-8ba7-af35ba394849"
      },
      "execution_count": null,
      "outputs": [
        {
          "output_type": "stream",
          "name": "stdout",
          "text": [
            "[[10.          7.        ]\n",
            " [ 0.05950769  0.95026948]]\n"
          ]
        }
      ]
    },
    {
      "cell_type": "markdown",
      "source": [
        "Se ora modifichiamo questo sotto-array, l'array originale rimane invariato."
      ],
      "metadata": {
        "id": "KPzRBTgLwQ8w"
      }
    },
    {
      "cell_type": "code",
      "source": [
        "x_sub_copy[0, 0] = 18.44\n",
        "print(x_sub_copy)"
      ],
      "metadata": {
        "id": "BhifQueGwdC3",
        "colab": {
          "base_uri": "https://localhost:8080/"
        },
        "outputId": "ac896261-333a-4b3b-f48c-feef6ae38a80"
      },
      "execution_count": null,
      "outputs": [
        {
          "output_type": "stream",
          "name": "stdout",
          "text": [
            "[[18.44        7.        ]\n",
            " [ 0.05950769  0.95026948]]\n"
          ]
        }
      ]
    },
    {
      "cell_type": "code",
      "source": [
        "print(x)"
      ],
      "metadata": {
        "id": "0khQnJFbwiEL",
        "colab": {
          "base_uri": "https://localhost:8080/"
        },
        "outputId": "e8b5d650-f3f3-4388-a212-a6871dae8142"
      },
      "execution_count": null,
      "outputs": [
        {
          "output_type": "stream",
          "name": "stdout",
          "text": [
            "[[10.          7.          0.63285949]\n",
            " [ 0.05950769  0.95026948  0.58927738]\n",
            " [ 0.59644454  0.80391087  0.64042185]]\n"
          ]
        }
      ]
    },
    {
      "cell_type": "markdown",
      "source": [
        "###Concatenazione e separazione di array\n",
        "NumPy fornisce anche strumenti per combinare più array in uno solo e per dividere un singolo array in più array.\n",
        "####Concatenazione di array\n",
        "La concatenazione, o l'unione di due array in NumPy, si realizza principalmente con le routine `np.concatenate`, `np.vstack` e `np.hstack`. `np.concatenate` prende come primo parametro una tupla o un elenco di array."
      ],
      "metadata": {
        "id": "1lWMjY4nxC1l"
      }
    },
    {
      "cell_type": "code",
      "source": [
        "a = np.array([1, 2, 3])\n",
        "b = np.array([30, 20, 10])\n",
        "np.concatenate([a, b])"
      ],
      "metadata": {
        "id": "QEj653BcxZr8",
        "colab": {
          "base_uri": "https://localhost:8080/"
        },
        "outputId": "15155030-1d8d-4146-a6c8-bba6404e4b58"
      },
      "execution_count": null,
      "outputs": [
        {
          "output_type": "execute_result",
          "data": {
            "text/plain": [
              "array([ 1,  2,  3, 30, 20, 10])"
            ]
          },
          "metadata": {},
          "execution_count": 49
        }
      ]
    },
    {
      "cell_type": "markdown",
      "source": [
        "Si possono concatenare anche più di due array."
      ],
      "metadata": {
        "id": "vzwzz63jxgFr"
      }
    },
    {
      "cell_type": "code",
      "source": [
        "c = np.array([5, 6, 7])\n",
        "print(np.concatenate([a, b, c]))"
      ],
      "metadata": {
        "id": "uS42GrRixig-",
        "colab": {
          "base_uri": "https://localhost:8080/"
        },
        "outputId": "584de2fd-de4c-46a7-8ed7-c67284c6df93"
      },
      "execution_count": null,
      "outputs": [
        {
          "output_type": "stream",
          "name": "stdout",
          "text": [
            "[ 1  2  3 30 20 10  5  6  7]\n"
          ]
        }
      ]
    },
    {
      "cell_type": "markdown",
      "source": [
        "Concatenare array bidimensionali."
      ],
      "metadata": {
        "id": "UNdbuo_Gx_ED"
      }
    },
    {
      "cell_type": "code",
      "source": [
        "array1 = np.array([[1, 2, 3], [4, 5, 6]])\n",
        "array2 = np.array([[7, 8, 9], [10, 11, 12]])"
      ],
      "metadata": {
        "id": "OQsITFyfyCY4"
      },
      "execution_count": null,
      "outputs": []
    },
    {
      "cell_type": "code",
      "source": [
        "# concatenazione lungo il primo asse\n",
        "np.concatenate([array1, array2])"
      ],
      "metadata": {
        "colab": {
          "base_uri": "https://localhost:8080/"
        },
        "id": "kiioUBkvyMx2",
        "outputId": "23a1632f-b81f-48fa-c85d-9dddfd235281"
      },
      "execution_count": null,
      "outputs": [
        {
          "output_type": "execute_result",
          "data": {
            "text/plain": [
              "array([[ 1,  2,  3],\n",
              "       [ 4,  5,  6],\n",
              "       [ 7,  8,  9],\n",
              "       [10, 11, 12]])"
            ]
          },
          "metadata": {},
          "execution_count": 52
        }
      ]
    },
    {
      "cell_type": "code",
      "source": [
        "# concatenazione lungo il secondo asse (l'indicizzazione parte da 0)\n",
        "np.concatenate([array1, array2], axis=1)"
      ],
      "metadata": {
        "colab": {
          "base_uri": "https://localhost:8080/"
        },
        "id": "INMmc5XAyXkS",
        "outputId": "4a33288a-e144-4401-d950-02db205d8c44"
      },
      "execution_count": null,
      "outputs": [
        {
          "output_type": "execute_result",
          "data": {
            "text/plain": [
              "array([[ 1,  2,  3,  7,  8,  9],\n",
              "       [ 4,  5,  6, 10, 11, 12]])"
            ]
          },
          "metadata": {},
          "execution_count": 53
        }
      ]
    },
    {
      "cell_type": "markdown",
      "source": [
        "Per array di dimensioni miste, è conveniente usare le funzioni `np.vstack` (stack verticale) e `np.hstack` (stack orizzontale)"
      ],
      "metadata": {
        "id": "3YZkyRHCzUwJ"
      }
    },
    {
      "cell_type": "code",
      "source": [
        "# impila verticalmente gli array\n",
        "np.vstack([x, array1])"
      ],
      "metadata": {
        "colab": {
          "base_uri": "https://localhost:8080/"
        },
        "id": "bN3L4Kd4zili",
        "outputId": "c211127f-b1df-43a2-cd94-45c4043bd73b"
      },
      "execution_count": null,
      "outputs": [
        {
          "output_type": "execute_result",
          "data": {
            "text/plain": [
              "array([[10.        ,  7.        ,  0.63285949],\n",
              "       [ 0.05950769,  0.95026948,  0.58927738],\n",
              "       [ 0.59644454,  0.80391087,  0.64042185],\n",
              "       [ 1.        ,  2.        ,  3.        ],\n",
              "       [ 4.        ,  5.        ,  6.        ]])"
            ]
          },
          "metadata": {},
          "execution_count": 54
        }
      ]
    },
    {
      "cell_type": "code",
      "source": [
        "# impila orizzontalmente gli array\n",
        "y = np.array([[99],\n",
        "              [99]])\n",
        "np.hstack([array1, y])"
      ],
      "metadata": {
        "colab": {
          "base_uri": "https://localhost:8080/"
        },
        "id": "V2CdPKW1zs0g",
        "outputId": "5b596436-876f-4020-a01d-7d4b0002de83"
      },
      "execution_count": null,
      "outputs": [
        {
          "output_type": "execute_result",
          "data": {
            "text/plain": [
              "array([[ 1,  2,  3, 99],\n",
              "       [ 4,  5,  6, 99]])"
            ]
          },
          "metadata": {},
          "execution_count": 55
        }
      ]
    },
    {
      "cell_type": "markdown",
      "source": [
        "####Separazione di array\n",
        "L'opposto della concatenazione è la separazione, implementata dalle funzioni `np.split`, `np.hsplit` e `np.vsplit`. Per ciascuna di esse è possibile passare un elenco di indici che indicano i punti di divisione."
      ],
      "metadata": {
        "id": "6CVnc7Rw0BHh"
      }
    },
    {
      "cell_type": "code",
      "source": [
        "x = [1, 2, 3, 99, 99, 3, 2, 1]\n",
        "x1, x2, x3 = np.split(x, [3, 5])\n",
        "x4, x5 =  np.split(x, [3])\n",
        "print(x1, x2, x3)\n",
        "print(x4, x5)"
      ],
      "metadata": {
        "colab": {
          "base_uri": "https://localhost:8080/"
        },
        "id": "IsT_OYtd0OkJ",
        "outputId": "7e0a4c07-717c-42a5-b814-36b8dd43f310"
      },
      "execution_count": null,
      "outputs": [
        {
          "output_type": "stream",
          "name": "stdout",
          "text": [
            "[1 2 3] [99 99] [3 2 1]\n",
            "[1 2 3] [99 99  3  2  1]\n"
          ]
        }
      ]
    },
    {
      "cell_type": "code",
      "source": [
        "h = np.array([[ 0,  1,  2,  3],\n",
        " [ 4,  5,  6,  7],\n",
        "  [ 8,  9, 10, 11],\n",
        "   [12, 13, 14, 15]])\n",
        "h"
      ],
      "metadata": {
        "colab": {
          "base_uri": "https://localhost:8080/"
        },
        "id": "E4E55EuW0zhn",
        "outputId": "e929c116-f0b2-464d-91fd-f5c6b920e440"
      },
      "execution_count": null,
      "outputs": [
        {
          "output_type": "execute_result",
          "data": {
            "text/plain": [
              "array([[ 0,  1,  2,  3],\n",
              "       [ 4,  5,  6,  7],\n",
              "       [ 8,  9, 10, 11],\n",
              "       [12, 13, 14, 15]])"
            ]
          },
          "metadata": {},
          "execution_count": 57
        }
      ]
    },
    {
      "cell_type": "code",
      "source": [
        "upper, lower = np.vsplit(h, [2])\n",
        "print(upper)\n",
        "print(lower)"
      ],
      "metadata": {
        "colab": {
          "base_uri": "https://localhost:8080/"
        },
        "id": "boXTGlmW1Bvw",
        "outputId": "f7402982-e7fe-43df-9ed4-8e7bc0491a4c"
      },
      "execution_count": null,
      "outputs": [
        {
          "output_type": "stream",
          "name": "stdout",
          "text": [
            "[[0 1 2 3]\n",
            " [4 5 6 7]]\n",
            "[[ 8  9 10 11]\n",
            " [12 13 14 15]]\n"
          ]
        }
      ]
    },
    {
      "cell_type": "code",
      "source": [
        "left, right = np.hsplit(h, [2])\n",
        "print(left)\n",
        "print(right)"
      ],
      "metadata": {
        "colab": {
          "base_uri": "https://localhost:8080/"
        },
        "id": "FXJPx8Nf1FpO",
        "outputId": "0d831a7b-1d86-4b75-9bd7-0b54a53c1ff4"
      },
      "execution_count": null,
      "outputs": [
        {
          "output_type": "stream",
          "name": "stdout",
          "text": [
            "[[ 0  1]\n",
            " [ 4  5]\n",
            " [ 8  9]\n",
            " [12 13]]\n",
            "[[ 2  3]\n",
            " [ 6  7]\n",
            " [10 11]\n",
            " [14 15]]\n"
          ]
        }
      ]
    },
    {
      "cell_type": "markdown",
      "source": [
        "##Eseguire calcoli su array NumPy: le Universal Functions (`ufuncs`)\n",
        "Eseguire calcoli sugli array di NumPy può essere molto veloce o molto lento. La chiave per rendere queste operazioni veloci è l'uso di operazioni vettoriali, generalmente implementate attraverso le funzioni universali di NumPy (ufuncs)."
      ],
      "metadata": {
        "id": "cgg0EkBB4f9u"
      }
    },
    {
      "cell_type": "markdown",
      "source": [
        "###Introduzione alle Ufuncs\n",
        "Per molti tipi di operazioni, NumPy fornisce una comoda interfaccia, nota come operazione vettoriale. Per operazioni semplici come la divisione elementare, la vettorizzazione è semplice come usare gli operatori aritmetici Python direttamente sull'oggetto array. L'approccio vettoriale è stato progettato per spingere il ciclo nel livello compilato che sta alla base di NumPy, rendendo l'esecuzione molto più veloce.\n",
        "\n",
        "Le operazioni vettoriali in NumPy sono implementate tramite ufuncs, il cui scopo principale è quello di eseguire rapidamente operazioni ripetute sui valori degli array NumPy."
      ],
      "metadata": {
        "id": "6TbxEXZS43FD"
      }
    },
    {
      "cell_type": "markdown",
      "source": [
        "Ad esempio, su un array monodimensionale:"
      ],
      "metadata": {
        "id": "JTC7Dvnk8xbG"
      }
    },
    {
      "cell_type": "code",
      "source": [
        "values = np.array([9, 4, 1, 3, 8])\n",
        "print(values)"
      ],
      "metadata": {
        "colab": {
          "base_uri": "https://localhost:8080/"
        },
        "id": "DDGM5f1y5vQg",
        "outputId": "6239a48d-b34a-45c5-84e2-9bf7955ac5bf"
      },
      "execution_count": null,
      "outputs": [
        {
          "output_type": "stream",
          "name": "stdout",
          "text": [
            "[9 4 1 3 8]\n"
          ]
        }
      ]
    },
    {
      "cell_type": "code",
      "source": [
        "print(1.0 / values)"
      ],
      "metadata": {
        "colab": {
          "base_uri": "https://localhost:8080/"
        },
        "id": "CSPZsxx88o-A",
        "outputId": "6f5c8057-3263-4362-ca8f-c4901c3acc1c"
      },
      "execution_count": null,
      "outputs": [
        {
          "output_type": "stream",
          "name": "stdout",
          "text": [
            "[0.11111111 0.25       1.         0.33333333 0.125     ]\n"
          ]
        }
      ]
    },
    {
      "cell_type": "markdown",
      "source": [
        "Si può anche operare tra 2 array:"
      ],
      "metadata": {
        "id": "VKYcBQLM83Y4"
      }
    },
    {
      "cell_type": "code",
      "source": [
        "np.arange(5) / np.arange(1, 6)"
      ],
      "metadata": {
        "colab": {
          "base_uri": "https://localhost:8080/"
        },
        "id": "YRwQTaO89IlR",
        "outputId": "34e73d19-cba4-4598-bbbb-c5ec70421ffb"
      },
      "execution_count": null,
      "outputs": [
        {
          "output_type": "execute_result",
          "data": {
            "text/plain": [
              "array([0.        , 0.5       , 0.66666667, 0.75      , 0.8       ])"
            ]
          },
          "metadata": {},
          "execution_count": 62
        }
      ]
    },
    {
      "cell_type": "markdown",
      "source": [
        "Le operazioni ufunc non sono limitate agli array monodimensionali. Possono agire anche su array multidimensionali:"
      ],
      "metadata": {
        "id": "c-H5n1rO9VVE"
      }
    },
    {
      "cell_type": "code",
      "source": [
        "x = np.array([[1, 2], [3, 4]])\n",
        "2 ** x"
      ],
      "metadata": {
        "colab": {
          "base_uri": "https://localhost:8080/"
        },
        "id": "fFYX2LMN9Wll",
        "outputId": "fb00a4b1-4087-45cd-9d7f-488a729bc967"
      },
      "execution_count": null,
      "outputs": [
        {
          "output_type": "execute_result",
          "data": {
            "text/plain": [
              "array([[ 2,  4],\n",
              "       [ 8, 16]])"
            ]
          },
          "metadata": {},
          "execution_count": 63
        }
      ]
    },
    {
      "cell_type": "markdown",
      "source": [
        "###Le diverse tipologie di Ufuncs\n",
        "Le Ufuncs esistono in due varianti: ufuncs unarie, che operano su un singolo input, e ufuncs binarie, che operano su due input."
      ],
      "metadata": {
        "id": "Y_P90oz592BH"
      }
    },
    {
      "cell_type": "markdown",
      "source": [
        "####Operazioni aritmetiche sugli array\n",
        "È possibile utilizzare le normali operazioni di addizione, sottrazione, moltiplicazione e divisione:"
      ],
      "metadata": {
        "id": "uxNh8N3ZADq5"
      }
    },
    {
      "cell_type": "code",
      "source": [
        "x = np.arange(4)\n",
        "print(\"x      =\", x)\n",
        "print(\"x + 5  =\", x + 5)\n",
        "print(\"x - 5  =\", x - 5)\n",
        "print(\"x * 2  =\", x * 2)\n",
        "print(\"x / 2  =\", x / 2)\n",
        "print(\"x // 2 =\", x // 2)   # floor division: Questo operatore divide il primo\n",
        "                            # argomento per il secondo e arrotonda il risultato\n",
        "                            # al numero intero più vicino"
      ],
      "metadata": {
        "colab": {
          "base_uri": "https://localhost:8080/"
        },
        "id": "BO5Uc137ALVI",
        "outputId": "e8f6f99f-4d59-44c5-fa3b-bcd02d14d77d"
      },
      "execution_count": null,
      "outputs": [
        {
          "output_type": "stream",
          "name": "stdout",
          "text": [
            "x      = [0 1 2 3]\n",
            "x + 5  = [5 6 7 8]\n",
            "x - 5  = [-5 -4 -3 -2]\n",
            "x * 2  = [0 2 4 6]\n",
            "x / 2  = [0.  0.5 1.  1.5]\n",
            "x // 2 = [0 0 1 1]\n"
          ]
        }
      ]
    },
    {
      "cell_type": "markdown",
      "source": [
        "Esiste anche una ufunc unaria per la negazione, un operatore `**` per l'elevamento a potenza e un operatore `%` per il modulo:"
      ],
      "metadata": {
        "id": "yUPeV3YRAfL1"
      }
    },
    {
      "cell_type": "code",
      "source": [
        "print(\"-x     = \", -x)\n",
        "print(\"x ** 2 = \", x ** 2)\n",
        "print(\"x % 2  = \", x % 2)"
      ],
      "metadata": {
        "colab": {
          "base_uri": "https://localhost:8080/"
        },
        "id": "F0r9FmPcAoOP",
        "outputId": "63f82a37-51df-43f4-aff7-b58f19d82a63"
      },
      "execution_count": null,
      "outputs": [
        {
          "output_type": "stream",
          "name": "stdout",
          "text": [
            "-x     =  [ 0 -1 -2 -3]\n",
            "x ** 2 =  [0 1 4 9]\n",
            "x % 2  =  [0 1 0 1]\n"
          ]
        }
      ]
    },
    {
      "cell_type": "markdown",
      "source": [
        "Inoltre, queste possono essere collegate tra loro nel modo desiderato, rispettando l'ordine standard delle operazioni:"
      ],
      "metadata": {
        "id": "dKEMaU1FAuKw"
      }
    },
    {
      "cell_type": "code",
      "source": [
        "print(-(0.5*x + 1) ** 2)"
      ],
      "metadata": {
        "colab": {
          "base_uri": "https://localhost:8080/"
        },
        "id": "Z9yJmeVzA1s7",
        "outputId": "bb1b32dd-387e-4c7b-f128-1759be6858c2"
      },
      "execution_count": null,
      "outputs": [
        {
          "output_type": "stream",
          "name": "stdout",
          "text": [
            "[-1.   -2.25 -4.   -6.25]\n"
          ]
        }
      ]
    },
    {
      "cell_type": "markdown",
      "source": [
        "Tutte queste operazioni aritmetiche sono semplicemente dei comodi wrapper attorno a specifiche ufunc integrate in NumPy. Ad esempio, l'operatore + è un wrapper per l'ufunc `add`:"
      ],
      "metadata": {
        "id": "5rG2QIKbA6x7"
      }
    },
    {
      "cell_type": "code",
      "source": [
        "np.add(x, 2)"
      ],
      "metadata": {
        "colab": {
          "base_uri": "https://localhost:8080/"
        },
        "id": "qnvHLO44A-T6",
        "outputId": "f8251d19-876e-4dbe-b949-e5bac0c12b51"
      },
      "execution_count": null,
      "outputs": [
        {
          "output_type": "execute_result",
          "data": {
            "text/plain": [
              "array([2, 3, 4, 5])"
            ]
          },
          "metadata": {},
          "execution_count": 67
        }
      ]
    },
    {
      "cell_type": "markdown",
      "source": [
        "La seguente tabella elenca gli operatori aritmetici implementati in NumPy:\n",
        "\n",
        "| Operatore    | Ufunc corrispondente  | Descrizione                         |\n",
        "|-------------|-------------------|-------------------------------------|\n",
        "|`+`          |`np.add`           |Addizione (es., `1 + 1 = 2`)         |\n",
        "|`-`          |`np.subtract`      |Sottrazione (es., `3 - 2 = 1`)      |\n",
        "|`-`          |`np.negative`      |Negazione unaria (es., `-2`)          |\n",
        "|`*`          |`np.multiply`      |Moltiplicazione (es., `2 * 3 = 6`)   |\n",
        "|`/`          |`np.divide`        |Divisione (es., `3 / 2 = 1.5`)       |\n",
        "|`//`         |`np.floor_divide`  |Divisione con arrotondamento (es., `3 // 2 = 1`)  |\n",
        "|`**`         |`np.power`         |Elevamento a potenza (es., `2 ** 3 = 8`)  |\n",
        "|`%`          |`np.mod`           |Modulo/resto (es., `9 % 4 = 1`)|"
      ],
      "metadata": {
        "id": "RGIPTndcBIgj"
      }
    },
    {
      "cell_type": "markdown",
      "source": [
        "####Valore assoluto\n",
        "Con NumPy è possibile anche utilizzare la funzione valore assoluto integrata in Python:"
      ],
      "metadata": {
        "id": "lUjfu3fkBuau"
      }
    },
    {
      "cell_type": "code",
      "source": [
        "x = np.array([-2, -1, 0, 1, 2])\n",
        "abs(x)"
      ],
      "metadata": {
        "colab": {
          "base_uri": "https://localhost:8080/"
        },
        "id": "IFAvrmHyfdMf",
        "outputId": "71d32faf-d5cb-40c3-d970-7b7191506431"
      },
      "execution_count": null,
      "outputs": [
        {
          "output_type": "execute_result",
          "data": {
            "text/plain": [
              "array([2, 1, 0, 1, 2])"
            ]
          },
          "metadata": {},
          "execution_count": 68
        }
      ]
    },
    {
      "cell_type": "markdown",
      "source": [
        "La corrispondentu ufunc di NumPy è `np.absolute` (è possibile anche utilizzare l'alias `np.abs`):"
      ],
      "metadata": {
        "id": "cWP2ND0zfmwi"
      }
    },
    {
      "cell_type": "code",
      "source": [
        "np.absolute(x)"
      ],
      "metadata": {
        "colab": {
          "base_uri": "https://localhost:8080/"
        },
        "id": "hnk3oAsyfyI6",
        "outputId": "5c9606b5-f569-4b8a-ed27-3963c1bb81d6"
      },
      "execution_count": null,
      "outputs": [
        {
          "output_type": "execute_result",
          "data": {
            "text/plain": [
              "array([2, 1, 0, 1, 2])"
            ]
          },
          "metadata": {},
          "execution_count": 69
        }
      ]
    },
    {
      "cell_type": "code",
      "source": [
        "np.abs(x)"
      ],
      "metadata": {
        "colab": {
          "base_uri": "https://localhost:8080/"
        },
        "id": "n97Fe049f2uu",
        "outputId": "c049f3f0-9000-49c5-b1fa-8efb228761d2"
      },
      "execution_count": null,
      "outputs": [
        {
          "output_type": "execute_result",
          "data": {
            "text/plain": [
              "array([2, 1, 0, 1, 2])"
            ]
          },
          "metadata": {},
          "execution_count": 70
        }
      ]
    },
    {
      "cell_type": "markdown",
      "source": [
        "####Funzioni trigonometriche\n",
        "Altre ufunc molto utili sono quelle relative a funzioni trigonometriche.\n",
        "\n",
        "Definiamo innanzitutto un array di angoli:"
      ],
      "metadata": {
        "id": "HXGx6Z67f53B"
      }
    },
    {
      "cell_type": "code",
      "source": [
        "theta = np.linspace(0, np.pi, 3)"
      ],
      "metadata": {
        "id": "aaSM4HMVgVvj"
      },
      "execution_count": null,
      "outputs": []
    },
    {
      "cell_type": "markdown",
      "source": [
        "Applichiamo alcune funzioni trigonometriche:"
      ],
      "metadata": {
        "id": "qiINohPcgaym"
      }
    },
    {
      "cell_type": "code",
      "source": [
        "print(\"theta      = \", theta)\n",
        "print(\"sin(theta) = \", np.sin(theta))\n",
        "print(\"cos(theta) = \", np.cos(theta))\n",
        "print(\"tan(theta) = \", np.tan(theta))"
      ],
      "metadata": {
        "colab": {
          "base_uri": "https://localhost:8080/"
        },
        "id": "Oi5aspRNggJ1",
        "outputId": "21dc78e0-cc04-4551-c7eb-e2e9b35c1305"
      },
      "execution_count": null,
      "outputs": [
        {
          "output_type": "stream",
          "name": "stdout",
          "text": [
            "theta      =  [0.         1.57079633 3.14159265]\n",
            "sin(theta) =  [0.0000000e+00 1.0000000e+00 1.2246468e-16]\n",
            "cos(theta) =  [ 1.000000e+00  6.123234e-17 -1.000000e+00]\n",
            "tan(theta) =  [ 0.00000000e+00  1.63312394e+16 -1.22464680e-16]\n"
          ]
        }
      ]
    },
    {
      "cell_type": "markdown",
      "source": [
        "I valori sono calcolati con la precisione della macchina, per cui i valori che dovrebbero essere zero non sempre corrispondono esattamente a zero. Sono disponibili anche funzioni trigonometriche inverse:"
      ],
      "metadata": {
        "id": "Kx__5yHogqzN"
      }
    },
    {
      "cell_type": "code",
      "source": [
        "x = [-1, 0, 1]\n",
        "print(\"x         = \", x)\n",
        "print(\"arcsin(x) = \", np.arcsin(x))\n",
        "print(\"arccos(x) = \", np.arccos(x))\n",
        "print(\"arctan(x) = \", np.arctan(x))"
      ],
      "metadata": {
        "colab": {
          "base_uri": "https://localhost:8080/"
        },
        "id": "haoc87e-gst7",
        "outputId": "5f8a0140-003c-43ad-9b1e-4224d259f578"
      },
      "execution_count": null,
      "outputs": [
        {
          "output_type": "stream",
          "name": "stdout",
          "text": [
            "x         =  [-1, 0, 1]\n",
            "arcsin(x) =  [-1.57079633  0.          1.57079633]\n",
            "arccos(x) =  [3.14159265 1.57079633 0.        ]\n",
            "arctan(x) =  [-0.78539816  0.          0.78539816]\n"
          ]
        }
      ]
    },
    {
      "cell_type": "markdown",
      "source": [
        "####Esponenziali e logaritmi\n",
        "Tra le ufunc NumPy sono presenti anche quelle relative ad esponenziali e logaritmi (sia logaritmo naturale, che in base 2, che in base 10):"
      ],
      "metadata": {
        "id": "tIFlGIl5gxbg"
      }
    },
    {
      "cell_type": "code",
      "source": [
        "x = [1, 2, 3]\n",
        "print(\"x   =\", x)\n",
        "print(\"e^x =\", np.exp(x))\n",
        "print(\"2^x =\", np.exp2(x))\n",
        "print(\"3^x =\", np.power(3., x))"
      ],
      "metadata": {
        "colab": {
          "base_uri": "https://localhost:8080/"
        },
        "id": "96GOz8rLhToE",
        "outputId": "eec15ca6-dcee-4859-a31c-09d9ae9f2458"
      },
      "execution_count": null,
      "outputs": [
        {
          "output_type": "stream",
          "name": "stdout",
          "text": [
            "x   = [1, 2, 3]\n",
            "e^x = [ 2.71828183  7.3890561  20.08553692]\n",
            "2^x = [2. 4. 8.]\n",
            "3^x = [ 3.  9. 27.]\n"
          ]
        }
      ]
    },
    {
      "cell_type": "code",
      "source": [
        "x = [1, 2, 4, 10]\n",
        "print(\"x        =\", x)\n",
        "print(\"ln(x)    =\", np.log(x))\n",
        "print(\"log2(x)  =\", np.log2(x))\n",
        "print(\"log10(x) =\", np.log10(x))"
      ],
      "metadata": {
        "colab": {
          "base_uri": "https://localhost:8080/"
        },
        "id": "3eCJadeahW0t",
        "outputId": "342ea9bd-b66b-4bff-e1c6-25ad5f488d3b"
      },
      "execution_count": null,
      "outputs": [
        {
          "output_type": "stream",
          "name": "stdout",
          "text": [
            "x        = [1, 2, 4, 10]\n",
            "ln(x)    = [0.         0.69314718 1.38629436 2.30258509]\n",
            "log2(x)  = [0.         1.         2.         3.32192809]\n",
            "log10(x) = [0.         0.30103    0.60205999 1.        ]\n"
          ]
        }
      ]
    },
    {
      "cell_type": "markdown",
      "source": [
        "##Funzioni di aggregazione\n",
        "Un primo passo nell'esplorazione di qualsiasi dataset è spesso il calcolo di statistiche di sintesi. Forse le statistiche di riepilogo più comuni sono la media e la deviazione standard, che consentono di riassumere i valori “tipici” di un dataset, ma sono utili anche altre aggregazioni (la somma, il prodotto, la mediana, il minimo e il massimo, i quantili, ecc.)\n",
        "\n",
        "NumPy dispone di varie funzioni di aggregazione integrate per lavorare sugli array."
      ],
      "metadata": {
        "id": "m1aEcwY_j1qv"
      }
    },
    {
      "cell_type": "markdown",
      "source": [
        "###Sommare i valori di un array\n",
        "Una prima funzione è per il calcolo della somma degli elementi di un array. Si può utilizzare anche la funzione integrata `sum` di Python ma, per array di grandi dimensioni, la funzione `sum` di NumPy è molto più efficiente (come si evince dall'esempio seguente in cui è utilizzata `timeit`, una libreria integrata di Python per misurare il tempo di esecuzione di snippet di codice)."
      ],
      "metadata": {
        "id": "WM7FXD1-k38o"
      }
    },
    {
      "cell_type": "code",
      "source": [
        "rng = np.random.default_rng()\n",
        "big_array = rng.random(1000000)\n",
        "%timeit sum(big_array)\n",
        "%timeit np.sum(big_array)"
      ],
      "metadata": {
        "colab": {
          "base_uri": "https://localhost:8080/"
        },
        "id": "PFWIuncsl1Ih",
        "outputId": "bc9b5570-8cde-4e81-a425-654a1bef8d45"
      },
      "execution_count": null,
      "outputs": [
        {
          "output_type": "stream",
          "name": "stdout",
          "text": [
            "366 ms ± 94.3 ms per loop (mean ± std. dev. of 7 runs, 1 loop each)\n",
            "792 µs ± 323 µs per loop (mean ± std. dev. of 7 runs, 1000 loops each)\n"
          ]
        }
      ]
    },
    {
      "cell_type": "markdown",
      "source": [
        "###Minimo e massimo\n",
        "Per calcolare il minimo e massimo valore tra gli elementi di un array è possibile utilizzare:"
      ],
      "metadata": {
        "id": "WT10o151m2mg"
      }
    },
    {
      "cell_type": "code",
      "source": [
        "np.min(big_array), np.max(big_array)"
      ],
      "metadata": {
        "colab": {
          "base_uri": "https://localhost:8080/"
        },
        "id": "xHnfrJsqneEE",
        "outputId": "069fb382-8e2e-4715-c842-2aa922193c88"
      },
      "execution_count": null,
      "outputs": [
        {
          "output_type": "execute_result",
          "data": {
            "text/plain": [
              "(8.388180428031689e-08, 0.9999993152908462)"
            ]
          },
          "metadata": {},
          "execution_count": 77
        }
      ]
    },
    {
      "cell_type": "markdown",
      "source": [
        "Alternativamente, una sintassi più concisa prevede di utilizzare i metodi dell'array stesso (ciò vale anche per la somma):"
      ],
      "metadata": {
        "id": "yS6kJeIonmTo"
      }
    },
    {
      "cell_type": "code",
      "source": [
        "print(big_array.min(), big_array.max(), big_array.sum())"
      ],
      "metadata": {
        "colab": {
          "base_uri": "https://localhost:8080/"
        },
        "id": "ftJp4USknxOg",
        "outputId": "bd2c75b0-bced-4238-f0a9-bda8d83c1faa"
      },
      "execution_count": null,
      "outputs": [
        {
          "output_type": "stream",
          "name": "stdout",
          "text": [
            "8.388180428031689e-08 0.9999993152908462 500666.8413135172\n"
          ]
        }
      ]
    },
    {
      "cell_type": "markdown",
      "source": [
        "###Altre funzioni di aggregazione\n",
        "La seguente tabella fornisce un elenco di utili funzioni di aggregazione disponibili in NumPy.\n",
        "\n",
        "|Nome    |   Versione NaN-safe| Descrizione                                   |\n",
        "|-----------------|-------------------|-----------------------------------------------|\n",
        "| `np.sum`        | `np.nansum`       | Somma degli elementi                       |\n",
        "| `np.prod`       | `np.nanprod`      | Prodotto degli elementi                    |\n",
        "| `np.mean`       | `np.nanmean`      | Media degli elementi                       |\n",
        "| `np.std`        | `np.nanstd`       | Deviazione standard                    |\n",
        "| `np.var`        | `np.nanvar`       | Varianza                              |\n",
        "| `np.min`        | `np.nanmin`       | Trova il minimo valore                            |\n",
        "| `np.max`        | `np.nanmax`       | Trova il massimo valore                            |\n",
        "| `np.argmin`     | `np.nanargmin`    | Trova l'indice del minimo valore                   |\n",
        "| `np.argmax`     | `np.nanargmax`    | Trova l'indice del massimo valore                   |\n",
        "| `np.median`     | `np.nanmedian`    | Calcola la mediana degli elementi                    |\n",
        "| `np.percentile` | `np.nanpercentile`| Calcola i percentili     |\n",
        "| `np.any`        | N/A               | Valuta se un qualsiasi elemento è vero        |\n",
        "| `np.all`        | N/A               | Valuta se tutti gli elementi sono veri        |\n"
      ],
      "metadata": {
        "id": "cyVoS0Zhn3Rs"
      }
    },
    {
      "cell_type": "markdown",
      "source": [
        "###Operatori di confronto\n",
        "NumPy implementa anche operatori di confronto come < (minore di) e > (maggiore di) come ufunc che operano elemento per elemento. Il risultato di questi operatori di confronto è sempre un array di tipo booleano. Sono disponibili tutte e sei le operazioni di confronto standard."
      ],
      "metadata": {
        "id": "KAwxgrwksCpG"
      }
    },
    {
      "cell_type": "code",
      "source": [
        "x = np.array([1, 2, 3, 4, 5])"
      ],
      "metadata": {
        "id": "3piS0FGrsS5I"
      },
      "execution_count": null,
      "outputs": []
    },
    {
      "cell_type": "code",
      "source": [
        "x < 3 # minore di"
      ],
      "metadata": {
        "colab": {
          "base_uri": "https://localhost:8080/"
        },
        "id": "x7Dkl_u0sUbY",
        "outputId": "34bc7f15-942f-4cef-b0b6-5c07d01ba48e"
      },
      "execution_count": null,
      "outputs": [
        {
          "output_type": "execute_result",
          "data": {
            "text/plain": [
              "array([ True,  True, False, False, False])"
            ]
          },
          "metadata": {},
          "execution_count": 80
        }
      ]
    },
    {
      "cell_type": "code",
      "source": [
        "x > 3 # maggiore di"
      ],
      "metadata": {
        "colab": {
          "base_uri": "https://localhost:8080/"
        },
        "id": "oWhXuD2IsWOd",
        "outputId": "a32acc7c-6127-46b1-be42-64ca08f680d3"
      },
      "execution_count": null,
      "outputs": [
        {
          "output_type": "execute_result",
          "data": {
            "text/plain": [
              "array([False, False, False,  True,  True])"
            ]
          },
          "metadata": {},
          "execution_count": 81
        }
      ]
    },
    {
      "cell_type": "code",
      "source": [
        "x <= 3 # minore o uguale di"
      ],
      "metadata": {
        "colab": {
          "base_uri": "https://localhost:8080/"
        },
        "id": "C9po8XzvsXoA",
        "outputId": "cadc2969-b33b-4485-9b09-7b94989a6b7f"
      },
      "execution_count": null,
      "outputs": [
        {
          "output_type": "execute_result",
          "data": {
            "text/plain": [
              "array([ True,  True,  True, False, False])"
            ]
          },
          "metadata": {},
          "execution_count": 82
        }
      ]
    },
    {
      "cell_type": "code",
      "source": [
        "x >= 3 # maggiore o uguale di"
      ],
      "metadata": {
        "colab": {
          "base_uri": "https://localhost:8080/"
        },
        "id": "SnEUVHwTsaGU",
        "outputId": "1c5737f9-acfc-4af0-8e53-d1e9bd1d00bf"
      },
      "execution_count": null,
      "outputs": [
        {
          "output_type": "execute_result",
          "data": {
            "text/plain": [
              "array([False, False,  True,  True,  True])"
            ]
          },
          "metadata": {},
          "execution_count": 83
        }
      ]
    },
    {
      "cell_type": "code",
      "source": [
        "x != 3 # diverso da"
      ],
      "metadata": {
        "colab": {
          "base_uri": "https://localhost:8080/"
        },
        "id": "ofPPE3MvsbmR",
        "outputId": "a15685de-0f82-456a-9c43-978954bfe79c"
      },
      "execution_count": null,
      "outputs": [
        {
          "output_type": "execute_result",
          "data": {
            "text/plain": [
              "array([ True,  True, False,  True,  True])"
            ]
          },
          "metadata": {},
          "execution_count": 84
        }
      ]
    },
    {
      "cell_type": "code",
      "source": [
        "x == 3 # uguale a"
      ],
      "metadata": {
        "colab": {
          "base_uri": "https://localhost:8080/"
        },
        "id": "Ksq6ZJUpsd2V",
        "outputId": "1b8117ea-f678-4f87-b27f-baa41efe080a"
      },
      "execution_count": null,
      "outputs": [
        {
          "output_type": "execute_result",
          "data": {
            "text/plain": [
              "array([False, False,  True, False, False])"
            ]
          },
          "metadata": {},
          "execution_count": 85
        }
      ]
    },
    {
      "cell_type": "markdown",
      "source": [
        "È anche possibile eseguire un confronto elemento per elemento tra due array e includere espressioni composte:"
      ],
      "metadata": {
        "id": "4iCDDbqDsyOX"
      }
    },
    {
      "cell_type": "code",
      "source": [
        "(2 * x) == (x ** 2)"
      ],
      "metadata": {
        "colab": {
          "base_uri": "https://localhost:8080/"
        },
        "id": "EaxyurXYs4ib",
        "outputId": "ae65efe3-1226-4d61-e399-7639a0c7521b"
      },
      "execution_count": null,
      "outputs": [
        {
          "output_type": "execute_result",
          "data": {
            "text/plain": [
              "array([False,  True, False, False, False])"
            ]
          },
          "metadata": {},
          "execution_count": 86
        }
      ]
    },
    {
      "cell_type": "markdown",
      "source": [
        "Come nel caso degli operatori aritmetici, anche gli operatori di confronto sono implementati come ufunc in NumPy; ad esempio, quando si scrive `x < 3`, internamente NumPy utilizza `np.less(x, 3)`. Qui è riportato un riepilogo degli operatori di confronto e dello loro ufunc equivalenti:\n",
        "\n",
        "| Operatore    | ufunc equivalente | Operatore   | ufunc equivalente|\n",
        "|-------------|-------------------|------------|------------------|\n",
        "|`==`         |`np.equal`         |`!=`        |`np.not_equal`    |\n",
        "|`<`          |`np.less`          |`<=`        |`np.less_equal`   |\n",
        "|`>`          |`np.greater`       |`>=`        |`np.greater_equal`|"
      ],
      "metadata": {
        "id": "Rqbx6hbgIxHp"
      }
    },
    {
      "cell_type": "markdown",
      "source": [
        "###Lavorare con array booleani\n",
        "Dato un array booleano, è possibile eseguire una serie di operazioni utili. Facciamo riferimento all'array bidimensionale `x`:"
      ],
      "metadata": {
        "id": "AomN-AcsJS5g"
      }
    },
    {
      "cell_type": "code",
      "source": [
        "x = np.array([[9,4,0,3], [2,5,7,3], [9,9,4,0]])\n",
        "print(x)"
      ],
      "metadata": {
        "colab": {
          "base_uri": "https://localhost:8080/"
        },
        "id": "FpcqgewFJu97",
        "outputId": "b370741a-5cb4-4b5c-bcd2-e7fdc6e54646"
      },
      "execution_count": null,
      "outputs": [
        {
          "output_type": "stream",
          "name": "stdout",
          "text": [
            "[[9 4 0 3]\n",
            " [2 5 7 3]\n",
            " [9 9 4 0]]\n"
          ]
        }
      ]
    },
    {
      "cell_type": "markdown",
      "source": [
        "####Contare il numero di elementi\n",
        "Per contare il numero di elementi `True` in un array booleano, è utile `np.count_nonzero`:"
      ],
      "metadata": {
        "id": "EbjwbyVZKHCS"
      }
    },
    {
      "cell_type": "code",
      "source": [
        "# quanti elementi sono minori di 6?\n",
        "np.count_nonzero(x < 6)"
      ],
      "metadata": {
        "colab": {
          "base_uri": "https://localhost:8080/"
        },
        "id": "ZBolDd4FKTEZ",
        "outputId": "32b8aee0-0944-44b6-f18a-f5ea1ef3715e"
      },
      "execution_count": null,
      "outputs": [
        {
          "output_type": "execute_result",
          "data": {
            "text/plain": [
              "8"
            ]
          },
          "metadata": {},
          "execution_count": 88
        }
      ]
    },
    {
      "cell_type": "markdown",
      "source": [
        "Un modo alternativo è utilizzare `np.sum`; in questo caso `False` è interpretato come `0`, mentre `True` è interpretato come `1`:"
      ],
      "metadata": {
        "id": "lMg9pOO9Kll7"
      }
    },
    {
      "cell_type": "code",
      "source": [
        "np.sum(x < 6)"
      ],
      "metadata": {
        "colab": {
          "base_uri": "https://localhost:8080/"
        },
        "id": "gwGIfBYTK0Tm",
        "outputId": "7fab6467-fc8e-4dfd-d1d2-242d70bdeb7a"
      },
      "execution_count": null,
      "outputs": [
        {
          "output_type": "execute_result",
          "data": {
            "text/plain": [
              "8"
            ]
          },
          "metadata": {},
          "execution_count": 89
        }
      ]
    },
    {
      "cell_type": "markdown",
      "source": [
        "Il vantaggio di `np.sum` è che, come per altre funzioni di aggregazione di NumPy, questa somma può essere fatta anche lungo le righe o le colonne. Ad esempio, lo snippet seguente conta il numero di elementi minori di 6 su ciascuna riga:"
      ],
      "metadata": {
        "id": "hqD_HyPiK-nL"
      }
    },
    {
      "cell_type": "code",
      "source": [
        "# quanti elementi sono minori di 6 su ciascuna riga?\n",
        "np.sum(x < 6, axis=1)"
      ],
      "metadata": {
        "colab": {
          "base_uri": "https://localhost:8080/"
        },
        "id": "-XypDQpALdHd",
        "outputId": "dcd2056f-2a08-41cd-b6e9-91624c361299"
      },
      "execution_count": null,
      "outputs": [
        {
          "output_type": "execute_result",
          "data": {
            "text/plain": [
              "array([3, 3, 2])"
            ]
          },
          "metadata": {},
          "execution_count": 90
        }
      ]
    },
    {
      "cell_type": "markdown",
      "source": [
        "####Operatori booleani\n",
        "Supponiamo di voler contare il numero di elementi che verifica contemporaneamente due condizioni. Questo tipo di operazione può essere ottenuta con gli operatori logici di Python che operano bit a bit, ovvero `&`, `|`, `^` e `~` (and, or, or esclusivo e not, rispettivamente), o con le corrispondenti ufunc di NumPy. Ad esempio, per contare quanti elementi sono contemporaneamente minori di 6 e pari:"
      ],
      "metadata": {
        "id": "gEnGSfXHL1E2"
      }
    },
    {
      "cell_type": "code",
      "source": [
        "# quanti elementi sono contemporaneamente minori di 6 e pari?\n",
        "np.sum((x < 6) & (x % 2 == 0))"
      ],
      "metadata": {
        "colab": {
          "base_uri": "https://localhost:8080/"
        },
        "id": "9Jj0kuP0S_Wm",
        "outputId": "c237a4c3-816f-4046-f2ab-3c93fc248f61"
      },
      "execution_count": null,
      "outputs": [
        {
          "output_type": "execute_result",
          "data": {
            "text/plain": [
              "5"
            ]
          },
          "metadata": {},
          "execution_count": 91
        }
      ]
    },
    {
      "cell_type": "markdown",
      "source": [
        "La tabella seguente riassume gli operatori logici booleani e le corrispondenti ufunc:\n",
        "\n",
        "| Operatore    | ufunc equivalente  | Operatore    | ufunc equivalente |\n",
        "|-------------|-------------------|-------------|-------------------|\n",
        "|`&`          |`np.bitwise_and`   |&#124;       |`np.bitwise_or`    |\n",
        "|`^`          |`np.bitwise_xor`   |`~`          |`np.bitwise_not`   |"
      ],
      "metadata": {
        "id": "YT1OXfMdT6lg"
      }
    },
    {
      "cell_type": "markdown",
      "source": [
        "###Array booleani come \"maschere\" (masks)\n",
        "Prima abbiamo calcolato dei valori aggregati direttamente su array booleani interi. Un modello più potente è quello di usare gli array booleani come maschere, per selezionare particolari sottoinsiemi dei dati stessi.\n",
        "\n",
        "Con riferimento al precedente array `x`, si è visto che è possibile ottenere facilmente un array con valori `True` o `False`, a seconda che una certa condizione sia verificata o meno. Ad esempio:"
      ],
      "metadata": {
        "id": "XJLJKPkIU6KW"
      }
    },
    {
      "cell_type": "code",
      "source": [
        "x < 6"
      ],
      "metadata": {
        "colab": {
          "base_uri": "https://localhost:8080/"
        },
        "id": "5ffsXNouWHhb",
        "outputId": "383292a0-8a7c-40c8-9c15-e05c4a172d9e"
      },
      "execution_count": null,
      "outputs": [
        {
          "output_type": "execute_result",
          "data": {
            "text/plain": [
              "array([[False,  True,  True,  True],\n",
              "       [ True,  True, False,  True],\n",
              "       [False, False,  True,  True]])"
            ]
          },
          "metadata": {},
          "execution_count": 92
        }
      ]
    },
    {
      "cell_type": "markdown",
      "source": [
        "Per selezionare solo i valori dell'array che soddisfano la condizione data, si può procedere effettuando un'operazione nota come *masking*:"
      ],
      "metadata": {
        "id": "3aIWKAKDWMRH"
      }
    },
    {
      "cell_type": "code",
      "source": [
        "x[x < 6]"
      ],
      "metadata": {
        "colab": {
          "base_uri": "https://localhost:8080/"
        },
        "id": "zCnqyma0WYyn",
        "outputId": "ee68db6d-4384-41a7-8ce6-fc3d7d51b8c5"
      },
      "execution_count": null,
      "outputs": [
        {
          "output_type": "execute_result",
          "data": {
            "text/plain": [
              "array([4, 0, 3, 2, 5, 3, 4, 0])"
            ]
          },
          "metadata": {},
          "execution_count": 93
        }
      ]
    },
    {
      "cell_type": "markdown",
      "source": [
        "Ciò che viene restituito è un array monodimensionale con tutti i valori che soddisfano la condizione, ovvero solo i valori nelle posizioni in cui l'array mask contiene `True`."
      ],
      "metadata": {
        "id": "c0DCAWqUWgBI"
      }
    },
    {
      "cell_type": "markdown",
      "source": [
        "##Ordinamento (sorting) di array\n",
        "Python dispone di alcune funzioni e metodi integrati per ordinare liste e altri oggetti iterabili. La funzione `sorted` prende in input una lista e ne restituisce una copia ordinata. Ad esempio:"
      ],
      "metadata": {
        "id": "lZeMUTDFXkeD"
      }
    },
    {
      "cell_type": "code",
      "source": [
        "lista = [3, 1, 4, 1, 5, 9, 2, 6]\n",
        "sorted(lista)  # restituisce una copia ordinata"
      ],
      "metadata": {
        "colab": {
          "base_uri": "https://localhost:8080/"
        },
        "id": "DKjO1YUsYrDB",
        "outputId": "7ffe63dc-a28a-4952-fe2a-2cbcf64d3d22"
      },
      "execution_count": null,
      "outputs": [
        {
          "output_type": "execute_result",
          "data": {
            "text/plain": [
              "[1, 1, 2, 3, 4, 5, 6, 9]"
            ]
          },
          "metadata": {},
          "execution_count": 94
        }
      ]
    },
    {
      "cell_type": "markdown",
      "source": [
        "Per contro, il metodo `sort` agisce direttamente sulla lista da ordinare:"
      ],
      "metadata": {
        "id": "d-AUh9NKa4qG"
      }
    },
    {
      "cell_type": "code",
      "source": [
        "print(lista)\n",
        "lista.sort()\n",
        "print(lista)"
      ],
      "metadata": {
        "colab": {
          "base_uri": "https://localhost:8080/"
        },
        "id": "3BfccrhCbBtT",
        "outputId": "33d4724a-beb8-44e6-d594-3d815dd649a7"
      },
      "execution_count": null,
      "outputs": [
        {
          "output_type": "stream",
          "name": "stdout",
          "text": [
            "[3, 1, 4, 1, 5, 9, 2, 6]\n",
            "[1, 1, 2, 3, 4, 5, 6, 9]\n"
          ]
        }
      ]
    },
    {
      "cell_type": "markdown",
      "source": [
        "###Ordinamento con NumPy\n",
        "La funzione `np.sort` è analoga a `sorted`, restituendo una copia dell'array:"
      ],
      "metadata": {
        "id": "BRPMYvyIbJ2W"
      }
    },
    {
      "cell_type": "code",
      "source": [
        "x = np.array([2, 1, 4, 3, 5])\n",
        "np.sort(x)"
      ],
      "metadata": {
        "colab": {
          "base_uri": "https://localhost:8080/"
        },
        "id": "xbHxlSq7bcwF",
        "outputId": "41691603-c2b9-472a-c140-3c1074fbb751"
      },
      "execution_count": null,
      "outputs": [
        {
          "output_type": "execute_result",
          "data": {
            "text/plain": [
              "array([1, 2, 3, 4, 5])"
            ]
          },
          "metadata": {},
          "execution_count": 96
        }
      ]
    },
    {
      "cell_type": "markdown",
      "source": [
        "Per effettuare l'ordinamento direttamente sull'array:"
      ],
      "metadata": {
        "id": "oHOryne-biUr"
      }
    },
    {
      "cell_type": "code",
      "source": [
        "print(x)\n",
        "x.sort()\n",
        "print(x)"
      ],
      "metadata": {
        "colab": {
          "base_uri": "https://localhost:8080/"
        },
        "id": "JNpXVfeGbm-Q",
        "outputId": "c145f18c-11b2-4319-e53f-6a37ab61902b"
      },
      "execution_count": null,
      "outputs": [
        {
          "output_type": "stream",
          "name": "stdout",
          "text": [
            "[2 1 4 3 5]\n",
            "[1 2 3 4 5]\n"
          ]
        }
      ]
    },
    {
      "cell_type": "markdown",
      "source": [
        "Se so vogliono ottenere gli indici degli elementi ordinati, si utilizza la funzione `argsort`:"
      ],
      "metadata": {
        "id": "kYLDUX91bwv3"
      }
    },
    {
      "cell_type": "code",
      "source": [
        "x = np.array([2, 1, 4, 3, 5])\n",
        "i = np.argsort(x)\n",
        "print(i)"
      ],
      "metadata": {
        "colab": {
          "base_uri": "https://localhost:8080/"
        },
        "id": "_OI0hGVJb4IQ",
        "outputId": "cea5b30b-2406-4184-a319-26674d609656"
      },
      "execution_count": null,
      "outputs": [
        {
          "output_type": "stream",
          "name": "stdout",
          "text": [
            "[1 0 3 2 4]\n"
          ]
        }
      ]
    },
    {
      "cell_type": "markdown",
      "source": [
        "Il primo elemento dell'array restituito contiene l'indice dell'elemento più piccolo, il secondo elemento contiene l'indice del secondo più piccolo e così via."
      ],
      "metadata": {
        "id": "DKyxAFLWcG0E"
      }
    },
    {
      "cell_type": "markdown",
      "source": [
        "####Ordinamento lungo le righe o lungo le colonne\n",
        "Una caratteristica utile degli algoritmi di ordinamento di NumPy è la possibilità di ordinare lungo specifiche righe o colonne di un array multidimensionale utilizzando l'argomento `axis`."
      ],
      "metadata": {
        "id": "zP_gbwALce89"
      }
    },
    {
      "cell_type": "code",
      "source": [
        "x = np.array([[9,4,0,3], [2,5,7,3], [9,9,4,0]])\n",
        "print(x)"
      ],
      "metadata": {
        "colab": {
          "base_uri": "https://localhost:8080/"
        },
        "id": "a850ckuEcvVo",
        "outputId": "34f449fb-bc1d-4d54-d79c-ed51cfbc588f"
      },
      "execution_count": null,
      "outputs": [
        {
          "output_type": "stream",
          "name": "stdout",
          "text": [
            "[[9 4 0 3]\n",
            " [2 5 7 3]\n",
            " [9 9 4 0]]\n"
          ]
        }
      ]
    },
    {
      "cell_type": "code",
      "source": [
        "# ordinamento di ciascuna colonna di x\n",
        "np.sort(x, axis=0)"
      ],
      "metadata": {
        "colab": {
          "base_uri": "https://localhost:8080/"
        },
        "id": "Y587iHWgcxGQ",
        "outputId": "e909b0f3-d04c-4a1d-9711-bf647404049e"
      },
      "execution_count": null,
      "outputs": [
        {
          "output_type": "execute_result",
          "data": {
            "text/plain": [
              "array([[2, 4, 0, 0],\n",
              "       [9, 5, 4, 3],\n",
              "       [9, 9, 7, 3]])"
            ]
          },
          "metadata": {},
          "execution_count": 100
        }
      ]
    },
    {
      "cell_type": "code",
      "source": [
        "# ordinamento di ciascuna riga di x\n",
        "np.sort(x, axis=1)"
      ],
      "metadata": {
        "colab": {
          "base_uri": "https://localhost:8080/"
        },
        "id": "M-eprRPTc-G9",
        "outputId": "03065fe2-30f0-4c07-9535-e691fb96c2fa"
      },
      "execution_count": null,
      "outputs": [
        {
          "output_type": "execute_result",
          "data": {
            "text/plain": [
              "array([[0, 3, 4, 9],\n",
              "       [2, 3, 5, 7],\n",
              "       [0, 4, 9, 9]])"
            ]
          },
          "metadata": {},
          "execution_count": 101
        }
      ]
    }
  ]
}