{
  "nbformat": 4,
  "nbformat_minor": 0,
  "metadata": {
    "colab": {
      "provenance": [],
      "authorship_tag": "ABX9TyOP49uqgm5y3UcrPEhHBoaz",
      "include_colab_link": true
    },
    "kernelspec": {
      "name": "python3",
      "display_name": "Python 3"
    },
    "language_info": {
      "name": "python"
    }
  },
  "cells": [
    {
      "cell_type": "markdown",
      "metadata": {
        "id": "view-in-github",
        "colab_type": "text"
      },
      "source": [
        "<a href=\"https://colab.research.google.com/github/emamanni/AnalisiDeiDati24-25/blob/main/04_LaLibreriaNumPy.ipynb\" target=\"_parent\"><img src=\"https://colab.research.google.com/assets/colab-badge.svg\" alt=\"Open In Colab\"/></a>"
      ]
    },
    {
      "cell_type": "markdown",
      "source": [
        "# Python for Data Science hands-on review: la libreria NumPy"
      ],
      "metadata": {
        "id": "2JAyvb0o-1XW"
      }
    },
    {
      "cell_type": "markdown",
      "source": [
        "NumPy (abbreviazione di *Numerical Python*) fornisce un'interfaccia efficiente per memorizzare e operare su buffer di dati densi.\n",
        "\n",
        "In un certo senso, gli array NumPy sono come il tipo `list` incorporato in Python, ma gli array NumPy forniscono una memorizzazione e operazioni sui dati molto più efficienti man mano che le dimensioni degli array aumentano.\n",
        "\n",
        "Gli array NumPy costituiscono il nucleo di quasi tutto l'ecosistema di strumenti per la data science in Python."
      ],
      "metadata": {
        "id": "R0QPveoG_Bf4"
      }
    },
    {
      "cell_type": "markdown",
      "source": [
        "Una volta installato (se non già presente), si può importare NumPy e controllare la versione ..."
      ],
      "metadata": {
        "id": "3QCet-ts_eVv"
      }
    },
    {
      "cell_type": "code",
      "execution_count": 1,
      "metadata": {
        "colab": {
          "base_uri": "https://localhost:8080/",
          "height": 36
        },
        "id": "L8RJZNH8-03g",
        "outputId": "f0641d9c-2e18-4c6d-a082-99792fafaf0f"
      },
      "outputs": [
        {
          "output_type": "execute_result",
          "data": {
            "text/plain": [
              "'1.26.4'"
            ],
            "application/vnd.google.colaboratory.intrinsic+json": {
              "type": "string"
            }
          },
          "metadata": {},
          "execution_count": 1
        }
      ],
      "source": [
        "import numpy\n",
        "numpy.__version__"
      ]
    },
    {
      "cell_type": "markdown",
      "source": [
        "Per convenzione, tipicamente si importa NumPy usando `np` come alias ..."
      ],
      "metadata": {
        "id": "yTqkdWHX_uuF"
      }
    },
    {
      "cell_type": "code",
      "source": [
        "import numpy as np"
      ],
      "metadata": {
        "id": "3MuMabkh_1PF"
      },
      "execution_count": 2,
      "outputs": []
    },
    {
      "cell_type": "markdown",
      "source": [
        "##Creazione di array a partire da liste\n",
        "\n",
        "Per creare un array a partire da una lista:"
      ],
      "metadata": {
        "id": "uSyV9qN8X8jr"
      }
    },
    {
      "cell_type": "code",
      "source": [
        "# Array di interi\n",
        "np.array([1, 4, 2, 5, 3])"
      ],
      "metadata": {
        "colab": {
          "base_uri": "https://localhost:8080/"
        },
        "id": "qUwMiGi___uI",
        "outputId": "594eda64-37c7-40e7-f15a-2e93a517c1cf"
      },
      "execution_count": 3,
      "outputs": [
        {
          "output_type": "execute_result",
          "data": {
            "text/plain": [
              "array([1, 4, 2, 5, 3])"
            ]
          },
          "metadata": {},
          "execution_count": 3
        }
      ]
    },
    {
      "cell_type": "markdown",
      "source": [
        "Si tenga presente che, a differenza delle liste Python, gli array NumPy possono contenere solo dati dello stesso tipo. Se i tipi non corrispondono, NumPy esegue l'upcast in base alle sue regole di \"type promotion\". Nel caso seguente, i numeri interi sono stati trasformati in virgola mobile:"
      ],
      "metadata": {
        "id": "8Uoj5XpEYhrv"
      }
    },
    {
      "cell_type": "code",
      "source": [
        "np.array([3.14, 4, 2, 3])"
      ],
      "metadata": {
        "colab": {
          "base_uri": "https://localhost:8080/"
        },
        "id": "civvhfp7YwcU",
        "outputId": "2dcb670c-a04a-4d2b-f0ce-0f87e1d095e4"
      },
      "execution_count": 4,
      "outputs": [
        {
          "output_type": "execute_result",
          "data": {
            "text/plain": [
              "array([3.14, 4.  , 2.  , 3.  ])"
            ]
          },
          "metadata": {},
          "execution_count": 4
        }
      ]
    },
    {
      "cell_type": "markdown",
      "source": [
        "Per impostare esplicitamente il tipo di dati dell'array risultante, si può usare la parola chiave `dtype`:"
      ],
      "metadata": {
        "id": "IYMto5CmY2l2"
      }
    },
    {
      "cell_type": "code",
      "source": [
        "np.array([1, 2, 3, 4], dtype=np.float32)"
      ],
      "metadata": {
        "colab": {
          "base_uri": "https://localhost:8080/"
        },
        "id": "JaGCCIrwY5UN",
        "outputId": "c25ea01e-3367-4d25-8794-22992754880c"
      },
      "execution_count": 5,
      "outputs": [
        {
          "output_type": "execute_result",
          "data": {
            "text/plain": [
              "array([1., 2., 3., 4.], dtype=float32)"
            ]
          },
          "metadata": {},
          "execution_count": 5
        }
      ]
    },
    {
      "cell_type": "markdown",
      "source": [
        "Infine, a differenza delle liste di Python, che sono sempre sequenze monodimensionali, gli array di NumPy possono essere multidimensionali. Di seguito un modo per inizializzare un array multidimensionale utilizzando un elenco di liste. Le liste interne sono trattate come righe dell'array bidimensionale risultante."
      ],
      "metadata": {
        "id": "_1s4PucOZEQS"
      }
    },
    {
      "cell_type": "code",
      "source": [
        "# Array multidimensionale a partire da liste innestate\n",
        "np.array([range(i, i + 3) for i in [2, 4, 10]])"
      ],
      "metadata": {
        "colab": {
          "base_uri": "https://localhost:8080/"
        },
        "id": "OKPSlatbZTGB",
        "outputId": "3865f0e6-97d5-411a-99e5-8fa64e90597b"
      },
      "execution_count": 6,
      "outputs": [
        {
          "output_type": "execute_result",
          "data": {
            "text/plain": [
              "array([[ 2,  3,  4],\n",
              "       [ 4,  5,  6],\n",
              "       [10, 11, 12]])"
            ]
          },
          "metadata": {},
          "execution_count": 6
        }
      ]
    },
    {
      "cell_type": "markdown",
      "source": [
        "##Creazione di array da zero\n",
        "\n",
        "Soprattutto per gli array più grandi, è più efficiente creare gli array da zero utilizzando le routine integrate in NumPy."
      ],
      "metadata": {
        "id": "5GzuPp7uZ-3z"
      }
    },
    {
      "cell_type": "code",
      "source": [
        "# Creare un array di interi di lunghezza 10 pieno di 0\n",
        "np.zeros(10, dtype=int)"
      ],
      "metadata": {
        "colab": {
          "base_uri": "https://localhost:8080/"
        },
        "id": "paJ3hXfcaG0p",
        "outputId": "fa0a27a4-eb6b-49e2-dfd4-60f1651bb1ad"
      },
      "execution_count": 7,
      "outputs": [
        {
          "output_type": "execute_result",
          "data": {
            "text/plain": [
              "array([0, 0, 0, 0, 0, 0, 0, 0, 0, 0])"
            ]
          },
          "metadata": {},
          "execution_count": 7
        }
      ]
    },
    {
      "cell_type": "code",
      "source": [
        "# Creare un array 3x5 in virgola mobile pieno di 1\n",
        "np.ones((3, 5), dtype=float)"
      ],
      "metadata": {
        "colab": {
          "base_uri": "https://localhost:8080/"
        },
        "id": "NyiHatF0aLTS",
        "outputId": "3b85a845-b290-41c7-817f-0a2cd7aea189"
      },
      "execution_count": 8,
      "outputs": [
        {
          "output_type": "execute_result",
          "data": {
            "text/plain": [
              "array([[1., 1., 1., 1., 1.],\n",
              "       [1., 1., 1., 1., 1.],\n",
              "       [1., 1., 1., 1., 1.]])"
            ]
          },
          "metadata": {},
          "execution_count": 8
        }
      ]
    },
    {
      "cell_type": "code",
      "source": [
        "# Creare un array 3x5 riempito con 3.14\n",
        "np.full((3, 5), 3.14)"
      ],
      "metadata": {
        "colab": {
          "base_uri": "https://localhost:8080/"
        },
        "id": "ZT3Wq9q4aOtc",
        "outputId": "78a54042-2ee4-4910-d9ae-05b92b2109ea"
      },
      "execution_count": 9,
      "outputs": [
        {
          "output_type": "execute_result",
          "data": {
            "text/plain": [
              "array([[3.14, 3.14, 3.14, 3.14, 3.14],\n",
              "       [3.14, 3.14, 3.14, 3.14, 3.14],\n",
              "       [3.14, 3.14, 3.14, 3.14, 3.14]])"
            ]
          },
          "metadata": {},
          "execution_count": 9
        }
      ]
    },
    {
      "cell_type": "code",
      "source": [
        "# Creare un array riempito con una sequenza lineare\n",
        "# iniziando da 0, finendo a 20, con un passo di 2\n",
        "# (è simile alla funzione range)\n",
        "np.arange(0, 20, 2)"
      ],
      "metadata": {
        "colab": {
          "base_uri": "https://localhost:8080/"
        },
        "id": "P0Xvfx3daSlP",
        "outputId": "1dcb340d-8c9b-429a-b04e-a57f2fb697b0"
      },
      "execution_count": 10,
      "outputs": [
        {
          "output_type": "execute_result",
          "data": {
            "text/plain": [
              "array([ 0,  2,  4,  6,  8, 10, 12, 14, 16, 18])"
            ]
          },
          "metadata": {},
          "execution_count": 10
        }
      ]
    },
    {
      "cell_type": "code",
      "source": [
        "# Creare un array di cinque valori equamente distanziati tra 0 e 1\n",
        "np.linspace(0, 1, 5)"
      ],
      "metadata": {
        "colab": {
          "base_uri": "https://localhost:8080/"
        },
        "id": "ln8sHNAFaV-o",
        "outputId": "c6220150-a554-494c-eb48-e4d6f65f73d7"
      },
      "execution_count": 11,
      "outputs": [
        {
          "output_type": "execute_result",
          "data": {
            "text/plain": [
              "array([0.  , 0.25, 0.5 , 0.75, 1.  ])"
            ]
          },
          "metadata": {},
          "execution_count": 11
        }
      ]
    },
    {
      "cell_type": "code",
      "source": [
        "# Creare una matrice 3x3 di valori pseudo-casuali\n",
        "# uniformemente distribuiti tra 0 e 1\n",
        "np.random.random((3, 3))"
      ],
      "metadata": {
        "colab": {
          "base_uri": "https://localhost:8080/"
        },
        "id": "R3AdjmhoadiG",
        "outputId": "1efb7e1e-ddf0-431e-f878-e9389622851c"
      },
      "execution_count": 12,
      "outputs": [
        {
          "output_type": "execute_result",
          "data": {
            "text/plain": [
              "array([[0.64577078, 0.99700029, 0.38455567],\n",
              "       [0.8767605 , 0.06340225, 0.54183091],\n",
              "       [0.17166936, 0.74371236, 0.48626662]])"
            ]
          },
          "metadata": {},
          "execution_count": 12
        }
      ]
    },
    {
      "cell_type": "code",
      "source": [
        "# Creare una matrice identità 3x3\n",
        "np.eye(3)"
      ],
      "metadata": {
        "colab": {
          "base_uri": "https://localhost:8080/"
        },
        "id": "hH16wpjZagbx",
        "outputId": "457c2463-e97b-47f2-afbd-a52534ae4330"
      },
      "execution_count": 13,
      "outputs": [
        {
          "output_type": "execute_result",
          "data": {
            "text/plain": [
              "array([[1., 0., 0.],\n",
              "       [0., 1., 0.],\n",
              "       [0., 0., 1.]])"
            ]
          },
          "metadata": {},
          "execution_count": 13
        }
      ]
    },
    {
      "cell_type": "code",
      "source": [
        "# Crea un array non inizializzato di tre numeri interi; i valori saranno\n",
        "# ciò che è presente in quella posizione di memoria\n",
        "np.empty(3)"
      ],
      "metadata": {
        "colab": {
          "base_uri": "https://localhost:8080/"
        },
        "id": "TKx_xJdVaip_",
        "outputId": "c27532d1-6c72-4fc6-dc36-94e4775ce7a5"
      },
      "execution_count": 14,
      "outputs": [
        {
          "output_type": "execute_result",
          "data": {
            "text/plain": [
              "array([1., 1., 1.])"
            ]
          },
          "metadata": {},
          "execution_count": 14
        }
      ]
    },
    {
      "cell_type": "markdown",
      "source": [
        "##Manipolazione degli array NumPy\n",
        "\n",
        "La manipolazione dei dati in Python è quasi sinonimo di manipolazione di array NumPy. Nelle sezioni successive si fornirannole basi per la manipolazione degli array NumPy per accedere ai dati e ai subarray, nonché per dividere, rimodellare e unire gli array."
      ],
      "metadata": {
        "id": "5uv5J1huay2F"
      }
    },
    {
      "cell_type": "markdown",
      "source": [
        "###Attributi degli array NumPy\n",
        "\n",
        "Ogni array ha degli attributi, tra cui `ndim` (il numero di dimensioni), `shape` (la dimensione di ogni dimensione), `size` (la dimensione totale dell'array) e `dtype` (il tipo di ogni elemento)."
      ],
      "metadata": {
        "id": "tDFHm2nkbRcc"
      }
    },
    {
      "cell_type": "code",
      "source": [
        "x = np.random.random((3, 3))\n",
        "\n",
        "print(\"x ndim: \", x.ndim)\n",
        "print(\"x shape:\", x.shape)\n",
        "print(\"x size: \", x.size)\n",
        "print(\"dtype:   \", x.dtype)"
      ],
      "metadata": {
        "colab": {
          "base_uri": "https://localhost:8080/"
        },
        "id": "1DPigcKUbrEW",
        "outputId": "700544ae-a5b9-4f14-856f-c37b1e193ff5"
      },
      "execution_count": 15,
      "outputs": [
        {
          "output_type": "stream",
          "name": "stdout",
          "text": [
            "x ndim:  2\n",
            "x shape: (3, 3)\n",
            "x size:  9\n",
            "dtype:    float64\n"
          ]
        }
      ]
    },
    {
      "cell_type": "markdown",
      "source": [
        "###Indicizzazione di un array: accedere ad un elemento singolo\n",
        "\n",
        "In un array monodimensionale, si può accedere al valore i-esimo (contando da zero) specificando l'indice desiderato tra parentesi quadre, proprio come avviene con le liste Python."
      ],
      "metadata": {
        "id": "alJwe2Qob9ij"
      }
    },
    {
      "cell_type": "code",
      "source": [
        "x1 = np.arange(0, 20, 2)\n",
        "x1"
      ],
      "metadata": {
        "colab": {
          "base_uri": "https://localhost:8080/"
        },
        "id": "SWl0a11_cUhk",
        "outputId": "0f0938db-0db7-460c-8ba3-266693cd3ac1"
      },
      "execution_count": 16,
      "outputs": [
        {
          "output_type": "execute_result",
          "data": {
            "text/plain": [
              "array([ 0,  2,  4,  6,  8, 10, 12, 14, 16, 18])"
            ]
          },
          "metadata": {},
          "execution_count": 16
        }
      ]
    },
    {
      "cell_type": "code",
      "source": [
        "x1[0]"
      ],
      "metadata": {
        "colab": {
          "base_uri": "https://localhost:8080/"
        },
        "id": "UapsMvIIcjoi",
        "outputId": "b2c62080-c34f-4bb6-a1d8-2a55b0834f45"
      },
      "execution_count": 17,
      "outputs": [
        {
          "output_type": "execute_result",
          "data": {
            "text/plain": [
              "0"
            ]
          },
          "metadata": {},
          "execution_count": 17
        }
      ]
    },
    {
      "cell_type": "code",
      "source": [
        "x1[6]"
      ],
      "metadata": {
        "colab": {
          "base_uri": "https://localhost:8080/"
        },
        "id": "bD5ERO-QcmEc",
        "outputId": "559554d1-4a7e-44a9-f819-93af1341ab8b"
      },
      "execution_count": 18,
      "outputs": [
        {
          "output_type": "execute_result",
          "data": {
            "text/plain": [
              "12"
            ]
          },
          "metadata": {},
          "execution_count": 18
        }
      ]
    },
    {
      "cell_type": "markdown",
      "source": [
        "Per considerare gli indici a partire dalla fine di un array, occorre considerare valori negativi."
      ],
      "metadata": {
        "id": "ynHS-qtJcrUC"
      }
    },
    {
      "cell_type": "code",
      "source": [
        "x1[-1]"
      ],
      "metadata": {
        "colab": {
          "base_uri": "https://localhost:8080/"
        },
        "id": "N12EEwK2cxVQ",
        "outputId": "c87147b8-56a4-4945-d864-4eebd510bc4e"
      },
      "execution_count": 19,
      "outputs": [
        {
          "output_type": "execute_result",
          "data": {
            "text/plain": [
              "18"
            ]
          },
          "metadata": {},
          "execution_count": 19
        }
      ]
    },
    {
      "cell_type": "code",
      "source": [
        "x1[-4]"
      ],
      "metadata": {
        "colab": {
          "base_uri": "https://localhost:8080/"
        },
        "id": "KAuuzsKic0Ms",
        "outputId": "e8cb1d06-4b65-400d-c2b3-a656b0e5fbe9"
      },
      "execution_count": 20,
      "outputs": [
        {
          "output_type": "execute_result",
          "data": {
            "text/plain": [
              "12"
            ]
          },
          "metadata": {},
          "execution_count": 20
        }
      ]
    },
    {
      "cell_type": "markdown",
      "source": [
        "In un array multidimensionale, si può accedere ad un elemento utilizzando una tupla (riga, colonna)."
      ],
      "metadata": {
        "id": "JCKpcHjGc34i"
      }
    },
    {
      "cell_type": "code",
      "source": [
        "x"
      ],
      "metadata": {
        "colab": {
          "base_uri": "https://localhost:8080/"
        },
        "id": "AiYIjSH4dCJz",
        "outputId": "0988e02a-0fe9-450b-9878-e593f2b6a103"
      },
      "execution_count": 21,
      "outputs": [
        {
          "output_type": "execute_result",
          "data": {
            "text/plain": [
              "array([[0.07036125, 0.19617353, 0.63285949],\n",
              "       [0.05950769, 0.95026948, 0.58927738],\n",
              "       [0.59644454, 0.80391087, 0.64042185]])"
            ]
          },
          "metadata": {},
          "execution_count": 21
        }
      ]
    },
    {
      "cell_type": "code",
      "source": [
        "x[0,0]"
      ],
      "metadata": {
        "colab": {
          "base_uri": "https://localhost:8080/"
        },
        "id": "8f8O2JPtdD2C",
        "outputId": "b4731e6a-0e4e-453d-ac28-56ce1a4f0257"
      },
      "execution_count": 22,
      "outputs": [
        {
          "output_type": "execute_result",
          "data": {
            "text/plain": [
              "0.0703612530145582"
            ]
          },
          "metadata": {},
          "execution_count": 22
        }
      ]
    },
    {
      "cell_type": "code",
      "source": [
        "x[2,0]"
      ],
      "metadata": {
        "colab": {
          "base_uri": "https://localhost:8080/"
        },
        "id": "-2GWwglfdIV_",
        "outputId": "c065dde3-d110-4315-9a89-da207402ee0e"
      },
      "execution_count": 23,
      "outputs": [
        {
          "output_type": "execute_result",
          "data": {
            "text/plain": [
              "0.5964445379035209"
            ]
          },
          "metadata": {},
          "execution_count": 23
        }
      ]
    },
    {
      "cell_type": "code",
      "source": [
        "x[2,-1]"
      ],
      "metadata": {
        "colab": {
          "base_uri": "https://localhost:8080/"
        },
        "id": "5HUsNQondMIp",
        "outputId": "ae027ae7-fb34-472b-9a05-06a93b8dd7a3"
      },
      "execution_count": 24,
      "outputs": [
        {
          "output_type": "execute_result",
          "data": {
            "text/plain": [
              "0.6404218531642767"
            ]
          },
          "metadata": {},
          "execution_count": 24
        }
      ]
    },
    {
      "cell_type": "markdown",
      "source": [
        "È possibile modificare dei valori utilizzando gli indici."
      ],
      "metadata": {
        "id": "oQVVDF5BdPSm"
      }
    },
    {
      "cell_type": "code",
      "source": [
        "x[0,0] = 0.45\n",
        "x"
      ],
      "metadata": {
        "colab": {
          "base_uri": "https://localhost:8080/"
        },
        "id": "97tdDpTPdW85",
        "outputId": "163228cf-4968-4d7f-9265-fb470116fd30"
      },
      "execution_count": 25,
      "outputs": [
        {
          "output_type": "execute_result",
          "data": {
            "text/plain": [
              "array([[0.45      , 0.19617353, 0.63285949],\n",
              "       [0.05950769, 0.95026948, 0.58927738],\n",
              "       [0.59644454, 0.80391087, 0.64042185]])"
            ]
          },
          "metadata": {},
          "execution_count": 25
        }
      ]
    },
    {
      "cell_type": "markdown",
      "source": [
        "Si ricordi che il tipo dei dati contenuti in un array è fisso. Pertanto, se nell'array `x` precedente si proverà ad inserire un valore intero, esso sarà convertito nel corrispondente valore in virgola mobile."
      ],
      "metadata": {
        "id": "Af_bvzwbdfg-"
      }
    },
    {
      "cell_type": "code",
      "source": [
        "x[0,1] = 7\n",
        "x"
      ],
      "metadata": {
        "colab": {
          "base_uri": "https://localhost:8080/"
        },
        "id": "zla36wLHd0-w",
        "outputId": "eaf18e34-9a2c-4a16-9663-a7496b839d14"
      },
      "execution_count": 26,
      "outputs": [
        {
          "output_type": "execute_result",
          "data": {
            "text/plain": [
              "array([[0.45      , 7.        , 0.63285949],\n",
              "       [0.05950769, 0.95026948, 0.58927738],\n",
              "       [0.59644454, 0.80391087, 0.64042185]])"
            ]
          },
          "metadata": {},
          "execution_count": 26
        }
      ]
    },
    {
      "cell_type": "markdown",
      "source": [
        "###Slicing di un array: accedere a sotto-array\n",
        "\n",
        "Così come si possono usare le parentesi quadre per accedere ai singoli elementi di un array, si possono anche usarle per accedere a sotto-array con la notazione slice, contrassegnata dai due punti (:). La sintassi di NumPy per accedere a uno slice di un array `x`, è:\n",
        "\n",
        "`x[start:stop:step]`\n",
        "\n",
        "Se uno qualsiasi di questi valori non è specificato, i valori di default sono `start=0`, `stop=<numero di dimensioni>`, `step=1`."
      ],
      "metadata": {
        "id": "nTcNzl4DeB5O"
      }
    },
    {
      "cell_type": "markdown",
      "source": [
        "####Sotto-array ad una dimensione"
      ],
      "metadata": {
        "id": "GLlS_6BWrpuc"
      }
    },
    {
      "cell_type": "code",
      "source": [
        "x1"
      ],
      "metadata": {
        "colab": {
          "base_uri": "https://localhost:8080/"
        },
        "id": "oKA2dj6qr9DY",
        "outputId": "e1eeda01-0ad4-4c98-d295-407f364c7b33"
      },
      "execution_count": 27,
      "outputs": [
        {
          "output_type": "execute_result",
          "data": {
            "text/plain": [
              "array([ 0,  2,  4,  6,  8, 10, 12, 14, 16, 18])"
            ]
          },
          "metadata": {},
          "execution_count": 27
        }
      ]
    },
    {
      "cell_type": "code",
      "source": [
        "x1[:3]  # primi tre elementi"
      ],
      "metadata": {
        "colab": {
          "base_uri": "https://localhost:8080/"
        },
        "id": "4ziaV2sqsBCB",
        "outputId": "19a8a200-fd65-4ce3-b6df-5b482a8ee4b6"
      },
      "execution_count": 28,
      "outputs": [
        {
          "output_type": "execute_result",
          "data": {
            "text/plain": [
              "array([0, 2, 4])"
            ]
          },
          "metadata": {},
          "execution_count": 28
        }
      ]
    },
    {
      "cell_type": "code",
      "source": [
        "x1[3:]  # elementi dall'indice 3 in poi"
      ],
      "metadata": {
        "colab": {
          "base_uri": "https://localhost:8080/"
        },
        "id": "o2S1BHEvsKXq",
        "outputId": "ef508236-f092-4f3c-bbfa-b8eb538c1b18"
      },
      "execution_count": 29,
      "outputs": [
        {
          "output_type": "execute_result",
          "data": {
            "text/plain": [
              "array([ 6,  8, 10, 12, 14, 16, 18])"
            ]
          },
          "metadata": {},
          "execution_count": 29
        }
      ]
    },
    {
      "cell_type": "code",
      "source": [
        "x1[1:4]  # sotto-array centrale"
      ],
      "metadata": {
        "colab": {
          "base_uri": "https://localhost:8080/"
        },
        "id": "-jsr6gxGsS4Z",
        "outputId": "2e026172-df74-4138-c776-04b632b6f6e3"
      },
      "execution_count": 30,
      "outputs": [
        {
          "output_type": "execute_result",
          "data": {
            "text/plain": [
              "array([2, 4, 6])"
            ]
          },
          "metadata": {},
          "execution_count": 30
        }
      ]
    },
    {
      "cell_type": "code",
      "source": [
        "x1[::2]  # ogni 2 elementi, a partire dall'inizio"
      ],
      "metadata": {
        "colab": {
          "base_uri": "https://localhost:8080/"
        },
        "id": "_EXIwOMcsaAM",
        "outputId": "c18eee4d-52d0-4246-f1aa-97b3a5411080"
      },
      "execution_count": 31,
      "outputs": [
        {
          "output_type": "execute_result",
          "data": {
            "text/plain": [
              "array([ 0,  4,  8, 12, 16])"
            ]
          },
          "metadata": {},
          "execution_count": 31
        }
      ]
    },
    {
      "cell_type": "code",
      "source": [
        "x1[1::2]  # ogni 2 elementi, a partire dall'indice 1"
      ],
      "metadata": {
        "colab": {
          "base_uri": "https://localhost:8080/"
        },
        "id": "8Z1blv-TsgOd",
        "outputId": "b1aa82da-19a3-49ec-c5a3-24453d336655"
      },
      "execution_count": 32,
      "outputs": [
        {
          "output_type": "execute_result",
          "data": {
            "text/plain": [
              "array([ 2,  6, 10, 14, 18])"
            ]
          },
          "metadata": {},
          "execution_count": 32
        }
      ]
    },
    {
      "cell_type": "markdown",
      "source": [
        "Quando il valore di `step` è negativo, i valori predefiniti di `start` e `stop` vengono scambiati. Questo diventa un modo conveniente per invertire un array."
      ],
      "metadata": {
        "id": "dLNNvQDGsrDf"
      }
    },
    {
      "cell_type": "code",
      "source": [
        "x1[::-1]  # tutti gli elementi, in ordine inverso"
      ],
      "metadata": {
        "colab": {
          "base_uri": "https://localhost:8080/"
        },
        "id": "TMxlI32ssgQC",
        "outputId": "7b7d7c0f-b338-400f-906d-1d565712fbaf"
      },
      "execution_count": 33,
      "outputs": [
        {
          "output_type": "execute_result",
          "data": {
            "text/plain": [
              "array([18, 16, 14, 12, 10,  8,  6,  4,  2,  0])"
            ]
          },
          "metadata": {},
          "execution_count": 33
        }
      ]
    },
    {
      "cell_type": "code",
      "source": [
        "x1[4::-2]  # ogni 2 elementi, a partire dall'indice 4, in ordine inverso"
      ],
      "metadata": {
        "colab": {
          "base_uri": "https://localhost:8080/"
        },
        "id": "_zKYKZ_ys640",
        "outputId": "18cbdff5-1c71-4154-9da8-33bc8736334e"
      },
      "execution_count": 34,
      "outputs": [
        {
          "output_type": "execute_result",
          "data": {
            "text/plain": [
              "array([8, 4, 0])"
            ]
          },
          "metadata": {},
          "execution_count": 34
        }
      ]
    },
    {
      "cell_type": "markdown",
      "source": [
        "####Sottoarray-multidimensionali\n",
        "Il funzionamento è analogo, con slice multipli separati da virgole."
      ],
      "metadata": {
        "id": "7xBgETfPtDzE"
      }
    },
    {
      "cell_type": "code",
      "source": [
        "x"
      ],
      "metadata": {
        "colab": {
          "base_uri": "https://localhost:8080/"
        },
        "id": "Uqmxcn35tRXw",
        "outputId": "e97bca9f-91f4-4341-aef3-377758bd779e"
      },
      "execution_count": 35,
      "outputs": [
        {
          "output_type": "execute_result",
          "data": {
            "text/plain": [
              "array([[0.45      , 7.        , 0.63285949],\n",
              "       [0.05950769, 0.95026948, 0.58927738],\n",
              "       [0.59644454, 0.80391087, 0.64042185]])"
            ]
          },
          "metadata": {},
          "execution_count": 35
        }
      ]
    },
    {
      "cell_type": "code",
      "source": [
        "x[:2, :2]  # prime 2 righe e prime 2 colonne"
      ],
      "metadata": {
        "colab": {
          "base_uri": "https://localhost:8080/"
        },
        "id": "UGo8dGLMtTv-",
        "outputId": "c5fd4824-4224-4e73-dfca-b8058a675f0b"
      },
      "execution_count": 36,
      "outputs": [
        {
          "output_type": "execute_result",
          "data": {
            "text/plain": [
              "array([[0.45      , 7.        ],\n",
              "       [0.05950769, 0.95026948]])"
            ]
          },
          "metadata": {},
          "execution_count": 36
        }
      ]
    },
    {
      "cell_type": "code",
      "source": [
        "x[:3, ::2]  # prime 3 righe, ogni 2 colonne"
      ],
      "metadata": {
        "colab": {
          "base_uri": "https://localhost:8080/"
        },
        "id": "5Wyyo1u2thw0",
        "outputId": "2bac0460-c71c-4d6c-a0ea-432e10def559"
      },
      "execution_count": 37,
      "outputs": [
        {
          "output_type": "execute_result",
          "data": {
            "text/plain": [
              "array([[0.45      , 0.63285949],\n",
              "       [0.05950769, 0.58927738],\n",
              "       [0.59644454, 0.64042185]])"
            ]
          },
          "metadata": {},
          "execution_count": 37
        }
      ]
    },
    {
      "cell_type": "code",
      "source": [
        "x[::-1, ::-1]  # tutte le righe e le colonne, in ordine inverso"
      ],
      "metadata": {
        "colab": {
          "base_uri": "https://localhost:8080/"
        },
        "id": "JWQ6vl46tsHX",
        "outputId": "93150816-4b0c-4780-e13b-42551d16871d"
      },
      "execution_count": 38,
      "outputs": [
        {
          "output_type": "execute_result",
          "data": {
            "text/plain": [
              "array([[0.64042185, 0.80391087, 0.59644454],\n",
              "       [0.58927738, 0.95026948, 0.05950769],\n",
              "       [0.63285949, 7.        , 0.45      ]])"
            ]
          },
          "metadata": {},
          "execution_count": 38
        }
      ]
    },
    {
      "cell_type": "markdown",
      "source": [
        "####Accedere a righe e colonne di un array multidimensionale\n",
        "Una pratica frequentemente utilizzata è l'accesso a singole righe o colonne di un array. Questo può essere fatto combinando l'indicizzazione e lo slicing, utilizzando uno slice vuoto contrassegnato da un singolo `:`"
      ],
      "metadata": {
        "id": "gzhfo_PVt6ux"
      }
    },
    {
      "cell_type": "code",
      "source": [
        "x[:, 0]  # prima colonna"
      ],
      "metadata": {
        "colab": {
          "base_uri": "https://localhost:8080/"
        },
        "id": "K5x-Lj9XuWE7",
        "outputId": "766b4ea6-bdc0-450b-c3c1-233db938a21b"
      },
      "execution_count": 39,
      "outputs": [
        {
          "output_type": "execute_result",
          "data": {
            "text/plain": [
              "array([0.45      , 0.05950769, 0.59644454])"
            ]
          },
          "metadata": {},
          "execution_count": 39
        }
      ]
    },
    {
      "cell_type": "code",
      "source": [
        "x[0, :]  # prima riga"
      ],
      "metadata": {
        "colab": {
          "base_uri": "https://localhost:8080/"
        },
        "id": "Ef6EdadOudTF",
        "outputId": "1a73675a-83d0-4766-ff2b-13cb5766cdff"
      },
      "execution_count": 40,
      "outputs": [
        {
          "output_type": "execute_result",
          "data": {
            "text/plain": [
              "array([0.45      , 7.        , 0.63285949])"
            ]
          },
          "metadata": {},
          "execution_count": 40
        }
      ]
    },
    {
      "cell_type": "markdown",
      "source": [
        "Nel caso di accesso ad una riga, lo slice vuoto può essere omesso per ottenere una sintassi più compatta."
      ],
      "metadata": {
        "id": "De3QR70euwM2"
      }
    },
    {
      "cell_type": "code",
      "source": [
        "x[0]  # equivalente a x[0, :]"
      ],
      "metadata": {
        "colab": {
          "base_uri": "https://localhost:8080/"
        },
        "id": "JzXHMvnwu3Qj",
        "outputId": "03c94119-0194-4a89-f6f8-adedbe93881e"
      },
      "execution_count": 41,
      "outputs": [
        {
          "output_type": "execute_result",
          "data": {
            "text/plain": [
              "array([0.45      , 7.        , 0.63285949])"
            ]
          },
          "metadata": {},
          "execution_count": 41
        }
      ]
    }
  ]
}