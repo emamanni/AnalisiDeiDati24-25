{
  "nbformat": 4,
  "nbformat_minor": 0,
  "metadata": {
    "colab": {
      "provenance": [],
      "authorship_tag": "ABX9TyMN+WS0xFVO66ipS18yA5+I",
      "include_colab_link": true
    },
    "kernelspec": {
      "name": "python3",
      "display_name": "Python 3"
    },
    "language_info": {
      "name": "python"
    }
  },
  "cells": [
    {
      "cell_type": "markdown",
      "metadata": {
        "id": "view-in-github",
        "colab_type": "text"
      },
      "source": [
        "<a href=\"https://colab.research.google.com/github/emamanni/AnalisiDeiDati24-25/blob/main/14_RegressioneLineare_R2.ipynb\" target=\"_parent\"><img src=\"https://colab.research.google.com/assets/colab-badge.svg\" alt=\"Open In Colab\"/></a>"
      ]
    },
    {
      "cell_type": "markdown",
      "source": [
        "# Analisi di regressione: coefficiente di determinazione $R^2$\n",
        "\n",
        "In questo notebook si utilizzerà il coefficiente di determinazione $R^2$ per valutare la bontà di un modello di regressione."
      ],
      "metadata": {
        "id": "hqJxRKcU3c82"
      }
    },
    {
      "cell_type": "markdown",
      "source": [
        "L'analisi sarà condotta sul dataset sales_vs_ads.csv, contenente i dati su spesa in spot televisivi (attributo x1), spesa in spot sui giornali (attributo x2) e dati relativi alle vendite (attributo y). x1 e x2 saranno le variabili esplicative e y sarà la variabile target."
      ],
      "metadata": {
        "id": "h_hCfjI07jNR"
      }
    },
    {
      "cell_type": "code",
      "source": [
        "# \"Montiamo\" il drive per poter accedere al file\n",
        "from google.colab import drive\n",
        "drive.mount(\"/content/drive\", force_remount=True)\n",
        "\n",
        "import os\n",
        "\n",
        "# Percorso alla directory che contiene i file da utilizzare\n",
        "# Percorso da modificare in base alla propria macchina\n",
        "folder_path = '/content/drive/MyDrive/Colab Notebooks/Notebook Corso Analisi dei Dati/FileDiSupporto'"
      ],
      "metadata": {
        "id": "_yDKLzJpP6iT",
        "colab": {
          "base_uri": "https://localhost:8080/"
        },
        "outputId": "41ac1a9b-a9e4-439d-c83f-105a0cf787b7"
      },
      "execution_count": 1,
      "outputs": [
        {
          "output_type": "stream",
          "name": "stdout",
          "text": [
            "Mounted at /content/drive\n"
          ]
        }
      ]
    },
    {
      "cell_type": "code",
      "source": [
        "file_path_csv = os.path.join(folder_path, 'sales_vs_ads.csv')\n",
        "\n",
        "import pandas as pd\n",
        "\n",
        "# leggiamo il dataset\n",
        "data = pd.read_csv(file_path_csv, header=0)"
      ],
      "metadata": {
        "id": "ZIuxYoxyQokw"
      },
      "execution_count": 2,
      "outputs": []
    },
    {
      "cell_type": "code",
      "source": [
        "# estraiamo le colonne delle variabili esplicative, della variabile target e il numero di osservazioni\n",
        "X = data[['x1', 'x2']].values\n",
        "y = data['y'].values\n",
        "m = len(y)\n",
        "print(\"Variabili esplicative:\\n\", X, \"\\n\")\n",
        "print(\"Variabile target:\\n\", y, \"\\n\")\n",
        "print(\"Numero di osservazioni:\", m)"
      ],
      "metadata": {
        "id": "dkeicKveR2DV",
        "colab": {
          "base_uri": "https://localhost:8080/"
        },
        "outputId": "cadbc448-66ca-4514-da08-9f5f47df940f"
      },
      "execution_count": 3,
      "outputs": [
        {
          "output_type": "stream",
          "name": "stdout",
          "text": [
            "Variabili esplicative:\n",
            " [[ 2.96  4.45]\n",
            " [ 5.25  0.64]\n",
            " [ 0.9   5.01]\n",
            " [ 6.77  5.07]\n",
            " [ 5.72  3.27]\n",
            " [ 5.69  6.01]\n",
            " [11.76  6.45]\n",
            " [ 6.03  6.81]\n",
            " [ 6.02  7.19]\n",
            " [ 6.06 13.26]\n",
            " [18.46  7.94]\n",
            " [ 6.52 21.38]\n",
            " [ 6.58  8.64]\n",
            " [ 8.51 11.73]\n",
            " [ 6.89  9.33]\n",
            " [ 6.63  9.71]\n",
            " [ 6.9   8.3 ]\n",
            " [ 6.69 10.4 ]\n",
            " [ 7.38 10.79]\n",
            " [ 7.5  10.93]] \n",
            "\n",
            "Variabile target:\n",
            " [ 371.88  484.55   85.47  613.85  531.31  628.3  1167.89  626.87  724.01\n",
            "  817.08 1325.71 1064.86  802.38  934.75  774.84  920.35  835.48  755.61\n",
            "  814.83  826.21] \n",
            "\n",
            "Numero di osservazioni: 20\n"
          ]
        }
      ]
    },
    {
      "cell_type": "markdown",
      "source": [
        "## Calcolo del coefficiente di determinazione $R^2$\n",
        "\n",
        "Il coefficiente $R^2$ si ottiene come:\n",
        "\n",
        "$$\n",
        "R^2 = \\frac{SSE_B - SSE_R}{SSE_B}\n",
        "$$\n",
        "\n",
        "dove:\n",
        "\n",
        "\n",
        "*   $SSE_B$ rappresenta il valore SSE per un modello baseline in cui la variabile $y$ è stimata come $y=\\overline{y}$, con $\\overline{y}=\\frac{1}{m}\\sum_{i=1}^m y_i$;\n",
        "*   $SSE_R$ rappresenta il valore SSE per il modello di regressione considerato."
      ],
      "metadata": {
        "id": "RKjflUeb4K8g"
      }
    },
    {
      "cell_type": "markdown",
      "source": [
        "Calcoliamo, in primo luogo, il valore $\\overline{y}$ da utilizzare come baseline e poi calcoliamo il valore $SSE_B = \\sum_{i=1}^m (y_i - \\overline{y})^2$."
      ],
      "metadata": {
        "id": "re4kRstngYWe"
      }
    },
    {
      "cell_type": "code",
      "source": [
        "# calcolo del valore medio di y per la baseline\n",
        "y_medio = 0\n",
        "for i in y:\n",
        "  y_medio += i\n",
        "y_medio /= m\n",
        "\n",
        "print(\"y_medio = \", y_medio)\n",
        "\n",
        "# calcolo di SSE_B come somma degli errori quadratici\n",
        "# per ogni osservazione, e_i = y_i - y_medio\n",
        "SSE_B = 0\n",
        "for i in y:\n",
        "  SSE_B += (i - y_medio)**2\n",
        "\n",
        "print(\"SSE_B = \", SSE_B)"
      ],
      "metadata": {
        "id": "c0zQrcMQYfNl",
        "colab": {
          "base_uri": "https://localhost:8080/"
        },
        "outputId": "eed483e6-1307-4171-ce5e-5c3097ff83d3"
      },
      "execution_count": 4,
      "outputs": [
        {
          "output_type": "stream",
          "name": "stdout",
          "text": [
            "y_medio =  755.3115\n",
            "SSE_B =  1445055.995455\n"
          ]
        }
      ]
    },
    {
      "cell_type": "markdown",
      "source": [
        "Calcoliamo, ora, il valore $SSE_R$ del modello di regressione ottenuto con il metodo OLS. Utilizziamo, a tale scopo, le funzionalità di `NumPy`."
      ],
      "metadata": {
        "id": "14kwycBhg17D"
      }
    },
    {
      "cell_type": "code",
      "source": [
        "import numpy as np\n",
        "\n",
        "# crea un array con m 1\n",
        "ones = np.ones(m)\n",
        "# Trasforma ones in un array colonna (matrice m x 1), per poterlo concatenare\n",
        "# orizzontalmente ad altre colonne\n",
        "ones = ones.reshape(m,1)\n",
        "\n",
        "# Costruisce la matrice X aumentata concatenando:\n",
        "# la colonna di 1 (per il termine noto),\n",
        "# la matrice X originaria composta dalle colonne x1 e x2\n",
        "# axis=1 concatena per colonne\n",
        "X_mod = np.concatenate((ones, X), axis=1)\n",
        "\n",
        "# risoluzione con np.linalg.lstsq\n",
        "w, SSE_R = np.linalg.lstsq(X_mod, y)[0:2]\n",
        "\n",
        "print('I parametri ottenuti con il metodo OLS (utilizzando np.linalg.lstsq) sono:', w)\n",
        "print('SSE_R è:', SSE_R)"
      ],
      "metadata": {
        "colab": {
          "base_uri": "https://localhost:8080/"
        },
        "id": "xKEnxogRfYhg",
        "outputId": "47e13c4e-8739-4ec5-9d89-e28bcd81507b"
      },
      "execution_count": 5,
      "outputs": [
        {
          "output_type": "stream",
          "name": "stdout",
          "text": [
            "I parametri ottenuti con il metodo OLS (utilizzando np.linalg.lstsq) sono: [85.25180493 64.09398845 26.76486062]\n",
            "SSE_R è: [132073.17200989]\n"
          ]
        }
      ]
    },
    {
      "cell_type": "markdown",
      "source": [
        "Infine, calcoliamo il valore $R^2$."
      ],
      "metadata": {
        "id": "K7i9Qb-bhXnb"
      }
    },
    {
      "cell_type": "code",
      "source": [
        "# calcolo di R^2\n",
        "R2 = (SSE_B - SSE_R) / SSE_B\n",
        "\n",
        "print(\"R^2 = \", R2)"
      ],
      "metadata": {
        "colab": {
          "base_uri": "https://localhost:8080/"
        },
        "id": "U-DqAQ0Dkqf0",
        "outputId": "9fc6ea64-910c-4d4a-b18d-eb3d8c286153"
      },
      "execution_count": 6,
      "outputs": [
        {
          "output_type": "stream",
          "name": "stdout",
          "text": [
            "R^2 =  [0.90860342]\n"
          ]
        }
      ]
    },
    {
      "cell_type": "markdown",
      "source": [
        "Abbiamo ottenuto $R^2 = 0.91$. Ciò significa che il modello di regressione LSE consente di ridurre del 91% il valore di SSE rispetto alla baseline.\n"
      ],
      "metadata": {
        "id": "BIYEPfTwhxOS"
      }
    },
    {
      "cell_type": "markdown",
      "source": [
        "## Calcolo di $R^2$ in presenza di un solo regressore\n",
        "\n",
        "In questa sezione, calcoliamo il valore $R^2$ utilizzando un modello di regressione semplice con un solo regressore (ad esempio, $x_1$) e verifichiamo che il valore diminuisce rispetto al caso precedente con due regressori."
      ],
      "metadata": {
        "id": "g4iJdu5ojow-"
      }
    },
    {
      "cell_type": "code",
      "source": [
        "# Costruisce la matrice X aumentata concatenando:\n",
        "# la colonna di 1 (per il termine noto),\n",
        "# la matrice X originaria composta dalla sola colonna x1\n",
        "# axis=1 concatena per colonne\n",
        "X_mod = np.concatenate((ones, data[['x1']].values), axis=1)\n",
        "\n",
        "# risoluzione con np.linalg.lstsq\n",
        "w, SSE_R_1regressore = np.linalg.lstsq(X_mod, y)[0:2]\n",
        "\n",
        "print('I parametri ottenuti con il metodo OLS (utilizzando np.linalg.lstsq) sono:', w)\n",
        "print('Valore di SSE_R con un solo regressore:', SSE_R_1regressore)"
      ],
      "metadata": {
        "colab": {
          "base_uri": "https://localhost:8080/"
        },
        "id": "mdT6V0xikDg_",
        "outputId": "df371199-0f4b-404b-ab9d-04d321398f67"
      },
      "execution_count": 7,
      "outputs": [
        {
          "output_type": "stream",
          "name": "stdout",
          "text": [
            "I parametri ottenuti con il metodo OLS (utilizzando np.linalg.lstsq) sono: [271.96200112  69.43679053]\n",
            "Valore di SSE_R con un solo regressore: [383939.72669789]\n"
          ]
        }
      ]
    },
    {
      "cell_type": "markdown",
      "source": [
        "Calcolo di $R^2$."
      ],
      "metadata": {
        "id": "X0WVnvEglPwB"
      }
    },
    {
      "cell_type": "code",
      "source": [
        "# calcolo di R^2 per un modello con un solo regressore\n",
        "R2_1regressore = (SSE_B - SSE_R_1regressore) / SSE_B\n",
        "\n",
        "print(\"R^2 = \", R2_1regressore)"
      ],
      "metadata": {
        "colab": {
          "base_uri": "https://localhost:8080/"
        },
        "id": "t9yDXl5ilKHp",
        "outputId": "90caa562-9426-4a7f-8b7c-1e1afed94fc7"
      },
      "execution_count": 8,
      "outputs": [
        {
          "output_type": "stream",
          "name": "stdout",
          "text": [
            "R^2 =  [0.73430806]\n"
          ]
        }
      ]
    },
    {
      "cell_type": "markdown",
      "source": [
        "Abbiamo ottenuto $R^2 = 0.73$, un valore minore rispetto a 0.91 ottenuto considerando due regresori. Ciò conferma che, aumentando il numero di regressori, anche non tutti correlati alla variabile target, il coefficiente di determinazione aumenta."
      ],
      "metadata": {
        "id": "DhfbZab5lhnw"
      }
    },
    {
      "cell_type": "markdown",
      "source": [
        "##Legame tra coefficiente di Pearson $r$ e coefficiente di determinazione $R^2$\n",
        "\n",
        "Verifichiamo che il coefficiente di Pearson $r$, elevato al quadrato, coincide con $R^2$."
      ],
      "metadata": {
        "id": "2mQdR2c1y7M4"
      }
    },
    {
      "cell_type": "code",
      "source": [
        "XY = data[['x1', 'y']]\n",
        "\n",
        "pearson_corr = XY.corr(method='pearson')\n",
        "\n",
        "correlazione = pearson_corr.at['x1', 'y']\n",
        "\n",
        "print(\"La correlazione r tra x1 e y è:\", correlazione, \"\\n\")\n",
        "\n",
        "print(\"Il valore di r^2 è:\", correlazione**2)"
      ],
      "metadata": {
        "colab": {
          "base_uri": "https://localhost:8080/"
        },
        "id": "xDY7QsZ2w7Us",
        "outputId": "a7cbe3d7-f33f-486c-d76f-7bb780562e6b"
      },
      "execution_count": 13,
      "outputs": [
        {
          "output_type": "stream",
          "name": "stdout",
          "text": [
            "La correlazione r tra x1 e y è: 0.8569177690228732 \n",
            "\n",
            "Il valore di r^2 è: 0.7343080628671382\n"
          ]
        }
      ]
    }
  ]
}